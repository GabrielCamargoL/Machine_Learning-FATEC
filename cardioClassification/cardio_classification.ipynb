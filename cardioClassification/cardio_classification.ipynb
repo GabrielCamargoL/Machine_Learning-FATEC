{
  "nbformat": 4,
  "nbformat_minor": 0,
  "metadata": {
    "colab": {
      "provenance": []
    },
    "kernelspec": {
      "name": "python3",
      "display_name": "Python 3"
    },
    "language_info": {
      "name": "python"
    },
    "widgets": {
      "application/vnd.jupyter.widget-state+json": {
        "ef5b7d922b9749eb858499f2c5fed923": {
          "model_module": "catboost-widget",
          "model_name": "CatboostWidgetModel",
          "model_module_version": "^1.0.0",
          "state": {
            "_dom_classes": [],
            "_model_module": "catboost-widget",
            "_model_module_version": "^1.0.0",
            "_model_name": "CatboostWidgetModel",
            "_view_count": null,
            "_view_module": "catboost-widget",
            "_view_module_version": "^1.0.0",
            "_view_name": "CatboostWidgetView",
            "data": {
              "catboost_info": {
                "path": "catboost_info",
                "name": "catboost_info",
                "content": {
                  "passed_iterations": 999,
                  "total_iterations": 1000,
                  "data": {
                    "iterations": [
                      {
                        "learn": [
                          0.6711358583,
                          0.7618948767
                        ],
                        "iteration": 0,
                        "passed_time": 0.1461094375,
                        "remaining_time": 145.9633281,
                        "test": [
                          0.670402422,
                          0.766817648
                        ]
                      },
                      {
                        "learn": [
                          0.6527858844,
                          0.7495036137
                        ],
                        "iteration": 1,
                        "passed_time": 0.1980039333,
                        "remaining_time": 98.80396272,
                        "test": [
                          0.6514303892,
                          0.7530923695
                        ]
                      },
                      {
                        "learn": [
                          0.6376841826,
                          0.7493357656
                        ],
                        "iteration": 2,
                        "passed_time": 0.2927182961,
                        "remaining_time": 97.28004706,
                        "test": [
                          0.6356690207,
                          0.7529714102
                        ]
                      },
                      {
                        "learn": [
                          0.6252301403,
                          0.7493158834
                        ],
                        "iteration": 3,
                        "passed_time": 0.3892880779,
                        "remaining_time": 96.9327314,
                        "test": [
                          0.6228064304,
                          0.7530110808
                        ]
                      },
                      {
                        "learn": [
                          0.6145268048,
                          0.7496228662
                        ],
                        "iteration": 4,
                        "passed_time": 0.65165601,
                        "remaining_time": 129.679546,
                        "test": [
                          0.6117705656,
                          0.7536581444
                        ]
                      },
                      {
                        "learn": [
                          0.6058792191,
                          0.7496526813
                        ],
                        "iteration": 5,
                        "passed_time": 0.8621196901,
                        "remaining_time": 142.8244953,
                        "test": [
                          0.6026868859,
                          0.7537769206
                        ]
                      },
                      {
                        "learn": [
                          0.5985108096,
                          0.7498312354
                        ],
                        "iteration": 6,
                        "passed_time": 1.082370074,
                        "remaining_time": 153.5419262,
                        "test": [
                          0.5950623818,
                          0.7538980871
                        ]
                      },
                      {
                        "learn": [
                          0.5922104703,
                          0.7500298009
                        ],
                        "iteration": 7,
                        "passed_time": 1.302897117,
                        "remaining_time": 161.5592425,
                        "test": [
                          0.5885859733,
                          0.7543859649
                        ]
                      },
                      {
                        "learn": [
                          0.5871963019,
                          0.7501788127
                        ],
                        "iteration": 8,
                        "passed_time": 1.452423312,
                        "remaining_time": 159.9279447,
                        "test": [
                          0.5833491693,
                          0.7542222937
                        ]
                      },
                      {
                        "learn": [
                          0.5827850507,
                          0.7502384738
                        ],
                        "iteration": 9,
                        "passed_time": 1.748289971,
                        "remaining_time": 173.0807071,
                        "test": [
                          0.5788021071,
                          0.7542645639
                        ]
                      },
                      {
                        "learn": [
                          0.5791612239,
                          0.7502683363
                        ],
                        "iteration": 10,
                        "passed_time": 1.962025209,
                        "remaining_time": 176.4039029,
                        "test": [
                          0.5750174688,
                          0.754304103
                        ]
                      },
                      {
                        "learn": [
                          0.5760944021,
                          0.7506963788
                        ],
                        "iteration": 11,
                        "passed_time": 2.172653942,
                        "remaining_time": 178.8818412,
                        "test": [
                          0.5717454637,
                          0.7549145988
                        ]
                      },
                      {
                        "learn": [
                          0.5737789127,
                          0.7506365372
                        ],
                        "iteration": 12,
                        "passed_time": 2.324059235,
                        "remaining_time": 176.4497281,
                        "test": [
                          0.5692949689,
                          0.7547109035
                        ]
                      },
                      {
                        "learn": [
                          0.5716937834,
                          0.7510355265
                        ],
                        "iteration": 13,
                        "passed_time": 2.475026242,
                        "remaining_time": 174.3125625,
                        "test": [
                          0.567046131,
                          0.7550362611
                        ]
                      },
                      {
                        "learn": [
                          0.5697524863,
                          0.7513246484
                        ],
                        "iteration": 14,
                        "passed_time": 2.69180178,
                        "remaining_time": 176.7616503,
                        "test": [
                          0.565121204,
                          0.7549145988
                        ]
                      },
                      {
                        "learn": [
                          0.5681237512,
                          0.7511348252
                        ],
                        "iteration": 15,
                        "passed_time": 2.8995758,
                        "remaining_time": 178.3239117,
                        "test": [
                          0.5632742347,
                          0.7544254908
                        ]
                      },
                      {
                        "learn": [
                          0.5666232516,
                          0.7512749004
                        ],
                        "iteration": 16,
                        "passed_time": 3.06541598,
                        "remaining_time": 177.2531711,
                        "test": [
                          0.5614876535,
                          0.7544678796
                        ]
                      },
                      {
                        "learn": [
                          0.5653070198,
                          0.7518452025
                        ],
                        "iteration": 17,
                        "passed_time": 3.244226097,
                        "remaining_time": 176.9905571,
                        "test": [
                          0.5600321642,
                          0.7550362611
                        ]
                      },
                      {
                        "learn": [
                          0.5641421397,
                          0.7517849308
                        ],
                        "iteration": 18,
                        "passed_time": 3.372000687,
                        "remaining_time": 174.1017197,
                        "test": [
                          0.5586632072,
                          0.7549145988
                        ]
                      },
                      {
                        "learn": [
                          0.5632184087,
                          0.7526486227
                        ],
                        "iteration": 19,
                        "passed_time": 3.560738347,
                        "remaining_time": 174.476179,
                        "test": [
                          0.557726107,
                          0.7557350565
                        ]
                      },
                      {
                        "learn": [
                          0.5622896026,
                          0.7527577938
                        ],
                        "iteration": 20,
                        "passed_time": 3.82140607,
                        "remaining_time": 178.1503115,
                        "test": [
                          0.5567243961,
                          0.7554874112
                        ]
                      },
                      {
                        "learn": [
                          0.5614345343,
                          0.7543260931
                        ],
                        "iteration": 21,
                        "passed_time": 4.038183823,
                        "remaining_time": 179.5156263,
                        "test": [
                          0.5556917533,
                          0.7574626866
                        ]
                      },
                      {
                        "learn": [
                          0.5607267345,
                          0.7531807634
                        ],
                        "iteration": 22,
                        "passed_time": 4.232988658,
                        "remaining_time": 179.8099965,
                        "test": [
                          0.5549264507,
                          0.7558966074
                        ]
                      },
                      {
                        "learn": [
                          0.5599427594,
                          0.7541207139
                        ],
                        "iteration": 23,
                        "passed_time": 4.429725365,
                        "remaining_time": 180.1421649,
                        "test": [
                          0.5541461362,
                          0.7565597668
                        ]
                      },
                      {
                        "learn": [
                          0.5593292617,
                          0.7561526668
                        ],
                        "iteration": 24,
                        "passed_time": 4.708087584,
                        "remaining_time": 183.6154158,
                        "test": [
                          0.5534949518,
                          0.7601500082
                        ]
                      },
                      {
                        "learn": [
                          0.5586789184,
                          0.7576519236
                        ],
                        "iteration": 25,
                        "passed_time": 4.951644468,
                        "remaining_time": 185.4962197,
                        "test": [
                          0.5528395262,
                          0.7613505983
                        ]
                      },
                      {
                        "learn": [
                          0.5581739161,
                          0.7583546514
                        ],
                        "iteration": 26,
                        "passed_time": 5.192634587,
                        "remaining_time": 187.1271649,
                        "test": [
                          0.5523425305,
                          0.7622331691
                        ]
                      },
                      {
                        "learn": [
                          0.5577824045,
                          0.7587608749
                        ],
                        "iteration": 27,
                        "passed_time": 5.456153554,
                        "remaining_time": 189.4064734,
                        "test": [
                          0.5519271278,
                          0.7617091208
                        ]
                      },
                      {
                        "learn": [
                          0.5574937963,
                          0.7592999593
                        ],
                        "iteration": 28,
                        "passed_time": 5.709407699,
                        "remaining_time": 191.1667199,
                        "test": [
                          0.5516653366,
                          0.76276771
                        ]
                      },
                      {
                        "learn": [
                          0.5570858995,
                          0.7601028655
                        ],
                        "iteration": 29,
                        "passed_time": 5.916221115,
                        "remaining_time": 191.2911494,
                        "test": [
                          0.551277355,
                          0.7631144837
                        ]
                      },
                      {
                        "learn": [
                          0.5567480813,
                          0.7620160761
                        ],
                        "iteration": 30,
                        "passed_time": 6.177906942,
                        "remaining_time": 193.1094138,
                        "test": [
                          0.5509740349,
                          0.762927474
                        ]
                      },
                      {
                        "learn": [
                          0.556405799,
                          0.7624953797
                        ],
                        "iteration": 31,
                        "passed_time": 6.332990148,
                        "remaining_time": 191.572952,
                        "test": [
                          0.5506918646,
                          0.7630316068
                        ]
                      },
                      {
                        "learn": [
                          0.5560780269,
                          0.7630766698
                        ],
                        "iteration": 32,
                        "passed_time": 6.511920784,
                        "remaining_time": 190.8190121,
                        "test": [
                          0.5504325035,
                          0.7635459818
                        ]
                      },
                      {
                        "learn": [
                          0.5558695256,
                          0.7633952473
                        ],
                        "iteration": 33,
                        "passed_time": 6.710541581,
                        "remaining_time": 190.6583285,
                        "test": [
                          0.5502573392,
                          0.7636333499
                        ]
                      },
                      {
                        "learn": [
                          0.5554957754,
                          0.7640672089
                        ],
                        "iteration": 34,
                        "passed_time": 7.058495547,
                        "remaining_time": 194.6128058,
                        "test": [
                          0.550013238,
                          0.7644614362
                        ]
                      },
                      {
                        "learn": [
                          0.5552329195,
                          0.7642296572
                        ],
                        "iteration": 35,
                        "passed_time": 7.353851073,
                        "remaining_time": 196.9197898,
                        "test": [
                          0.5497798723,
                          0.7649409023
                        ]
                      },
                      {
                        "learn": [
                          0.5549602647,
                          0.764764268
                        ],
                        "iteration": 36,
                        "passed_time": 7.730455994,
                        "remaining_time": 201.2007871,
                        "test": [
                          0.5495027335,
                          0.7650391601
                        ]
                      },
                      {
                        "learn": [
                          0.5547318693,
                          0.7642179117
                        ],
                        "iteration": 37,
                        "passed_time": 8.216480711,
                        "remaining_time": 208.0066959,
                        "test": [
                          0.5492457349,
                          0.7647547797
                        ]
                      },
                      {
                        "learn": [
                          0.5545097966,
                          0.7644145446
                        ],
                        "iteration": 38,
                        "passed_time": 8.868583635,
                        "remaining_time": 218.5309968,
                        "test": [
                          0.5491114196,
                          0.7650091468
                        ]
                      },
                      {
                        "learn": [
                          0.5542394482,
                          0.7643104586
                        ],
                        "iteration": 39,
                        "passed_time": 9.303072329,
                        "remaining_time": 223.2737359,
                        "test": [
                          0.5488118499,
                          0.7649892045
                        ]
                      },
                      {
                        "learn": [
                          0.5540268066,
                          0.7646451293
                        ],
                        "iteration": 40,
                        "passed_time": 9.569423336,
                        "remaining_time": 223.8311458,
                        "test": [
                          0.5486439719,
                          0.7651464714
                        ]
                      },
                      {
                        "learn": [
                          0.5538840842,
                          0.7645891883
                        ],
                        "iteration": 41,
                        "passed_time": 10.09853641,
                        "remaining_time": 230.3428067,
                        "test": [
                          0.5484853649,
                          0.7652738472
                        ]
                      },
                      {
                        "learn": [
                          0.5537329185,
                          0.7644411413
                        ],
                        "iteration": 42,
                        "passed_time": 10.7782364,
                        "remaining_time": 239.878424,
                        "test": [
                          0.5483652389,
                          0.7648329732
                        ]
                      },
                      {
                        "learn": [
                          0.5536154448,
                          0.7646160198
                        ],
                        "iteration": 43,
                        "passed_time": 11.34229497,
                        "remaining_time": 246.4371363,
                        "test": [
                          0.5482091689,
                          0.7649601064
                        ]
                      },
                      {
                        "learn": [
                          0.5534754542,
                          0.7646961623
                        ],
                        "iteration": 44,
                        "passed_time": 11.63941773,
                        "remaining_time": 247.0143097,
                        "test": [
                          0.5480354422,
                          0.7651073747
                        ]
                      },
                      {
                        "learn": [
                          0.5533446758,
                          0.764642754
                        ],
                        "iteration": 45,
                        "passed_time": 11.86355459,
                        "remaining_time": 246.039806,
                        "test": [
                          0.5479799676,
                          0.7654197839
                        ]
                      },
                      {
                        "learn": [
                          0.5533056908,
                          0.7647495975
                        ],
                        "iteration": 46,
                        "passed_time": 12.04149807,
                        "remaining_time": 244.1605884,
                        "test": [
                          0.547926576,
                          0.7652925532
                        ]
                      },
                      {
                        "learn": [
                          0.5531539179,
                          0.7647957078
                        ],
                        "iteration": 47,
                        "passed_time": 12.58054333,
                        "remaining_time": 249.5141095,
                        "test": [
                          0.5477975847,
                          0.7645691516
                        ]
                      },
                      {
                        "learn": [
                          0.5530181315,
                          0.7649219846
                        ],
                        "iteration": 48,
                        "passed_time": 12.85811162,
                        "remaining_time": 249.5523297,
                        "test": [
                          0.5477477114,
                          0.7650382187
                        ]
                      },
                      {
                        "learn": [
                          0.5528478146,
                          0.7650823801
                        ],
                        "iteration": 49,
                        "passed_time": 13.14714004,
                        "remaining_time": 249.7956608,
                        "test": [
                          0.5476369337,
                          0.7647547797
                        ]
                      },
                      {
                        "learn": [
                          0.5526890462,
                          0.7651164712
                        ],
                        "iteration": 50,
                        "passed_time": 13.50896601,
                        "remaining_time": 251.3727204,
                        "test": [
                          0.5474660899,
                          0.7643639987
                        ]
                      },
                      {
                        "learn": [
                          0.5525013665,
                          0.7653571281
                        ],
                        "iteration": 51,
                        "passed_time": 13.80845375,
                        "remaining_time": 251.7387337,
                        "test": [
                          0.5473359521,
                          0.7644126931
                        ]
                      },
                      {
                        "learn": [
                          0.5523597819,
                          0.7652622883
                        ],
                        "iteration": 52,
                        "passed_time": 14.00721122,
                        "remaining_time": 250.2797929,
                        "test": [
                          0.5472721192,
                          0.7650091468
                        ]
                      },
                      {
                        "learn": [
                          0.5522462832,
                          0.7657445313
                        ],
                        "iteration": 53,
                        "passed_time": 14.18000994,
                        "remaining_time": 248.4127667,
                        "test": [
                          0.5471528627,
                          0.7656848061
                        ]
                      },
                      {
                        "learn": [
                          0.5521095277,
                          0.765773588
                        ],
                        "iteration": 54,
                        "passed_time": 14.4017815,
                        "remaining_time": 247.4487913,
                        "test": [
                          0.5470526053,
                          0.7655080659
                        ]
                      },
                      {
                        "learn": [
                          0.5519872551,
                          0.7659055183
                        ],
                        "iteration": 55,
                        "passed_time": 14.67895956,
                        "remaining_time": 247.4453183,
                        "test": [
                          0.546988876,
                          0.7653129161
                        ]
                      },
                      {
                        "learn": [
                          0.5518567263,
                          0.766083323
                        ],
                        "iteration": 56,
                        "passed_time": 14.98936351,
                        "remaining_time": 247.9819261,
                        "test": [
                          0.5469681143,
                          0.7652738472
                        ]
                      },
                      {
                        "learn": [
                          0.5517811818,
                          0.7662375295
                        ],
                        "iteration": 57,
                        "passed_time": 15.21914286,
                        "remaining_time": 247.179872,
                        "test": [
                          0.5468916631,
                          0.7657447517
                        ]
                      },
                      {
                        "learn": [
                          0.5516446002,
                          0.7664844268
                        ],
                        "iteration": 58,
                        "passed_time": 15.56002317,
                        "remaining_time": 248.1691831,
                        "test": [
                          0.5467991875,
                          0.765794299
                        ]
                      },
                      {
                        "learn": [
                          0.5514795118,
                          0.7667357084
                        ],
                        "iteration": 59,
                        "passed_time": 15.83923019,
                        "remaining_time": 248.1479396,
                        "test": [
                          0.54673572,
                          0.7656771181
                        ]
                      },
                      {
                        "learn": [
                          0.5513082026,
                          0.7670977369
                        ],
                        "iteration": 60,
                        "passed_time": 16.11252415,
                        "remaining_time": 248.027216,
                        "test": [
                          0.546656317,
                          0.7657762938
                        ]
                      },
                      {
                        "learn": [
                          0.5512340989,
                          0.7669858641
                        ],
                        "iteration": 61,
                        "passed_time": 16.36644154,
                        "remaining_time": 247.608422,
                        "test": [
                          0.5465771358,
                          0.7656484727
                        ]
                      },
                      {
                        "learn": [
                          0.5511546097,
                          0.767147715
                        ],
                        "iteration": 62,
                        "passed_time": 16.54571319,
                        "remaining_time": 246.084655,
                        "test": [
                          0.5465276767,
                          0.7657371848
                        ]
                      },
                      {
                        "learn": [
                          0.5509996493,
                          0.7672703162
                        ],
                        "iteration": 63,
                        "passed_time": 16.96535862,
                        "remaining_time": 248.1183699,
                        "test": [
                          0.5464556583,
                          0.7653929585
                        ]
                      },
                      {
                        "learn": [
                          0.5508891643,
                          0.7672896034
                        ],
                        "iteration": 64,
                        "passed_time": 17.18447687,
                        "remaining_time": 247.1920904,
                        "test": [
                          0.5464041116,
                          0.7653044204
                        ]
                      },
                      {
                        "learn": [
                          0.5508204263,
                          0.7670960527
                        ],
                        "iteration": 65,
                        "passed_time": 17.46213737,
                        "remaining_time": 247.1157016,
                        "test": [
                          0.5464103439,
                          0.7650984318
                        ]
                      },
                      {
                        "learn": [
                          0.5507351533,
                          0.7672770965
                        ],
                        "iteration": 66,
                        "passed_time": 17.7168485,
                        "remaining_time": 246.7137261,
                        "test": [
                          0.5463621942,
                          0.764970809
                        ]
                      },
                      {
                        "learn": [
                          0.5506661262,
                          0.7673849979
                        ],
                        "iteration": 67,
                        "passed_time": 18.01800585,
                        "remaining_time": 246.9526685,
                        "test": [
                          0.5462811435,
                          0.7650984318
                        ]
                      },
                      {
                        "learn": [
                          0.550595871,
                          0.7675209422
                        ],
                        "iteration": 68,
                        "passed_time": 18.2749488,
                        "remaining_time": 246.5793817,
                        "test": [
                          0.5462531869,
                          0.7650592358
                        ]
                      },
                      {
                        "learn": [
                          0.550458541,
                          0.7674254675
                        ],
                        "iteration": 69,
                        "passed_time": 18.53379253,
                        "remaining_time": 246.2346722,
                        "test": [
                          0.5462106709,
                          0.764676451
                        ]
                      },
                      {
                        "learn": [
                          0.5503506257,
                          0.7678460326
                        ],
                        "iteration": 70,
                        "passed_time": 18.89355756,
                        "remaining_time": 247.212887,
                        "test": [
                          0.5461108626,
                          0.7645096731
                        ]
                      },
                      {
                        "learn": [
                          0.5502919702,
                          0.7678623264
                        ],
                        "iteration": 71,
                        "passed_time": 19.14911304,
                        "remaining_time": 246.8107902,
                        "test": [
                          0.546109077,
                          0.7647647648
                        ]
                      },
                      {
                        "learn": [
                          0.550227439,
                          0.7677860697
                        ],
                        "iteration": 72,
                        "passed_time": 19.45997925,
                        "remaining_time": 247.1150789,
                        "test": [
                          0.5461049093,
                          0.7651477216
                        ]
                      },
                      {
                        "learn": [
                          0.5501468643,
                          0.7679008251
                        ],
                        "iteration": 73,
                        "passed_time": 19.81269037,
                        "remaining_time": 247.9263686,
                        "test": [
                          0.5460703111,
                          0.7653248706
                        ]
                      },
                      {
                        "learn": [
                          0.5501411812,
                          0.7679008251
                        ],
                        "iteration": 74,
                        "passed_time": 19.95240624,
                        "remaining_time": 246.079677,
                        "test": [
                          0.5460782361,
                          0.7653248706
                        ]
                      },
                      {
                        "learn": [
                          0.5500578509,
                          0.767935639
                        ],
                        "iteration": 75,
                        "passed_time": 20.20408616,
                        "remaining_time": 245.6391528,
                        "test": [
                          0.5461068826,
                          0.7652754591
                        ]
                      },
                      {
                        "learn": [
                          0.5499825673,
                          0.7677512953
                        ],
                        "iteration": 76,
                        "passed_time": 20.4617682,
                        "remaining_time": 245.2754811,
                        "test": [
                          0.5460243318,
                          0.7649908134
                        ]
                      },
                      {
                        "learn": [
                          0.5498952882,
                          0.7680126026
                        ],
                        "iteration": 77,
                        "passed_time": 20.85180905,
                        "remaining_time": 246.4790762,
                        "test": [
                          0.5460312274,
                          0.7652754591
                        ]
                      },
                      {
                        "learn": [
                          0.5498465832,
                          0.7680540585
                        ],
                        "iteration": 78,
                        "passed_time": 21.23038584,
                        "remaining_time": 247.5086754,
                        "test": [
                          0.5460278919,
                          0.7651869159
                        ]
                      },
                      {
                        "learn": [
                          0.5498292075,
                          0.7679933665
                        ],
                        "iteration": 79,
                        "passed_time": 21.68555285,
                        "remaining_time": 249.3838578,
                        "test": [
                          0.5460316851,
                          0.765442404
                        ]
                      },
                      {
                        "learn": [
                          0.5497561055,
                          0.7680925143
                        ],
                        "iteration": 80,
                        "passed_time": 22.13427283,
                        "remaining_time": 251.1283547,
                        "test": [
                          0.5460453738,
                          0.7652260971
                        ]
                      },
                      {
                        "learn": [
                          0.5496964595,
                          0.7680222195
                        ],
                        "iteration": 81,
                        "passed_time": 22.68582857,
                        "remaining_time": 253.9706174,
                        "test": [
                          0.5460327967,
                          0.765442404
                        ]
                      },
                      {
                        "learn": [
                          0.549643758,
                          0.7680859003
                        ],
                        "iteration": 82,
                        "passed_time": 23.05363301,
                        "remaining_time": 254.7009816,
                        "test": [
                          0.5459984944,
                          0.7654815557
                        ]
                      },
                      {
                        "learn": [
                          0.5495928481,
                          0.7682168615
                        ],
                        "iteration": 83,
                        "passed_time": 23.59942,
                        "remaining_time": 257.3460562,
                        "test": [
                          0.5459381189,
                          0.7651477216
                        ]
                      },
                      {
                        "learn": [
                          0.5495024241,
                          0.7681688156
                        ],
                        "iteration": 84,
                        "passed_time": 24.05792774,
                        "remaining_time": 258.9765163,
                        "test": [
                          0.5458986803,
                          0.765442404
                        ]
                      },
                      {
                        "learn": [
                          0.5494242255,
                          0.7682132935
                        ],
                        "iteration": 85,
                        "passed_time": 24.65300899,
                        "remaining_time": 262.0098863,
                        "test": [
                          0.5458659899,
                          0.765157842
                        ]
                      },
                      {
                        "learn": [
                          0.5493306124,
                          0.7681147405
                        ],
                        "iteration": 86,
                        "passed_time": 24.98635001,
                        "remaining_time": 262.2130754,
                        "test": [
                          0.5458208872,
                          0.765157842
                        ]
                      },
                      {
                        "learn": [
                          0.549286104,
                          0.7685604017
                        ],
                        "iteration": 87,
                        "passed_time": 25.25658012,
                        "remaining_time": 261.7500121,
                        "test": [
                          0.5458551693,
                          0.7658079625
                        ]
                      },
                      {
                        "learn": [
                          0.5492308578,
                          0.7685761727
                        ],
                        "iteration": 88,
                        "passed_time": 25.44517113,
                        "remaining_time": 260.4556281,
                        "test": [
                          0.5458090566,
                          0.7659360883
                        ]
                      },
                      {
                        "learn": [
                          0.5491959765,
                          0.7684455142
                        ],
                        "iteration": 89,
                        "passed_time": 25.54283907,
                        "remaining_time": 258.2664839,
                        "test": [
                          0.5457798108,
                          0.7654734025
                        ]
                      },
                      {
                        "learn": [
                          0.549114384,
                          0.7684136271
                        ],
                        "iteration": 90,
                        "passed_time": 25.66309234,
                        "remaining_time": 256.3489114,
                        "test": [
                          0.5457649289,
                          0.7647550577
                        ]
                      },
                      {
                        "learn": [
                          0.5490688892,
                          0.7684140677
                        ],
                        "iteration": 91,
                        "passed_time": 25.80995784,
                        "remaining_time": 254.7330622,
                        "test": [
                          0.5457330631,
                          0.7647943831
                        ]
                      },
                      {
                        "learn": [
                          0.5489544704,
                          0.7687362615
                        ],
                        "iteration": 92,
                        "passed_time": 25.92911852,
                        "remaining_time": 252.8786075,
                        "test": [
                          0.5456878737,
                          0.7651781234
                        ]
                      },
                      {
                        "learn": [
                          0.5489170079,
                          0.768707483
                        ],
                        "iteration": 93,
                        "passed_time": 26.03957294,
                        "remaining_time": 250.9771605,
                        "test": [
                          0.545690779,
                          0.7649222538
                        ]
                      },
                      {
                        "learn": [
                          0.5488580306,
                          0.7688223338
                        ],
                        "iteration": 94,
                        "passed_time": 26.18250131,
                        "remaining_time": 249.4227757,
                        "test": [
                          0.5456757627,
                          0.7652173913
                        ]
                      },
                      {
                        "learn": [
                          0.5487832722,
                          0.7687105875
                        ],
                        "iteration": 95,
                        "passed_time": 26.27676456,
                        "remaining_time": 247.439533,
                        "test": [
                          0.5456280946,
                          0.7652958877
                        ]
                      },
                      {
                        "learn": [
                          0.5486876974,
                          0.7687331536
                        ],
                        "iteration": 96,
                        "passed_time": 26.40196292,
                        "remaining_time": 245.7832218,
                        "test": [
                          0.5455725189,
                          0.7649615513
                        ]
                      },
                      {
                        "learn": [
                          0.5486118932,
                          0.7685611242
                        ],
                        "iteration": 97,
                        "passed_time": 26.50692836,
                        "remaining_time": 243.9719325,
                        "test": [
                          0.5455584862,
                          0.7647058824
                        ]
                      },
                      {
                        "learn": [
                          0.5485291,
                          0.7686533118
                        ],
                        "iteration": 98,
                        "passed_time": 26.64864075,
                        "remaining_time": 242.5295486,
                        "test": [
                          0.5455170679,
                          0.7650793651
                        ]
                      },
                      {
                        "learn": [
                          0.5484130994,
                          0.7688575575
                        ],
                        "iteration": 99,
                        "passed_time": 26.74933581,
                        "remaining_time": 240.7440223,
                        "test": [
                          0.5454878169,
                          0.7652958877
                        ]
                      },
                      {
                        "learn": [
                          0.5483649917,
                          0.7688513037
                        ],
                        "iteration": 100,
                        "passed_time": 26.8682583,
                        "remaining_time": 239.1541011,
                        "test": [
                          0.5454982584,
                          0.765452723
                        ]
                      },
                      {
                        "learn": [
                          0.5483376091,
                          0.7689628001
                        ],
                        "iteration": 101,
                        "passed_time": 26.96956362,
                        "remaining_time": 237.4379228,
                        "test": [
                          0.5454804977,
                          0.7655022564
                        ]
                      },
                      {
                        "learn": [
                          0.5482498225,
                          0.7688098495
                        ],
                        "iteration": 102,
                        "passed_time": 27.07853648,
                        "remaining_time": 235.819876,
                        "test": [
                          0.5454716005,
                          0.765157842
                        ]
                      },
                      {
                        "learn": [
                          0.5481853571,
                          0.7688448462
                        ],
                        "iteration": 103,
                        "passed_time": 27.20949669,
                        "remaining_time": 234.4202792,
                        "test": [
                          0.5455106021,
                          0.7653248706
                        ]
                      },
                      {
                        "learn": [
                          0.5481027491,
                          0.7689788134
                        ],
                        "iteration": 104,
                        "passed_time": 27.31999167,
                        "remaining_time": 232.8704052,
                        "test": [
                          0.5454651967,
                          0.7650692937
                        ]
                      },
                      {
                        "learn": [
                          0.5480490051,
                          0.7690904568
                        ],
                        "iteration": 105,
                        "passed_time": 27.43098608,
                        "remaining_time": 231.3519015,
                        "test": [
                          0.5454763408,
                          0.7651085142
                        ]
                      },
                      {
                        "learn": [
                          0.5480308316,
                          0.7691765486
                        ],
                        "iteration": 106,
                        "passed_time": 27.52075798,
                        "remaining_time": 229.6825876,
                        "test": [
                          0.5454732638,
                          0.7650300601
                        ]
                      },
                      {
                        "learn": [
                          0.5480118144,
                          0.7692690616
                        ],
                        "iteration": 107,
                        "passed_time": 27.63570575,
                        "remaining_time": 228.2504586,
                        "test": [
                          0.5454850312,
                          0.7650300601
                        ]
                      },
                      {
                        "learn": [
                          0.5479310546,
                          0.7690872144
                        ],
                        "iteration": 108,
                        "passed_time": 27.76242506,
                        "remaining_time": 226.9387223,
                        "test": [
                          0.5454798144,
                          0.7651186101
                        ]
                      },
                      {
                        "learn": [
                          0.54788443,
                          0.7692818046
                        ],
                        "iteration": 109,
                        "passed_time": 27.85318081,
                        "remaining_time": 225.3575538,
                        "test": [
                          0.5454802044,
                          0.7652464495
                        ]
                      },
                      {
                        "learn": [
                          0.5478560956,
                          0.7692020571
                        ],
                        "iteration": 110,
                        "passed_time": 27.93658388,
                        "remaining_time": 223.744352,
                        "test": [
                          0.5454633585,
                          0.765157842
                        ]
                      },
                      {
                        "learn": [
                          0.5477430705,
                          0.7691829374
                        ],
                        "iteration": 111,
                        "passed_time": 28.02800691,
                        "remaining_time": 222.2220548,
                        "test": [
                          0.5454325006,
                          0.7650692937
                        ]
                      },
                      {
                        "learn": [
                          0.5476928765,
                          0.7694094227
                        ],
                        "iteration": 112,
                        "passed_time": 28.18558088,
                        "remaining_time": 221.2443384,
                        "test": [
                          0.5454002078,
                          0.7650692937
                        ]
                      },
                      {
                        "learn": [
                          0.5476520414,
                          0.7694157648
                        ],
                        "iteration": 113,
                        "passed_time": 28.27680414,
                        "remaining_time": 219.7653375,
                        "test": [
                          0.5453945554,
                          0.7651085142
                        ]
                      },
                      {
                        "learn": [
                          0.5475735528,
                          0.7695081016
                        ],
                        "iteration": 114,
                        "passed_time": 28.4040492,
                        "remaining_time": 218.587683,
                        "test": [
                          0.5453802439,
                          0.7652464495
                        ]
                      },
                      {
                        "learn": [
                          0.5474465781,
                          0.7693263734
                        ],
                        "iteration": 115,
                        "passed_time": 28.51855883,
                        "remaining_time": 217.3310863,
                        "test": [
                          0.5453304988,
                          0.7653248706
                        ]
                      },
                      {
                        "learn": [
                          0.5473814047,
                          0.7692148332
                        ],
                        "iteration": 116,
                        "passed_time": 28.62488612,
                        "remaining_time": 216.0322602,
                        "test": [
                          0.54534299,
                          0.765452723
                        ]
                      },
                      {
                        "learn": [
                          0.5473351491,
                          0.7696070303
                        ],
                        "iteration": 117,
                        "passed_time": 28.7426663,
                        "remaining_time": 214.8392515,
                        "test": [
                          0.5453101029,
                          0.7656693966
                        ]
                      },
                      {
                        "learn": [
                          0.5472401631,
                          0.7698175788
                        ],
                        "iteration": 118,
                        "passed_time": 28.82994963,
                        "remaining_time": 213.4385346,
                        "test": [
                          0.5452652061,
                          0.7660143837
                        ]
                      },
                      {
                        "learn": [
                          0.547134433,
                          0.7699614252
                        ],
                        "iteration": 119,
                        "passed_time": 28.92291011,
                        "remaining_time": 212.1013408,
                        "test": [
                          0.5452378934,
                          0.7659254305
                        ]
                      },
                      {
                        "learn": [
                          0.5470589303,
                          0.7699871385
                        ],
                        "iteration": 120,
                        "passed_time": 29.01693199,
                        "remaining_time": 210.7924233,
                        "test": [
                          0.5451936018,
                          0.7657582344
                        ]
                      },
                      {
                        "learn": [
                          0.5470170513,
                          0.7702584955
                        ],
                        "iteration": 121,
                        "passed_time": 29.1051664,
                        "remaining_time": 209.4617713,
                        "test": [
                          0.5451996867,
                          0.7658259562
                        ]
                      },
                      {
                        "learn": [
                          0.5469110027,
                          0.7701945816
                        ],
                        "iteration": 122,
                        "passed_time": 29.25428925,
                        "remaining_time": 208.5854607,
                        "test": [
                          0.5451087371,
                          0.7658365369
                        ]
                      },
                      {
                        "learn": [
                          0.546860698,
                          0.7701402141
                        ],
                        "iteration": 123,
                        "passed_time": 29.35476379,
                        "remaining_time": 207.3772023,
                        "test": [
                          0.54510406,
                          0.7658079625
                        ]
                      },
                      {
                        "learn": [
                          0.546755967,
                          0.7702809245
                        ],
                        "iteration": 124,
                        "passed_time": 29.45404421,
                        "remaining_time": 206.1783095,
                        "test": [
                          0.545123277,
                          0.765630224
                        ]
                      },
                      {
                        "learn": [
                          0.5466579967,
                          0.770488402
                        ],
                        "iteration": 125,
                        "passed_time": 29.57955656,
                        "remaining_time": 205.1788288,
                        "test": [
                          0.5451044832,
                          0.765630224
                        ]
                      },
                      {
                        "learn": [
                          0.5466282037,
                          0.7705843293
                        ],
                        "iteration": 126,
                        "passed_time": 29.69306305,
                        "remaining_time": 204.110583,
                        "test": [
                          0.5451097947,
                          0.7655518395
                        ]
                      },
                      {
                        "learn": [
                          0.546605182,
                          0.7705169695
                        ],
                        "iteration": 127,
                        "passed_time": 29.82917525,
                        "remaining_time": 203.2112564,
                        "test": [
                          0.5451120663,
                          0.7655518395
                        ]
                      },
                      {
                        "learn": [
                          0.5465681084,
                          0.7703952553
                        ],
                        "iteration": 128,
                        "passed_time": 30.11788984,
                        "remaining_time": 203.3541245,
                        "test": [
                          0.5450912335,
                          0.7651679759
                        ]
                      },
                      {
                        "learn": [
                          0.5464648455,
                          0.7704652899
                        ],
                        "iteration": 129,
                        "passed_time": 30.4858216,
                        "remaining_time": 204.0204984,
                        "test": [
                          0.5451217768,
                          0.7655518395
                        ]
                      },
                      {
                        "learn": [
                          0.5463788386,
                          0.7703789701
                        ],
                        "iteration": 130,
                        "passed_time": 30.5923859,
                        "remaining_time": 202.9372774,
                        "test": [
                          0.5451262904,
                          0.7656406825
                        ]
                      },
                      {
                        "learn": [
                          0.5463150624,
                          0.7704326923
                        ],
                        "iteration": 131,
                        "passed_time": 30.67170632,
                        "remaining_time": 201.6897052,
                        "test": [
                          0.5451238074,
                          0.7655518395
                        ]
                      },
                      {
                        "learn": [
                          0.5462476395,
                          0.7706406801
                        ],
                        "iteration": 132,
                        "passed_time": 30.77379142,
                        "remaining_time": 200.608099,
                        "test": [
                          0.5451106033,
                          0.7654238422
                        ]
                      },
                      {
                        "learn": [
                          0.5461976241,
                          0.7704775327
                        ],
                        "iteration": 133,
                        "passed_time": 30.85266198,
                        "remaining_time": 199.3910842,
                        "test": [
                          0.5450715278,
                          0.765630224
                        ]
                      },
                      {
                        "learn": [
                          0.5461398141,
                          0.7705414145
                        ],
                        "iteration": 134,
                        "passed_time": 30.96628826,
                        "remaining_time": 198.4136248,
                        "test": [
                          0.5450385747,
                          0.7658365369
                        ]
                      },
                      {
                        "learn": [
                          0.546053894,
                          0.7707581976
                        ],
                        "iteration": 135,
                        "passed_time": 31.05796203,
                        "remaining_time": 197.3094058,
                        "test": [
                          0.5450817958,
                          0.7657973922
                        ]
                      },
                      {
                        "learn": [
                          0.5460214301,
                          0.770831606
                        ],
                        "iteration": 136,
                        "passed_time": 31.14508467,
                        "remaining_time": 196.1912998,
                        "test": [
                          0.5450815397,
                          0.7658365369
                        ]
                      },
                      {
                        "learn": [
                          0.5459872481,
                          0.7708126036
                        ],
                        "iteration": 137,
                        "passed_time": 31.30440729,
                        "remaining_time": 195.5391238,
                        "test": [
                          0.5450853492,
                          0.7649808045
                        ]
                      },
                      {
                        "learn": [
                          0.5459175222,
                          0.7709274846
                        ],
                        "iteration": 138,
                        "passed_time": 31.43192956,
                        "remaining_time": 194.6970601,
                        "test": [
                          0.5450822493,
                          0.7650984318
                        ]
                      },
                      {
                        "learn": [
                          0.5458488387,
                          0.7709179866
                        ],
                        "iteration": 139,
                        "passed_time": 31.54969046,
                        "remaining_time": 193.8052414,
                        "test": [
                          0.5450634077,
                          0.764970809
                        ]
                      },
                      {
                        "learn": [
                          0.5458221874,
                          0.7709179866
                        ],
                        "iteration": 140,
                        "passed_time": 31.66413545,
                        "remaining_time": 192.9042011,
                        "test": [
                          0.5450479426,
                          0.7650100067
                        ]
                      },
                      {
                        "learn": [
                          0.5457857677,
                          0.7710268746
                        ],
                        "iteration": 141,
                        "passed_time": 31.7936977,
                        "remaining_time": 192.1055819,
                        "test": [
                          0.5450354655,
                          0.764970809
                        ]
                      },
                      {
                        "learn": [
                          0.5457648405,
                          0.7710838378
                        ],
                        "iteration": 142,
                        "passed_time": 31.8983086,
                        "remaining_time": 191.1667865,
                        "test": [
                          0.5450316145,
                          0.7651477216
                        ]
                      },
                      {
                        "learn": [
                          0.5457050986,
                          0.7710268746
                        ],
                        "iteration": 143,
                        "passed_time": 32.03032858,
                        "remaining_time": 190.4025088,
                        "test": [
                          0.5450311362,
                          0.7652362665
                        ]
                      },
                      {
                        "learn": [
                          0.5456522022,
                          0.7711453105
                        ],
                        "iteration": 144,
                        "passed_time": 32.15668395,
                        "remaining_time": 189.6135502,
                        "test": [
                          0.5450228454,
                          0.7654032393
                        ]
                      },
                      {
                        "learn": [
                          0.5455770252,
                          0.7710588528
                        ],
                        "iteration": 145,
                        "passed_time": 32.28526733,
                        "remaining_time": 188.8467007,
                        "test": [
                          0.5450290118,
                          0.7645193591
                        ]
                      },
                      {
                        "learn": [
                          0.5455076577,
                          0.771157275
                        ],
                        "iteration": 146,
                        "passed_time": 32.39742055,
                        "remaining_time": 187.9931955,
                        "test": [
                          0.5450200809,
                          0.7648138875
                        ]
                      },
                      {
                        "learn": [
                          0.5454698714,
                          0.7712851989
                        ],
                        "iteration": 147,
                        "passed_time": 32.51447815,
                        "remaining_time": 187.1779418,
                        "test": [
                          0.5449928332,
                          0.7647255131
                        ]
                      },
                      {
                        "learn": [
                          0.5454146252,
                          0.7712271973
                        ],
                        "iteration": 148,
                        "passed_time": 32.66697278,
                        "remaining_time": 186.5744553,
                        "test": [
                          0.5450051019,
                          0.7647255131
                        ]
                      },
                      {
                        "learn": [
                          0.5453407435,
                          0.7711762511
                        ],
                        "iteration": 149,
                        "passed_time": 32.74097354,
                        "remaining_time": 185.5321834,
                        "test": [
                          0.5450187017,
                          0.7648824412
                        ]
                      },
                      {
                        "learn": [
                          0.5453165494,
                          0.7712212316
                        ],
                        "iteration": 150,
                        "passed_time": 32.8617989,
                        "remaining_time": 184.7660084,
                        "test": [
                          0.5450009267,
                          0.7648432288
                        ]
                      },
                      {
                        "learn": [
                          0.5452552758,
                          0.771042375
                        ],
                        "iteration": 151,
                        "passed_time": 32.99634208,
                        "remaining_time": 184.0848558,
                        "test": [
                          0.5450081175,
                          0.7652260971
                        ]
                      },
                      {
                        "learn": [
                          0.545175973,
                          0.7710588528
                        ],
                        "iteration": 152,
                        "passed_time": 33.10994244,
                        "remaining_time": 183.2949101,
                        "test": [
                          0.544952806,
                          0.7655206943
                        ]
                      },
                      {
                        "learn": [
                          0.5451300195,
                          0.7708989882
                        ],
                        "iteration": 153,
                        "passed_time": 33.20232475,
                        "remaining_time": 182.3971866,
                        "test": [
                          0.5449351131,
                          0.7654320988
                        ]
                      },
                      {
                        "learn": [
                          0.5450858406,
                          0.7709914168
                        ],
                        "iteration": 154,
                        "passed_time": 33.33949431,
                        "remaining_time": 181.7540173,
                        "test": [
                          0.5449290483,
                          0.7656875834
                        ]
                      },
                      {
                        "learn": [
                          0.5450457097,
                          0.7708860235
                        ],
                        "iteration": 155,
                        "passed_time": 33.44438521,
                        "remaining_time": 180.9426995,
                        "test": [
                          0.5449264449,
                          0.7657266811
                        ]
                      },
                      {
                        "learn": [
                          0.5450188856,
                          0.7709499523
                        ],
                        "iteration": 156,
                        "passed_time": 33.54068511,
                        "remaining_time": 180.0942519,
                        "test": [
                          0.5449220801,
                          0.7657266811
                        ]
                      },
                      {
                        "learn": [
                          0.544972024,
                          0.7710293935
                        ],
                        "iteration": 157,
                        "passed_time": 33.66417731,
                        "remaining_time": 179.400236,
                        "test": [
                          0.5449111203,
                          0.7657266811
                        ]
                      },
                      {
                        "learn": [
                          0.5449079412,
                          0.7709335102
                        ],
                        "iteration": 158,
                        "passed_time": 33.77529487,
                        "remaining_time": 178.6479433,
                        "test": [
                          0.5449247004,
                          0.7656771181
                        ]
                      },
                      {
                        "learn": [
                          0.5448584356,
                          0.7707478765
                        ],
                        "iteration": 159,
                        "passed_time": 33.8817823,
                        "remaining_time": 177.8793571,
                        "test": [
                          0.5449247151,
                          0.7655287261
                        ]
                      },
                      {
                        "learn": [
                          0.5448404531,
                          0.7707893101
                        ],
                        "iteration": 160,
                        "passed_time": 33.96083256,
                        "remaining_time": 176.9760156,
                        "test": [
                          0.544922992,
                          0.7657057157
                        ]
                      },
                      {
                        "learn": [
                          0.5447756163,
                          0.7709256575
                        ],
                        "iteration": 161,
                        "passed_time": 34.06668712,
                        "remaining_time": 176.221505,
                        "test": [
                          0.5449246639,
                          0.7650973216
                        ]
                      },
                      {
                        "learn": [
                          0.5447178076,
                          0.7711327397
                        ],
                        "iteration": 162,
                        "passed_time": 34.18738481,
                        "remaining_time": 175.5511723,
                        "test": [
                          0.5449066357,
                          0.7652246256
                        ]
                      },
                      {
                        "learn": [
                          0.5446072614,
                          0.771112767
                        ],
                        "iteration": 163,
                        "passed_time": 34.32104278,
                        "remaining_time": 174.9536083,
                        "test": [
                          0.5448766511,
                          0.7648428405
                        ]
                      },
                      {
                        "learn": [
                          0.5445391229,
                          0.7711187451
                        ],
                        "iteration": 164,
                        "passed_time": 34.45167166,
                        "remaining_time": 174.3463384,
                        "test": [
                          0.5448826476,
                          0.7649700599
                        ]
                      },
                      {
                        "learn": [
                          0.5444871508,
                          0.7713138172
                        ],
                        "iteration": 165,
                        "passed_time": 34.55282245,
                        "remaining_time": 173.5967104,
                        "test": [
                          0.5448816992,
                          0.7651464714
                        ]
                      },
                      {
                        "learn": [
                          0.5444714046,
                          0.771326818
                        ],
                        "iteration": 166,
                        "passed_time": 34.69109989,
                        "remaining_time": 173.0400372,
                        "test": [
                          0.5448934365,
                          0.7651464714
                        ]
                      },
                      {
                        "learn": [
                          0.5444029022,
                          0.771565826
                        ],
                        "iteration": 167,
                        "passed_time": 34.84016827,
                        "remaining_time": 172.5417857,
                        "test": [
                          0.5449251091,
                          0.7648037259
                        ]
                      },
                      {
                        "learn": [
                          0.5443571587,
                          0.7714865593
                        ],
                        "iteration": 168,
                        "passed_time": 34.94420032,
                        "remaining_time": 171.8262158,
                        "test": [
                          0.5449241922,
                          0.7648819421
                        ]
                      },
                      {
                        "learn": [
                          0.5443171452,
                          0.771569399
                        ],
                        "iteration": 169,
                        "passed_time": 35.06287449,
                        "remaining_time": 171.1893284,
                        "test": [
                          0.5449227292,
                          0.7648428405
                        ]
                      },
                      {
                        "learn": [
                          0.5442874364,
                          0.771629737
                        ],
                        "iteration": 170,
                        "passed_time": 35.12368365,
                        "remaining_time": 170.2779751,
                        "test": [
                          0.5449321917,
                          0.7647547797
                        ]
                      },
                      {
                        "learn": [
                          0.5442560671,
                          0.7717067109
                        ],
                        "iteration": 171,
                        "passed_time": 35.33089672,
                        "remaining_time": 170.0812935,
                        "test": [
                          0.5449357966,
                          0.7648428405
                        ]
                      },
                      {
                        "learn": [
                          0.5442008477,
                          0.7715942029
                        ],
                        "iteration": 172,
                        "passed_time": 35.56603187,
                        "remaining_time": 170.0179674,
                        "test": [
                          0.5449399928,
                          0.7648329732
                        ]
                      },
                      {
                        "learn": [
                          0.5441487372,
                          0.7714853453
                        ],
                        "iteration": 173,
                        "passed_time": 35.78746804,
                        "remaining_time": 169.8876356,
                        "test": [
                          0.5449330558,
                          0.7646179402
                        ]
                      },
                      {
                        "learn": [
                          0.5440949159,
                          0.7713730034
                        ],
                        "iteration": 174,
                        "passed_time": 36.05827717,
                        "remaining_time": 169.9890209,
                        "test": [
                          0.5449253778,
                          0.7647840532
                        ]
                      },
                      {
                        "learn": [
                          0.5440543299,
                          0.7714309367
                        ],
                        "iteration": 175,
                        "passed_time": 36.3317513,
                        "remaining_time": 170.0986538,
                        "test": [
                          0.5449105873,
                          0.7649111148
                        ]
                      },
                      {
                        "learn": [
                          0.5440236377,
                          0.7715965065
                        ],
                        "iteration": 176,
                        "passed_time": 36.54881785,
                        "remaining_time": 169.9416785,
                        "test": [
                          0.5448979442,
                          0.764862172
                        ]
                      },
                      {
                        "learn": [
                          0.543973794,
                          0.7715965065
                        ],
                        "iteration": 177,
                        "passed_time": 36.79737306,
                        "remaining_time": 169.9294419,
                        "test": [
                          0.5448817192,
                          0.7649892045
                        ]
                      },
                      {
                        "learn": [
                          0.5439192419,
                          0.7717242807
                        ],
                        "iteration": 178,
                        "passed_time": 37.06467926,
                        "remaining_time": 170.000568,
                        "test": [
                          0.5448772797,
                          0.7648720505
                        ]
                      },
                      {
                        "learn": [
                          0.5438547429,
                          0.7720606513
                        ],
                        "iteration": 179,
                        "passed_time": 37.30679947,
                        "remaining_time": 169.9531976,
                        "test": [
                          0.5448578317,
                          0.765185555
                        ]
                      },
                      {
                        "learn": [
                          0.5438181361,
                          0.7720889773
                        ],
                        "iteration": 180,
                        "passed_time": 37.59806513,
                        "remaining_time": 170.1260516,
                        "test": [
                          0.5448750969,
                          0.7652347652
                        ]
                      },
                      {
                        "learn": [
                          0.5437541597,
                          0.7721304006
                        ],
                        "iteration": 181,
                        "passed_time": 37.87068975,
                        "remaining_time": 170.2100232,
                        "test": [
                          0.5448798737,
                          0.7652347652
                        ]
                      },
                      {
                        "learn": [
                          0.5436984358,
                          0.7722038111
                        ],
                        "iteration": 182,
                        "passed_time": 38.08013252,
                        "remaining_time": 170.0080233,
                        "test": [
                          0.5448744823,
                          0.7653129161
                        ]
                      },
                      {
                        "learn": [
                          0.5436740174,
                          0.772156619
                        ],
                        "iteration": 183,
                        "passed_time": 38.28840088,
                        "remaining_time": 169.8007343,
                        "test": [
                          0.544866623,
                          0.765351972
                        ]
                      },
                      {
                        "learn": [
                          0.5435382986,
                          0.7720496894
                        ],
                        "iteration": 184,
                        "passed_time": 38.50472712,
                        "remaining_time": 169.628933,
                        "test": [
                          0.5448505331,
                          0.7654300449
                        ]
                      },
                      {
                        "learn": [
                          0.5434983792,
                          0.7721005341
                        ],
                        "iteration": 185,
                        "passed_time": 38.71436615,
                        "remaining_time": 169.4273874,
                        "test": [
                          0.5448263878,
                          0.7656458056
                        ]
                      },
                      {
                        "learn": [
                          0.5434784065,
                          0.7719726765
                        ],
                        "iteration": 186,
                        "passed_time": 38.87870273,
                        "remaining_time": 169.0287985,
                        "test": [
                          0.5448011716,
                          0.7654793609
                        ]
                      },
                      {
                        "learn": [
                          0.5434377472,
                          0.7719349095
                        ],
                        "iteration": 187,
                        "passed_time": 38.99383674,
                        "remaining_time": 168.4201885,
                        "test": [
                          0.5447772373,
                          0.7654012654
                        ]
                      },
                      {
                        "learn": [
                          0.5434124798,
                          0.7719501594
                        ],
                        "iteration": 188,
                        "passed_time": 39.10638019,
                        "remaining_time": 167.8056843,
                        "test": [
                          0.5447694938,
                          0.7654793609
                        ]
                      },
                      {
                        "learn": [
                          0.543368326,
                          0.7719668737
                        ],
                        "iteration": 189,
                        "passed_time": 39.23693719,
                        "remaining_time": 167.2732586,
                        "test": [
                          0.5448044049,
                          0.765391015
                        ]
                      },
                      {
                        "learn": [
                          0.5433607584,
                          0.7719668737
                        ],
                        "iteration": 190,
                        "passed_time": 39.34941358,
                        "remaining_time": 166.6684586,
                        "test": [
                          0.5448162244,
                          0.765391015
                        ]
                      },
                      {
                        "learn": [
                          0.5433249249,
                          0.7720366
                        ],
                        "iteration": 191,
                        "passed_time": 39.45852164,
                        "remaining_time": 166.0546119,
                        "test": [
                          0.5448281194,
                          0.7654793609
                        ]
                      },
                      {
                        "learn": [
                          0.5432399628,
                          0.7721964552
                        ],
                        "iteration": 192,
                        "passed_time": 39.554629,
                        "remaining_time": 165.3916352,
                        "test": [
                          0.5448185007,
                          0.7653027279
                        ]
                      },
                      {
                        "learn": [
                          0.543214864,
                          0.7723338165
                        ],
                        "iteration": 193,
                        "passed_time": 39.62002681,
                        "remaining_time": 164.6069155,
                        "test": [
                          0.5447937443,
                          0.7657732645
                        ]
                      },
                      {
                        "learn": [
                          0.5431756218,
                          0.7725126336
                        ],
                        "iteration": 194,
                        "passed_time": 39.73790699,
                        "remaining_time": 164.0462314,
                        "test": [
                          0.5447951929,
                          0.7657732645
                        ]
                      },
                      {
                        "learn": [
                          0.5431232445,
                          0.7726406496
                        ],
                        "iteration": 195,
                        "passed_time": 39.82940273,
                        "remaining_time": 163.3818357,
                        "test": [
                          0.5447813403,
                          0.7657732645
                        ]
                      },
                      {
                        "learn": [
                          0.5430694173,
                          0.772893014
                        ],
                        "iteration": 196,
                        "passed_time": 39.92980092,
                        "remaining_time": 162.7595438,
                        "test": [
                          0.5447896223,
                          0.7660283097
                        ]
                      },
                      {
                        "learn": [
                          0.542991302,
                          0.7729664774
                        ],
                        "iteration": 197,
                        "passed_time": 40.03379622,
                        "remaining_time": 162.1570938,
                        "test": [
                          0.5447684821,
                          0.7658617818
                        ]
                      },
                      {
                        "learn": [
                          0.5429231866,
                          0.7729626714
                        ],
                        "iteration": 198,
                        "passed_time": 40.17797027,
                        "remaining_time": 161.7213778,
                        "test": [
                          0.5447944974,
                          0.7650682651
                        ]
                      },
                      {
                        "learn": [
                          0.5428541436,
                          0.7728647797
                        ],
                        "iteration": 199,
                        "passed_time": 40.26060935,
                        "remaining_time": 161.0424374,
                        "test": [
                          0.5447939528,
                          0.7650291424
                        ]
                      },
                      {
                        "learn": [
                          0.5427566082,
                          0.7726839773
                        ],
                        "iteration": 200,
                        "passed_time": 40.34844399,
                        "remaining_time": 160.3900833,
                        "test": [
                          0.5448074369,
                          0.7653129161
                        ]
                      },
                      {
                        "learn": [
                          0.5426245384,
                          0.7729794634
                        ],
                        "iteration": 201,
                        "passed_time": 40.5241824,
                        "remaining_time": 160.090582,
                        "test": [
                          0.5448217338,
                          0.7651565623
                        ]
                      },
                      {
                        "learn": [
                          0.542564335,
                          0.7730114695
                        ],
                        "iteration": 202,
                        "passed_time": 40.64285732,
                        "remaining_time": 159.5682625,
                        "test": [
                          0.5448409639,
                          0.7649409023
                        ]
                      },
                      {
                        "learn": [
                          0.5425260198,
                          0.7731168993
                        ],
                        "iteration": 203,
                        "passed_time": 40.73958254,
                        "remaining_time": 158.9642534,
                        "test": [
                          0.5448805677,
                          0.7649800266
                        ]
                      },
                      {
                        "learn": [
                          0.5424945265,
                          0.7732261939
                        ],
                        "iteration": 204,
                        "passed_time": 40.85172755,
                        "remaining_time": 158.4249922,
                        "test": [
                          0.5448740203,
                          0.7645493848
                        ]
                      },
                      {
                        "learn": [
                          0.54247277,
                          0.7730076589
                        ],
                        "iteration": 205,
                        "passed_time": 40.98722119,
                        "remaining_time": 157.979872,
                        "test": [
                          0.5448703823,
                          0.7648819421
                        ]
                      },
                      {
                        "learn": [
                          0.5424116835,
                          0.7730716681
                        ],
                        "iteration": 206,
                        "passed_time": 41.10837392,
                        "remaining_time": 157.4828044,
                        "test": [
                          0.5449140521,
                          0.7648819421
                        ]
                      },
                      {
                        "learn": [
                          0.5423717551,
                          0.7730566944
                        ],
                        "iteration": 207,
                        "passed_time": 41.24848634,
                        "remaining_time": 157.0615441,
                        "test": [
                          0.5449177696,
                          0.7645885287
                        ]
                      },
                      {
                        "learn": [
                          0.5423182945,
                          0.7730000414
                        ],
                        "iteration": 208,
                        "passed_time": 41.35856775,
                        "remaining_time": 156.5293162,
                        "test": [
                          0.5449270478,
                          0.7651754532
                        ]
                      },
                      {
                        "learn": [
                          0.5422572115,
                          0.7729830368
                        ],
                        "iteration": 209,
                        "passed_time": 41.52019642,
                        "remaining_time": 156.1950246,
                        "test": [
                          0.5449187323,
                          0.7655080659
                        ]
                      },
                      {
                        "learn": [
                          0.5421642516,
                          0.7731634679
                        ],
                        "iteration": 210,
                        "passed_time": 41.67501451,
                        "remaining_time": 155.8369026,
                        "test": [
                          0.5449700865,
                          0.7652144995
                        ]
                      },
                      {
                        "learn": [
                          0.5421340235,
                          0.7732142119
                        ],
                        "iteration": 211,
                        "passed_time": 41.79892709,
                        "remaining_time": 155.3658233,
                        "test": [
                          0.5449489357,
                          0.7652535328
                        ]
                      },
                      {
                        "learn": [
                          0.5420934478,
                          0.7732930813
                        ],
                        "iteration": 212,
                        "passed_time": 41.92740453,
                        "remaining_time": 154.9148703,
                        "test": [
                          0.5449425762,
                          0.7652925532
                        ]
                      },
                      {
                        "learn": [
                          0.5420615697,
                          0.773206533
                        ],
                        "iteration": 213,
                        "passed_time": 42.04450667,
                        "remaining_time": 154.4251507,
                        "test": [
                          0.5449467813,
                          0.7649111148
                        ]
                      },
                      {
                        "learn": [
                          0.54202067,
                          0.7731596361
                        ],
                        "iteration": 214,
                        "passed_time": 42.16369147,
                        "remaining_time": 153.9465014,
                        "test": [
                          0.5449873796,
                          0.7650282298
                        ]
                      },
                      {
                        "learn": [
                          0.5419644577,
                          0.7731464252
                        ],
                        "iteration": 215,
                        "passed_time": 42.34244854,
                        "remaining_time": 153.6874058,
                        "test": [
                          0.5450268563,
                          0.7649501661
                        ]
                      },
                      {
                        "learn": [
                          0.5419021263,
                          0.7732649516
                        ],
                        "iteration": 216,
                        "passed_time": 42.4980272,
                        "remaining_time": 153.3454161,
                        "test": [
                          0.5450081903,
                          0.7648329732
                        ]
                      },
                      {
                        "learn": [
                          0.5418843658,
                          0.7732781799
                        ],
                        "iteration": 217,
                        "passed_time": 42.57131868,
                        "remaining_time": 152.7099597,
                        "test": [
                          0.5450456746,
                          0.764999169
                        ]
                      },
                      {
                        "learn": [
                          0.5418367733,
                          0.7734287724
                        ],
                        "iteration": 218,
                        "passed_time": 42.70480318,
                        "remaining_time": 152.2942981,
                        "test": [
                          0.5450318448,
                          0.7648720505
                        ]
                      },
                      {
                        "learn": [
                          0.5418025748,
                          0.7734100219
                        ],
                        "iteration": 219,
                        "passed_time": 42.84181952,
                        "remaining_time": 151.8937237,
                        "test": [
                          0.5450261676,
                          0.7648720505
                        ]
                      },
                      {
                        "learn": [
                          0.541791229,
                          0.7734326505
                        ],
                        "iteration": 220,
                        "passed_time": 42.96625589,
                        "remaining_time": 151.4511916,
                        "test": [
                          0.5450319264,
                          0.7648720505
                        ]
                      },
                      {
                        "learn": [
                          0.541733614,
                          0.7734872941
                        ],
                        "iteration": 221,
                        "passed_time": 43.0643659,
                        "remaining_time": 150.9192643,
                        "test": [
                          0.5450244048,
                          0.7649210308
                        ]
                      },
                      {
                        "learn": [
                          0.5416637805,
                          0.7734287724
                        ],
                        "iteration": 222,
                        "passed_time": 43.16583044,
                        "remaining_time": 150.4029159,
                        "test": [
                          0.545036615,
                          0.7649601064
                        ]
                      },
                      {
                        "learn": [
                          0.5415530084,
                          0.7734998553
                        ],
                        "iteration": 223,
                        "passed_time": 43.30223666,
                        "remaining_time": 150.0113199,
                        "test": [
                          0.5450132635,
                          0.7651162791
                        ]
                      },
                      {
                        "learn": [
                          0.5414917353,
                          0.7737612706
                        ],
                        "iteration": 224,
                        "passed_time": 43.38394608,
                        "remaining_time": 149.433592,
                        "test": [
                          0.5449701285,
                          0.7653315606
                        ]
                      },
                      {
                        "learn": [
                          0.5414763917,
                          0.7737745605
                        ],
                        "iteration": 225,
                        "passed_time": 43.50897718,
                        "remaining_time": 149.008621,
                        "test": [
                          0.5449498522,
                          0.7653315606
                        ]
                      },
                      {
                        "learn": [
                          0.5414527359,
                          0.7737745605
                        ],
                        "iteration": 226,
                        "passed_time": 43.63188105,
                        "remaining_time": 148.5790487,
                        "test": [
                          0.544933751,
                          0.7654095365
                        ]
                      },
                      {
                        "learn": [
                          0.5413867769,
                          0.773806569
                        ],
                        "iteration": 227,
                        "passed_time": 43.76723383,
                        "remaining_time": 148.1943181,
                        "test": [
                          0.5449657514,
                          0.7652332725
                        ]
                      },
                      {
                        "learn": [
                          0.5413324676,
                          0.7737972118
                        ],
                        "iteration": 228,
                        "passed_time": 43.88041654,
                        "remaining_time": 147.7371229,
                        "test": [
                          0.5449499721,
                          0.7655264032
                        ]
                      },
                      {
                        "learn": [
                          0.5412783659,
                          0.7738292239
                        ],
                        "iteration": 229,
                        "passed_time": 43.99977336,
                        "remaining_time": 147.3035891,
                        "test": [
                          0.5449578963,
                          0.7652332725
                        ]
                      },
                      {
                        "learn": [
                          0.5412600744,
                          0.7736691897
                        ],
                        "iteration": 230,
                        "passed_time": 44.10563805,
                        "remaining_time": 146.82786,
                        "test": [
                          0.5449597828,
                          0.7650672422
                        ]
                      },
                      {
                        "learn": [
                          0.5412506186,
                          0.7736918304
                        ],
                        "iteration": 231,
                        "passed_time": 44.20359241,
                        "remaining_time": 146.3291335,
                        "test": [
                          0.5449739526,
                          0.7650672422
                        ]
                      },
                      {
                        "learn": [
                          0.5412079632,
                          0.7737784949
                        ],
                        "iteration": 232,
                        "passed_time": 44.33465803,
                        "remaining_time": 145.9428442,
                        "test": [
                          0.544978448,
                          0.7649501661
                        ]
                      },
                      {
                        "learn": [
                          0.5411664049,
                          0.7737878537
                        ],
                        "iteration": 233,
                        "passed_time": 44.49081873,
                        "remaining_time": 145.6408853,
                        "test": [
                          0.5449635919,
                          0.7649501661
                        ]
                      },
                      {
                        "learn": [
                          0.5411408116,
                          0.7737784949
                        ],
                        "iteration": 234,
                        "passed_time": 44.60414631,
                        "remaining_time": 145.2007316,
                        "test": [
                          0.5449669984,
                          0.7649111148
                        ]
                      },
                      {
                        "learn": [
                          0.5410904159,
                          0.7737799835
                        ],
                        "iteration": 235,
                        "passed_time": 44.73070584,
                        "remaining_time": 144.8061833,
                        "test": [
                          0.5449639673,
                          0.7650382187
                        ]
                      },
                      {
                        "learn": [
                          0.5410385548,
                          0.7740320979
                        ],
                        "iteration": 236,
                        "passed_time": 44.83239787,
                        "remaining_time": 144.3338379,
                        "test": [
                          0.5449500176,
                          0.7654197839
                        ]
                      },
                      {
                        "learn": [
                          0.5410018404,
                          0.7740281224
                        ],
                        "iteration": 237,
                        "passed_time": 44.93902169,
                        "remaining_time": 143.8803972,
                        "test": [
                          0.5449359252,
                          0.7655367232
                        ]
                      },
                      {
                        "learn": [
                          0.5409205093,
                          0.774120177
                        ],
                        "iteration": 238,
                        "passed_time": 45.05037028,
                        "remaining_time": 143.4449029,
                        "test": [
                          0.5449509806,
                          0.7653315606
                        ]
                      },
                      {
                        "learn": [
                          0.5408536282,
                          0.7741241676
                        ],
                        "iteration": 239,
                        "passed_time": 45.15340543,
                        "remaining_time": 142.9857839,
                        "test": [
                          0.5449436074,
                          0.765625
                        ]
                      },
                      {
                        "learn": [
                          0.5407823635,
                          0.7741028609
                        ],
                        "iteration": 240,
                        "passed_time": 45.27776484,
                        "remaining_time": 142.5967781,
                        "test": [
                          0.5449278156,
                          0.7651552898
                        ]
                      },
                      {
                        "learn": [
                          0.5407347241,
                          0.7740215729
                        ],
                        "iteration": 241,
                        "passed_time": 45.40375519,
                        "remaining_time": 142.2150679,
                        "test": [
                          0.5449211987,
                          0.764901212
                        ]
                      },
                      {
                        "learn": [
                          0.5406929194,
                          0.7740215729
                        ],
                        "iteration": 242,
                        "passed_time": 45.54885348,
                        "remaining_time": 141.894988,
                        "test": [
                          0.5449433507,
                          0.764862172
                        ]
                      },
                      {
                        "learn": [
                          0.5406535832,
                          0.7740535626
                        ],
                        "iteration": 243,
                        "passed_time": 45.64962391,
                        "remaining_time": 141.4389987,
                        "test": [
                          0.5450207661,
                          0.7650282298
                        ]
                      },
                      {
                        "learn": [
                          0.5406110844,
                          0.7740122334
                        ],
                        "iteration": 244,
                        "passed_time": 45.79192129,
                        "remaining_time": 141.1138799,
                        "test": [
                          0.5450164017,
                          0.7649892045
                        ]
                      },
                      {
                        "learn": [
                          0.5405798245,
                          0.7741215378
                        ],
                        "iteration": 245,
                        "passed_time": 45.92100326,
                        "remaining_time": 140.7497417,
                        "test": [
                          0.5449989635,
                          0.7649892045
                        ]
                      },
                      {
                        "learn": [
                          0.5405329391,
                          0.7740629004
                        ],
                        "iteration": 246,
                        "passed_time": 46.0626872,
                        "remaining_time": 140.4259249,
                        "test": [
                          0.5450127669,
                          0.764901212
                        ]
                      },
                      {
                        "learn": [
                          0.5404957009,
                          0.77417755
                        ],
                        "iteration": 247,
                        "passed_time": 46.16264474,
                        "remaining_time": 139.9770518,
                        "test": [
                          0.5449920984,
                          0.7647840532
                        ]
                      },
                      {
                        "learn": [
                          0.5404746163,
                          0.7743602464
                        ],
                        "iteration": 248,
                        "passed_time": 46.27317351,
                        "remaining_time": 139.5628647,
                        "test": [
                          0.5449846526,
                          0.7646570337
                        ]
                      },
                      {
                        "learn": [
                          0.5404467227,
                          0.7744015875
                        ],
                        "iteration": 249,
                        "passed_time": 46.41368726,
                        "remaining_time": 139.2410618,
                        "test": [
                          0.5449963933,
                          0.7646961142
                        ]
                      },
                      {
                        "learn": [
                          0.5403978947,
                          0.7742602083
                        ],
                        "iteration": 250,
                        "passed_time": 46.57948319,
                        "remaining_time": 138.996147,
                        "test": [
                          0.544988694,
                          0.7646082337
                        ]
                      },
                      {
                        "learn": [
                          0.5403734014,
                          0.7741455552
                        ],
                        "iteration": 251,
                        "passed_time": 46.67145323,
                        "remaining_time": 138.5327263,
                        "test": [
                          0.5449827333,
                          0.7647351818
                        ]
                      },
                      {
                        "learn": [
                          0.5403300513,
                          0.7740909091
                        ],
                        "iteration": 252,
                        "passed_time": 46.81168797,
                        "remaining_time": 138.2147467,
                        "test": [
                          0.5449838605,
                          0.7647351818
                        ]
                      },
                      {
                        "learn": [
                          0.540252246,
                          0.7744068777
                        ],
                        "iteration": 253,
                        "passed_time": 46.93041007,
                        "remaining_time": 137.8349839,
                        "test": [
                          0.544968272,
                          0.7647351818
                        ]
                      },
                      {
                        "learn": [
                          0.5402172511,
                          0.7744534898
                        ],
                        "iteration": 254,
                        "passed_time": 47.05133247,
                        "remaining_time": 137.4636968,
                        "test": [
                          0.5449965573,
                          0.7644422311
                        ]
                      },
                      {
                        "learn": [
                          0.5401802114,
                          0.7744295635
                        ],
                        "iteration": 255,
                        "passed_time": 47.16311412,
                        "remaining_time": 137.0678004,
                        "test": [
                          0.5449724861,
                          0.7644813278
                        ]
                      },
                      {
                        "learn": [
                          0.5400747357,
                          0.7746030433
                        ],
                        "iteration": 256,
                        "passed_time": 47.24118794,
                        "remaining_time": 136.576664,
                        "test": [
                          0.5449884761,
                          0.7645204115
                        ]
                      },
                      {
                        "learn": [
                          0.5400027267,
                          0.7747684419
                        ],
                        "iteration": 257,
                        "passed_time": 47.39535484,
                        "remaining_time": 136.3075709,
                        "test": [
                          0.544969518,
                          0.7646863591
                        ]
                      },
                      {
                        "learn": [
                          0.5398891352,
                          0.7748604507
                        ],
                        "iteration": 258,
                        "passed_time": 47.51694271,
                        "remaining_time": 135.9461566,
                        "test": [
                          0.5449467583,
                          0.7643840159
                        ]
                      },
                      {
                        "learn": [
                          0.5398501636,
                          0.7749937981
                        ],
                        "iteration": 259,
                        "passed_time": 47.64746271,
                        "remaining_time": 135.6120093,
                        "test": [
                          0.5449475362,
                          0.7643840159
                        ]
                      },
                      {
                        "learn": [
                          0.5397710674,
                          0.7749359557
                        ],
                        "iteration": 260,
                        "passed_time": 47.76119069,
                        "remaining_time": 135.2318771,
                        "test": [
                          0.5449129889,
                          0.7645985401
                        ]
                      },
                      {
                        "learn": [
                          0.5396768336,
                          0.7750496032
                        ],
                        "iteration": 261,
                        "passed_time": 47.87993441,
                        "remaining_time": 134.8679069,
                        "test": [
                          0.5449191826,
                          0.7645594823
                        ]
                      },
                      {
                        "learn": [
                          0.5396235462,
                          0.7750361645
                        ],
                        "iteration": 262,
                        "passed_time": 48.00894474,
                        "remaining_time": 134.5345714,
                        "test": [
                          0.544906044,
                          0.7645204115
                        ]
                      },
                      {
                        "learn": [
                          0.5395191876,
                          0.7749865719
                        ],
                        "iteration": 263,
                        "passed_time": 48.13990639,
                        "remaining_time": 134.2082239,
                        "test": [
                          0.5449117059,
                          0.7641791045
                        ]
                      },
                      {
                        "learn": [
                          0.5394464178,
                          0.7750547589
                        ],
                        "iteration": 264,
                        "passed_time": 48.28407239,
                        "remaining_time": 133.9199744,
                        "test": [
                          0.5449046988,
                          0.7642667551
                        ]
                      },
                      {
                        "learn": [
                          0.5394051391,
                          0.7751467063
                        ],
                        "iteration": 265,
                        "passed_time": 48.41166944,
                        "remaining_time": 133.5870878,
                        "test": [
                          0.5449418329,
                          0.7644813278
                        ]
                      },
                      {
                        "learn": [
                          0.5393536449,
                          0.7750092971
                        ],
                        "iteration": 266,
                        "passed_time": 48.56974694,
                        "remaining_time": 133.3394176,
                        "test": [
                          0.5449490518,
                          0.7644422311
                        ]
                      },
                      {
                        "learn": [
                          0.5393159639,
                          0.7751146742
                        ],
                        "iteration": 267,
                        "passed_time": 48.70908661,
                        "remaining_time": 133.0412366,
                        "test": [
                          0.5449428578,
                          0.7644909483
                        ]
                      },
                      {
                        "learn": [
                          0.5392815241,
                          0.7751838691
                        ],
                        "iteration": 268,
                        "passed_time": 48.79947209,
                        "remaining_time": 132.6112048,
                        "test": [
                          0.5449373169,
                          0.7645691516
                        ]
                      },
                      {
                        "learn": [
                          0.539226573,
                          0.7750547589
                        ],
                        "iteration": 269,
                        "passed_time": 48.98956244,
                        "remaining_time": 132.4532614,
                        "test": [
                          0.5449175537,
                          0.7644031214
                        ]
                      },
                      {
                        "learn": [
                          0.5391964363,
                          0.7750960863
                        ],
                        "iteration": 270,
                        "passed_time": 49.25998103,
                        "remaining_time": 132.5111667,
                        "test": [
                          0.544928365,
                          0.7642857143
                        ]
                      },
                      {
                        "learn": [
                          0.5391665787,
                          0.7751374137
                        ],
                        "iteration": 271,
                        "passed_time": 49.49299727,
                        "remaining_time": 132.4665515,
                        "test": [
                          0.544925007,
                          0.7644909483
                        ]
                      },
                      {
                        "learn": [
                          0.5391568219,
                          0.7751053806
                        ],
                        "iteration": 272,
                        "passed_time": 49.71957139,
                        "remaining_time": 132.4034007,
                        "test": [
                          0.5449213761,
                          0.7644518272
                        ]
                      },
                      {
                        "learn": [
                          0.5390916036,
                          0.7750134314
                        ],
                        "iteration": 273,
                        "passed_time": 49.99046524,
                        "remaining_time": 132.4564882,
                        "test": [
                          0.5449270257,
                          0.7644031214
                        ]
                      },
                      {
                        "learn": [
                          0.5390435542,
                          0.7749359557
                        ],
                        "iteration": 274,
                        "passed_time": 50.28569294,
                        "remaining_time": 132.5713723,
                        "test": [
                          0.5449074199,
                          0.7643153527
                        ]
                      },
                      {
                        "learn": [
                          0.5390105331,
                          0.775
                        ],
                        "iteration": 275,
                        "passed_time": 50.47720946,
                        "remaining_time": 132.4112306,
                        "test": [
                          0.5449032589,
                          0.7642667551
                        ]
                      },
                      {
                        "learn": [
                          0.5389867627,
                          0.7749638504
                        ],
                        "iteration": 276,
                        "passed_time": 50.67895969,
                        "remaining_time": 132.2775735,
                        "test": [
                          0.544909452,
                          0.7643935623
                        ]
                      },
                      {
                        "learn": [
                          0.5389007615,
                          0.7751467063
                        ],
                        "iteration": 277,
                        "passed_time": 50.8890984,
                        "remaining_time": 132.1652124,
                        "test": [
                          0.544923055,
                          0.7640617222
                        ]
                      },
                      {
                        "learn": [
                          0.5388852979,
                          0.7752107786
                        ],
                        "iteration": 278,
                        "passed_time": 51.12529688,
                        "remaining_time": 132.1194948,
                        "test": [
                          0.5449360328,
                          0.7639050307
                        ]
                      },
                      {
                        "learn": [
                          0.5388419376,
                          0.7751569729
                        ],
                        "iteration": 279,
                        "passed_time": 51.35129979,
                        "remaining_time": 132.0461995,
                        "test": [
                          0.5449258476,
                          0.7639349701
                        ]
                      },
                      {
                        "learn": [
                          0.5387794809,
                          0.7751755473
                        ],
                        "iteration": 280,
                        "passed_time": 51.50299847,
                        "remaining_time": 131.7816936,
                        "test": [
                          0.5449406585,
                          0.7641791045
                        ]
                      },
                      {
                        "learn": [
                          0.5387170052,
                          0.7752767223
                        ],
                        "iteration": 281,
                        "passed_time": 51.78651394,
                        "remaining_time": 131.8536064,
                        "test": [
                          0.5449490175,
                          0.7641791045
                        ]
                      },
                      {
                        "learn": [
                          0.538667916,
                          0.7753727952
                        ],
                        "iteration": 282,
                        "passed_time": 51.9743916,
                        "remaining_time": 131.6807024,
                        "test": [
                          0.5449630289,
                          0.7642276423
                        ]
                      },
                      {
                        "learn": [
                          0.5386010701,
                          0.7755051444
                        ],
                        "iteration": 283,
                        "passed_time": 52.21926496,
                        "remaining_time": 131.6513863,
                        "test": [
                          0.5449840658,
                          0.7640225689
                        ]
                      },
                      {
                        "learn": [
                          0.5385849472,
                          0.7752581578
                        ],
                        "iteration": 284,
                        "passed_time": 52.46458092,
                        "remaining_time": 131.6216679,
                        "test": [
                          0.5449695465,
                          0.7640617222
                        ]
                      },
                      {
                        "learn": [
                          0.5385453517,
                          0.7753407683
                        ],
                        "iteration": 285,
                        "passed_time": 52.63559824,
                        "remaining_time": 131.404955,
                        "test": [
                          0.5449446945,
                          0.7645204115
                        ]
                      },
                      {
                        "learn": [
                          0.5385299802,
                          0.7753727952
                        ],
                        "iteration": 286,
                        "passed_time": 52.75924503,
                        "remaining_time": 131.070877,
                        "test": [
                          0.5449459665,
                          0.7645594823
                        ]
                      },
                      {
                        "learn": [
                          0.5384872779,
                          0.7753955467
                        ],
                        "iteration": 287,
                        "passed_time": 52.87622453,
                        "remaining_time": 130.7217773,
                        "test": [
                          0.5449377582,
                          0.764940239
                        ]
                      },
                      {
                        "learn": [
                          0.5384347007,
                          0.7753727952
                        ],
                        "iteration": 288,
                        "passed_time": 52.99501799,
                        "remaining_time": 130.3787467,
                        "test": [
                          0.5449558057,
                          0.764940239
                        ]
                      },
                      {
                        "learn": [
                          0.5383372208,
                          0.7753829638
                        ],
                        "iteration": 289,
                        "passed_time": 53.15089385,
                        "remaining_time": 130.1280505,
                        "test": [
                          0.5449875276,
                          0.7644909483
                        ]
                      },
                      {
                        "learn": [
                          0.5382473471,
                          0.7753509496
                        ],
                        "iteration": 290,
                        "passed_time": 53.27335571,
                        "remaining_time": 129.7965952,
                        "test": [
                          0.544964254,
                          0.7645300565
                        ]
                      },
                      {
                        "learn": [
                          0.5381502609,
                          0.7757773465
                        ],
                        "iteration": 291,
                        "passed_time": 53.39416265,
                        "remaining_time": 129.4625587,
                        "test": [
                          0.544952891,
                          0.7647254024
                        ]
                      },
                      {
                        "learn": [
                          0.5381243104,
                          0.7759702725
                        ],
                        "iteration": 292,
                        "passed_time": 53.48746758,
                        "remaining_time": 129.0636163,
                        "test": [
                          0.5449614359,
                          0.7645985401
                        ]
                      },
                      {
                        "learn": [
                          0.5381041925,
                          0.7760479042
                        ],
                        "iteration": 293,
                        "passed_time": 53.58817797,
                        "remaining_time": 128.6845362,
                        "test": [
                          0.544965116,
                          0.7645594823
                        ]
                      },
                      {
                        "learn": [
                          0.538056792,
                          0.7760343546
                        ],
                        "iteration": 294,
                        "passed_time": 53.74691683,
                        "remaining_time": 128.4460216,
                        "test": [
                          0.5449961475,
                          0.7645594823
                        ]
                      },
                      {
                        "learn": [
                          0.5379917075,
                          0.7758008587
                        ],
                        "iteration": 295,
                        "passed_time": 53.88457297,
                        "remaining_time": 128.1579033,
                        "test": [
                          0.5450140694,
                          0.7648523067
                        ]
                      },
                      {
                        "learn": [
                          0.5379660865,
                          0.7759382354
                        ],
                        "iteration": 296,
                        "passed_time": 53.98999419,
                        "remaining_time": 127.794498,
                        "test": [
                          0.5450195499,
                          0.7647254024
                        ]
                      },
                      {
                        "learn": [
                          0.5379206965,
                          0.7759567353
                        ],
                        "iteration": 297,
                        "passed_time": 54.10062391,
                        "remaining_time": 127.4450939,
                        "test": [
                          0.5450266701,
                          0.7643840159
                        ]
                      },
                      {
                        "learn": [
                          0.5378669307,
                          0.7759247028
                        ],
                        "iteration": 298,
                        "passed_time": 54.1995915,
                        "remaining_time": 127.0699453,
                        "test": [
                          0.5450362425,
                          0.76462788
                        ]
                      },
                      {
                        "learn": [
                          0.5377688522,
                          0.7760620949
                        ],
                        "iteration": 299,
                        "passed_time": 54.30764866,
                        "remaining_time": 126.7178469,
                        "test": [
                          0.5450099531,
                          0.7645498259
                        ]
                      },
                      {
                        "learn": [
                          0.5377313585,
                          0.7760713401
                        ],
                        "iteration": 300,
                        "passed_time": 54.42524325,
                        "remaining_time": 126.3895184,
                        "test": [
                          0.5450111124,
                          0.7643840159
                        ]
                      },
                      {
                        "learn": [
                          0.5376899367,
                          0.775993726
                        ],
                        "iteration": 301,
                        "passed_time": 54.53001166,
                        "remaining_time": 126.0329409,
                        "test": [
                          0.5449966331,
                          0.7645888594
                        ]
                      },
                      {
                        "learn": [
                          0.5376694792,
                          0.7760442463
                        ],
                        "iteration": 302,
                        "passed_time": 54.65464965,
                        "remaining_time": 125.723732,
                        "test": [
                          0.5450002484,
                          0.764462125
                        ]
                      },
                      {
                        "learn": [
                          0.5376485303,
                          0.7760122168
                        ],
                        "iteration": 303,
                        "passed_time": 54.75953487,
                        "remaining_time": 125.370514,
                        "test": [
                          0.5449962015,
                          0.7644230769
                        ]
                      },
                      {
                        "learn": [
                          0.5375854914,
                          0.7762913415
                        ],
                        "iteration": 304,
                        "passed_time": 54.90233707,
                        "remaining_time": 125.1053255,
                        "test": [
                          0.5450153241,
                          0.7643840159
                        ]
                      },
                      {
                        "learn": [
                          0.537556791,
                          0.7762913415
                        ],
                        "iteration": 305,
                        "passed_time": 55.01563178,
                        "remaining_time": 124.7740146,
                        "test": [
                          0.5450278654,
                          0.76462788
                        ]
                      },
                      {
                        "learn": [
                          0.537490786,
                          0.7764200793
                        ],
                        "iteration": 306,
                        "passed_time": 55.15747682,
                        "remaining_time": 124.5085714,
                        "test": [
                          0.544984241,
                          0.7646766169
                        ]
                      },
                      {
                        "learn": [
                          0.537452776,
                          0.7764657308
                        ],
                        "iteration": 307,
                        "passed_time": 55.29002126,
                        "remaining_time": 124.2230348,
                        "test": [
                          0.5449976335,
                          0.7648523067
                        ]
                      },
                      {
                        "learn": [
                          0.5374013517,
                          0.7762229102
                        ],
                        "iteration": 308,
                        "passed_time": 55.44169926,
                        "remaining_time": 123.9812757,
                        "test": [
                          0.5450167556,
                          0.764344942
                        ]
                      },
                      {
                        "learn": [
                          0.5373696034,
                          0.7762278168
                        ],
                        "iteration": 309,
                        "passed_time": 55.5906942,
                        "remaining_time": 123.7341258,
                        "test": [
                          0.5450164469,
                          0.764305855
                        ]
                      },
                      {
                        "learn": [
                          0.5373146298,
                          0.7763288214
                        ],
                        "iteration": 310,
                        "passed_time": 55.74969915,
                        "remaining_time": 123.5097836,
                        "test": [
                          0.5450228373,
                          0.76447172
                        ]
                      },
                      {
                        "learn": [
                          0.5372946091,
                          0.7763793175
                        ],
                        "iteration": 311,
                        "passed_time": 55.90348586,
                        "remaining_time": 123.2743534,
                        "test": [
                          0.5450141725,
                          0.7645594823
                        ]
                      },
                      {
                        "learn": [
                          0.5372512294,
                          0.7764618495
                        ],
                        "iteration": 312,
                        "passed_time": 56.05789093,
                        "remaining_time": 123.0408021,
                        "test": [
                          0.545000946,
                          0.7644326476
                        ]
                      },
                      {
                        "learn": [
                          0.5372252819,
                          0.7764982665
                        ],
                        "iteration": 313,
                        "passed_time": 56.20081177,
                        "remaining_time": 122.7826652,
                        "test": [
                          0.5450100583,
                          0.764305855
                        ]
                      },
                      {
                        "learn": [
                          0.5371738087,
                          0.776497791
                        ],
                        "iteration": 314,
                        "passed_time": 56.30962268,
                        "remaining_time": 122.4510842,
                        "test": [
                          0.5450162903,
                          0.764354464
                        ]
                      },
                      {
                        "learn": [
                          0.5371022442,
                          0.7765390809
                        ],
                        "iteration": 315,
                        "passed_time": 56.43340495,
                        "remaining_time": 122.1533196,
                        "test": [
                          0.5450494196,
                          0.7644422311
                        ]
                      },
                      {
                        "learn": [
                          0.5370191222,
                          0.776521093
                        ],
                        "iteration": 316,
                        "passed_time": 56.54773654,
                        "remaining_time": 121.8362904,
                        "test": [
                          0.5450623291,
                          0.764901212
                        ]
                      },
                      {
                        "learn": [
                          0.5369689851,
                          0.7764982665
                        ],
                        "iteration": 317,
                        "passed_time": 56.64460094,
                        "remaining_time": 121.483075,
                        "test": [
                          0.5450330043,
                          0.7653213752
                        ]
                      },
                      {
                        "learn": [
                          0.5369541567,
                          0.7764890412
                        ],
                        "iteration": 318,
                        "passed_time": 56.75364888,
                        "remaining_time": 121.1574761,
                        "test": [
                          0.545041304,
                          0.7651942876
                        ]
                      },
                      {
                        "learn": [
                          0.5369319758,
                          0.7764021295
                        ],
                        "iteration": 319,
                        "passed_time": 56.92562474,
                        "remaining_time": 120.9669526,
                        "test": [
                          0.5450436132,
                          0.764901212
                        ]
                      },
                      {
                        "learn": [
                          0.5369275594,
                          0.7763700891
                        ],
                        "iteration": 320,
                        "passed_time": 57.03842165,
                        "remaining_time": 120.6513654,
                        "test": [
                          0.5450454768,
                          0.764901212
                        ]
                      },
                      {
                        "learn": [
                          0.5369016986,
                          0.7764710737
                        ],
                        "iteration": 321,
                        "passed_time": 57.17206773,
                        "remaining_time": 120.3809376,
                        "test": [
                          0.5450652349,
                          0.7647254024
                        ]
                      },
                      {
                        "learn": [
                          0.536834726,
                          0.7763749639
                        ],
                        "iteration": 322,
                        "passed_time": 57.28427251,
                        "remaining_time": 120.0664164,
                        "test": [
                          0.5451032548,
                          0.764344942
                        ]
                      },
                      {
                        "learn": [
                          0.5367851018,
                          0.7764341725
                        ],
                        "iteration": 323,
                        "passed_time": 57.41151718,
                        "remaining_time": 119.7845235,
                        "test": [
                          0.5451043582,
                          0.764344942
                        ]
                      },
                      {
                        "learn": [
                          0.5367589114,
                          0.776521093
                        ],
                        "iteration": 324,
                        "passed_time": 57.53399307,
                        "remaining_time": 119.4936779,
                        "test": [
                          0.5451182025,
                          0.7645985401
                        ]
                      },
                      {
                        "learn": [
                          0.5367146804,
                          0.7764249453
                        ],
                        "iteration": 325,
                        "passed_time": 57.64134125,
                        "remaining_time": 119.172589,
                        "test": [
                          0.5450842941,
                          0.7644813278
                        ]
                      },
                      {
                        "learn": [
                          0.5366839435,
                          0.7764064886
                        ],
                        "iteration": 326,
                        "passed_time": 57.77334076,
                        "remaining_time": 118.9035423,
                        "test": [
                          0.5450873541,
                          0.7648523067
                        ]
                      },
                      {
                        "learn": [
                          0.5366113594,
                          0.7765118679
                        ],
                        "iteration": 327,
                        "passed_time": 57.93203932,
                        "remaining_time": 118.6900318,
                        "test": [
                          0.5451339289,
                          0.7650182542
                        ]
                      },
                      {
                        "learn": [
                          0.5365771955,
                          0.7764890412
                        ],
                        "iteration": 328,
                        "passed_time": 58.07293615,
                        "remaining_time": 118.4405476,
                        "test": [
                          0.5451203139,
                          0.7649792531
                        ]
                      },
                      {
                        "learn": [
                          0.5365611635,
                          0.7765531476
                        ],
                        "iteration": 329,
                        "passed_time": 58.20347175,
                        "remaining_time": 118.1706851,
                        "test": [
                          0.5451327919,
                          0.7649792531
                        ]
                      },
                      {
                        "learn": [
                          0.5365269585,
                          0.7765667575
                        ],
                        "iteration": 330,
                        "passed_time": 58.32891487,
                        "remaining_time": 117.8913717,
                        "test": [
                          0.5451249186,
                          0.7649792531
                        ]
                      },
                      {
                        "learn": [
                          0.5364991623,
                          0.7766954225
                        ],
                        "iteration": 331,
                        "passed_time": 58.44629276,
                        "remaining_time": 117.5967577,
                        "test": [
                          0.5451204944,
                          0.7648523067
                        ]
                      },
                      {
                        "learn": [
                          0.5364509856,
                          0.7766633647
                        ],
                        "iteration": 332,
                        "passed_time": 58.53253262,
                        "remaining_time": 117.2408386,
                        "test": [
                          0.5451230551,
                          0.7649792531
                        ]
                      },
                      {
                        "learn": [
                          0.5364251371,
                          0.7767366987
                        ],
                        "iteration": 333,
                        "passed_time": 58.65093955,
                        "remaining_time": 116.9506759,
                        "test": [
                          0.545139909,
                          0.764969315
                        ]
                      },
                      {
                        "learn": [
                          0.5363836682,
                          0.7767643417
                        ],
                        "iteration": 334,
                        "passed_time": 58.76177626,
                        "remaining_time": 116.6465111,
                        "test": [
                          0.5451500662,
                          0.7647156359
                        ]
                      },
                      {
                        "learn": [
                          0.5363486052,
                          0.7768881552
                        ],
                        "iteration": 335,
                        "passed_time": 58.91216918,
                        "remaining_time": 116.4216677,
                        "test": [
                          0.5451481774,
                          0.7645594823
                        ]
                      },
                      {
                        "learn": [
                          0.5363108696,
                          0.7768789467
                        ],
                        "iteration": 336,
                        "passed_time": 59.04253951,
                        "remaining_time": 116.1578745,
                        "test": [
                          0.5451476506,
                          0.7647254024
                        ]
                      },
                      {
                        "learn": [
                          0.5362852159,
                          0.7768421053
                        ],
                        "iteration": 337,
                        "passed_time": 59.17559993,
                        "remaining_time": 115.9001395,
                        "test": [
                          0.5451437969,
                          0.7646863591
                        ]
                      },
                      {
                        "learn": [
                          0.5362325611,
                          0.7768833849
                        ],
                        "iteration": 338,
                        "passed_time": 59.2626812,
                        "remaining_time": 115.5534875,
                        "test": [
                          0.5451313719,
                          0.7645204115
                        ]
                      },
                      {
                        "learn": [
                          0.536203054,
                          0.77694308
                        ],
                        "iteration": 339,
                        "passed_time": 59.38219764,
                        "remaining_time": 115.2713248,
                        "test": [
                          0.545140973,
                          0.7645594823
                        ]
                      },
                      {
                        "learn": [
                          0.5361544526,
                          0.7769843563
                        ],
                        "iteration": 340,
                        "passed_time": 59.51381906,
                        "remaining_time": 115.0135096,
                        "test": [
                          0.5451477017,
                          0.764637585
                        ]
                      },
                      {
                        "learn": [
                          0.5361067709,
                          0.7769935612
                        ],
                        "iteration": 341,
                        "passed_time": 59.63189488,
                        "remaining_time": 114.7303708,
                        "test": [
                          0.5451442041,
                          0.7650182542
                        ]
                      },
                      {
                        "learn": [
                          0.5360793062,
                          0.7769935612
                        ],
                        "iteration": 342,
                        "passed_time": 59.77391769,
                        "remaining_time": 114.4940639,
                        "test": [
                          0.545151021,
                          0.7651452282
                        ]
                      },
                      {
                        "learn": [
                          0.5360512703,
                          0.777085311
                        ],
                        "iteration": 343,
                        "passed_time": 59.93337746,
                        "remaining_time": 114.291557,
                        "test": [
                          0.5451584507,
                          0.7651062417
                        ]
                      },
                      {
                        "learn": [
                          0.5360303256,
                          0.7772457067
                        ],
                        "iteration": 344,
                        "passed_time": 60.02932198,
                        "remaining_time": 113.9687127,
                        "test": [
                          0.545162863,
                          0.7651452282
                        ]
                      },
                      {
                        "learn": [
                          0.5359863772,
                          0.7773327828
                        ],
                        "iteration": 345,
                        "passed_time": 60.16431534,
                        "remaining_time": 113.7209891,
                        "test": [
                          0.5451685141,
                          0.7652722444
                        ]
                      },
                      {
                        "learn": [
                          0.5359150436,
                          0.7773190769
                        ],
                        "iteration": 346,
                        "passed_time": 60.30926083,
                        "remaining_time": 113.4926436,
                        "test": [
                          0.545216139,
                          0.7652722444
                        ]
                      },
                      {
                        "learn": [
                          0.5358618528,
                          0.777341976
                        ],
                        "iteration": 347,
                        "passed_time": 60.37037303,
                        "remaining_time": 113.1077104,
                        "test": [
                          0.545228845,
                          0.7650962177
                        ]
                      },
                      {
                        "learn": [
                          0.5358151536,
                          0.7773556859
                        ],
                        "iteration": 348,
                        "passed_time": 60.48946371,
                        "remaining_time": 112.8327819,
                        "test": [
                          0.545243247,
                          0.7652231624
                        ]
                      },
                      {
                        "learn": [
                          0.5357867892,
                          0.7774152245
                        ],
                        "iteration": 349,
                        "passed_time": 60.58536831,
                        "remaining_time": 112.515684,
                        "test": [
                          0.5452295491,
                          0.7652231624
                        ]
                      },
                      {
                        "learn": [
                          0.5357024645,
                          0.7773511684
                        ],
                        "iteration": 350,
                        "passed_time": 60.71008366,
                        "remaining_time": 112.2531176,
                        "test": [
                          0.5452330927,
                          0.7655446858
                        ]
                      },
                      {
                        "learn": [
                          0.5356741775,
                          0.7774474586
                        ],
                        "iteration": 351,
                        "passed_time": 60.83124254,
                        "remaining_time": 111.9847874,
                        "test": [
                          0.5452353929,
                          0.7655058043
                        ]
                      },
                      {
                        "learn": [
                          0.5356401132,
                          0.7772777938
                        ],
                        "iteration": 352,
                        "passed_time": 60.99108611,
                        "remaining_time": 111.7881947,
                        "test": [
                          0.5452616436,
                          0.7653788758
                        ]
                      },
                      {
                        "learn": [
                          0.5355747594,
                          0.7774061687
                        ],
                        "iteration": 353,
                        "passed_time": 61.09059133,
                        "remaining_time": 111.4817006,
                        "test": [
                          0.5452390519,
                          0.7651640703
                        ]
                      },
                      {
                        "learn": [
                          0.5355400493,
                          0.7774245489
                        ],
                        "iteration": 354,
                        "passed_time": 61.17327153,
                        "remaining_time": 111.1458032,
                        "test": [
                          0.545220205,
                          0.7653297978
                        ]
                      },
                      {
                        "learn": [
                          0.5354984727,
                          0.7774474586
                        ],
                        "iteration": 355,
                        "passed_time": 61.28945677,
                        "remaining_time": 110.8719387,
                        "test": [
                          0.5452345741,
                          0.7652807686
                        ]
                      },
                      {
                        "learn": [
                          0.5354631243,
                          0.7775437727
                        ],
                        "iteration": 356,
                        "passed_time": 61.39141561,
                        "remaining_time": 110.573334,
                        "test": [
                          0.5452650562,
                          0.7649105368
                        ]
                      },
                      {
                        "learn": [
                          0.5354092953,
                          0.7775436857
                        ],
                        "iteration": 357,
                        "passed_time": 61.49552503,
                        "remaining_time": 110.2796845,
                        "test": [
                          0.5452626811,
                          0.7649494782
                        ]
                      },
                      {
                        "learn": [
                          0.535379638,
                          0.7776079954
                        ],
                        "iteration": 358,
                        "passed_time": 61.5987388,
                        "remaining_time": 109.9854918,
                        "test": [
                          0.5452518457,
                          0.7649494782
                        ]
                      },
                      {
                        "learn": [
                          0.5353604412,
                          0.7775850677
                        ],
                        "iteration": 359,
                        "passed_time": 61.68618716,
                        "remaining_time": 109.6643327,
                        "test": [
                          0.5452414918,
                          0.7649105368
                        ]
                      },
                      {
                        "learn": [
                          0.5353516201,
                          0.7775988106
                        ],
                        "iteration": 360,
                        "passed_time": 61.81540163,
                        "remaining_time": 109.4183979,
                        "test": [
                          0.5452472933,
                          0.7649105368
                        ]
                      },
                      {
                        "learn": [
                          0.5353331251,
                          0.7776309268
                        ],
                        "iteration": 361,
                        "passed_time": 61.96190803,
                        "remaining_time": 109.2035838,
                        "test": [
                          0.5452524,
                          0.7648715824
                        ]
                      },
                      {
                        "learn": [
                          0.5352550789,
                          0.7777181319
                        ],
                        "iteration": 362,
                        "passed_time": 62.06127184,
                        "remaining_time": 108.9064192,
                        "test": [
                          0.5452823157,
                          0.7651640703
                        ]
                      },
                      {
                        "learn": [
                          0.535245826,
                          0.7777915428
                        ],
                        "iteration": 363,
                        "passed_time": 62.18507138,
                        "remaining_time": 108.6530368,
                        "test": [
                          0.5452865474,
                          0.7652029826
                        ]
                      },
                      {
                        "learn": [
                          0.5351952039,
                          0.7777548323
                        ],
                        "iteration": 364,
                        "passed_time": 62.28323391,
                        "remaining_time": 108.3557631,
                        "test": [
                          0.5452787807,
                          0.765241882
                        ]
                      },
                      {
                        "learn": [
                          0.5351200972,
                          0.7778925193
                        ],
                        "iteration": 365,
                        "passed_time": 62.36825064,
                        "remaining_time": 108.0368058,
                        "test": [
                          0.5452748259,
                          0.7649494782
                        ]
                      },
                      {
                        "learn": [
                          0.5351013457,
                          0.7779613415
                        ],
                        "iteration": 366,
                        "passed_time": 62.48321491,
                        "remaining_time": 107.7707767,
                        "test": [
                          0.54526203,
                          0.7649884068
                        ]
                      },
                      {
                        "learn": [
                          0.5350755672,
                          0.7778741328
                        ],
                        "iteration": 367,
                        "passed_time": 62.64010057,
                        "remaining_time": 107.577564,
                        "test": [
                          0.5452508459,
                          0.7651151234
                        ]
                      },
                      {
                        "learn": [
                          0.5350173663,
                          0.7779292116
                        ],
                        "iteration": 368,
                        "passed_time": 62.94296051,
                        "remaining_time": 107.6341682,
                        "test": [
                          0.5452434216,
                          0.7651151234
                        ]
                      },
                      {
                        "learn": [
                          0.5349146136,
                          0.77802107
                        ],
                        "iteration": 369,
                        "passed_time": 63.22946065,
                        "remaining_time": 107.6609735,
                        "test": [
                          0.545234188,
                          0.7651439921
                        ]
                      },
                      {
                        "learn": [
                          0.5348726982,
                          0.7778420357
                        ],
                        "iteration": 370,
                        "passed_time": 63.44516608,
                        "remaining_time": 107.5660633,
                        "test": [
                          0.5452521597,
                          0.7648518948
                        ]
                      },
                      {
                        "learn": [
                          0.5348244516,
                          0.777837436
                        ],
                        "iteration": 371,
                        "passed_time": 63.72889906,
                        "remaining_time": 107.5853457,
                        "test": [
                          0.5452422666,
                          0.7648129758
                        ]
                      },
                      {
                        "learn": [
                          0.5348014122,
                          0.7778144875
                        ],
                        "iteration": 372,
                        "passed_time": 63.95797097,
                        "remaining_time": 107.5111201,
                        "test": [
                          0.545242115,
                          0.764774044
                        ]
                      },
                      {
                        "learn": [
                          0.5347888674,
                          0.7778466113
                        ],
                        "iteration": 373,
                        "passed_time": 64.24107983,
                        "remaining_time": 107.5265133,
                        "test": [
                          0.5452514242,
                          0.7648129758
                        ]
                      },
                      {
                        "learn": [
                          0.5347350646,
                          0.7776676577
                        ],
                        "iteration": 374,
                        "passed_time": 64.46467393,
                        "remaining_time": 107.4411232,
                        "test": [
                          0.5452343964,
                          0.7648518948
                        ]
                      },
                      {
                        "learn": [
                          0.5347052424,
                          0.7776768386
                        ],
                        "iteration": 375,
                        "passed_time": 64.65078923,
                        "remaining_time": 107.2927992,
                        "test": [
                          0.5452400474,
                          0.7648129758
                        ]
                      },
                      {
                        "learn": [
                          0.5346799127,
                          0.7777089528
                        ],
                        "iteration": 376,
                        "passed_time": 64.8405966,
                        "remaining_time": 107.1503758,
                        "test": [
                          0.5452422682,
                          0.7648129758
                        ]
                      },
                      {
                        "learn": [
                          0.5346235154,
                          0.7776309814
                        ],
                        "iteration": 377,
                        "passed_time": 65.04703973,
                        "remaining_time": 107.035076,
                        "test": [
                          0.5452050072,
                          0.7648518948
                        ]
                      },
                      {
                        "learn": [
                          0.5345986335,
                          0.7777319077
                        ],
                        "iteration": 378,
                        "passed_time": 65.30030638,
                        "remaining_time": 106.9960165,
                        "test": [
                          0.5452073949,
                          0.7650273224
                        ]
                      },
                      {
                        "learn": [
                          0.5345211947,
                          0.7778786628
                        ],
                        "iteration": 379,
                        "passed_time": 65.42794002,
                        "remaining_time": 106.7508495,
                        "test": [
                          0.5451734652,
                          0.764686414
                        ]
                      },
                      {
                        "learn": [
                          0.5344812409,
                          0.7779153256
                        ],
                        "iteration": 380,
                        "passed_time": 65.55013683,
                        "remaining_time": 106.4974664,
                        "test": [
                          0.5451938083,
                          0.7648617321
                        ]
                      },
                      {
                        "learn": [
                          0.5344664628,
                          0.7779336524
                        ],
                        "iteration": 381,
                        "passed_time": 65.65050832,
                        "remaining_time": 106.2094611,
                        "test": [
                          0.5451904208,
                          0.7648617321
                        ]
                      },
                      {
                        "learn": [
                          0.5344429889,
                          0.7780803829
                        ],
                        "iteration": 382,
                        "passed_time": 65.7593788,
                        "remaining_time": 105.9361272,
                        "test": [
                          0.5451979977,
                          0.7648617321
                        ]
                      },
                      {
                        "learn": [
                          0.534398342,
                          0.7780988154
                        ],
                        "iteration": 383,
                        "passed_time": 65.85911191,
                        "remaining_time": 105.648992,
                        "test": [
                          0.5451869927,
                          0.7646085085
                        ]
                      },
                      {
                        "learn": [
                          0.5343788984,
                          0.7782043344
                        ],
                        "iteration": 384,
                        "passed_time": 65.96580764,
                        "remaining_time": 105.3739525,
                        "test": [
                          0.5451821373,
                          0.7645209333
                        ]
                      },
                      {
                        "learn": [
                          0.5343105865,
                          0.7782134896
                        ],
                        "iteration": 385,
                        "passed_time": 66.07137536,
                        "remaining_time": 105.0979909,
                        "test": [
                          0.5452008633,
                          0.764637777
                        ]
                      },
                      {
                        "learn": [
                          0.5342849941,
                          0.7782547676
                        ],
                        "iteration": 386,
                        "passed_time": 66.22060601,
                        "remaining_time": 104.892071,
                        "test": [
                          0.5452116549,
                          0.7645209333
                        ]
                      },
                      {
                        "learn": [
                          0.5342445373,
                          0.7782364597
                        ],
                        "iteration": 387,
                        "passed_time": 66.34154656,
                        "remaining_time": 104.6418209,
                        "test": [
                          0.5452162971,
                          0.764442973
                        ]
                      },
                      {
                        "learn": [
                          0.5342030508,
                          0.7784569635
                        ],
                        "iteration": 388,
                        "passed_time": 66.46390967,
                        "remaining_time": 104.3944699,
                        "test": [
                          0.5452061457,
                          0.7649884068
                        ]
                      },
                      {
                        "learn": [
                          0.5341604991,
                          0.7784661132
                        ],
                        "iteration": 389,
                        "passed_time": 66.57126975,
                        "remaining_time": 104.1242937,
                        "test": [
                          0.5452099591,
                          0.7649884068
                        ]
                      },
                      {
                        "learn": [
                          0.5341171371,
                          0.7785027047
                        ],
                        "iteration": 390,
                        "passed_time": 66.70044055,
                        "remaining_time": 103.8889215,
                        "test": [
                          0.5452079147,
                          0.7649494782
                        ]
                      },
                      {
                        "learn": [
                          0.5340883206,
                          0.7784888522
                        ],
                        "iteration": 391,
                        "passed_time": 66.83305263,
                        "remaining_time": 103.6594286,
                        "test": [
                          0.545199821,
                          0.7649494782
                        ]
                      },
                      {
                        "learn": [
                          0.5340142191,
                          0.778617443
                        ],
                        "iteration": 392,
                        "passed_time": 66.96237763,
                        "remaining_time": 103.4253517,
                        "test": [
                          0.5451894613,
                          0.7650762094
                        ]
                      },
                      {
                        "learn": [
                          0.5339581369,
                          0.7785578591
                        ],
                        "iteration": 393,
                        "passed_time": 67.07296999,
                        "remaining_time": 103.1629945,
                        "test": [
                          0.5451859686,
                          0.7648617321
                        ]
                      },
                      {
                        "learn": [
                          0.5339225354,
                          0.7786221708
                        ],
                        "iteration": 394,
                        "passed_time": 67.2134762,
                        "remaining_time": 102.947223,
                        "test": [
                          0.5451996911,
                          0.7649494782
                        ]
                      },
                      {
                        "learn": [
                          0.533840282,
                          0.7785074134
                        ],
                        "iteration": 395,
                        "passed_time": 67.29531103,
                        "remaining_time": 102.6423431,
                        "test": [
                          0.5452327966,
                          0.7647350993
                        ]
                      },
                      {
                        "learn": [
                          0.5337733885,
                          0.7787691037
                        ],
                        "iteration": 396,
                        "passed_time": 67.41603609,
                        "remaining_time": 102.3976568,
                        "test": [
                          0.5452073585,
                          0.7647350993
                        ]
                      },
                      {
                        "learn": [
                          0.5337112053,
                          0.7786817544
                        ],
                        "iteration": 397,
                        "passed_time": 67.50885795,
                        "remaining_time": 102.1113881,
                        "test": [
                          0.5452659698,
                          0.7649105368
                        ]
                      },
                      {
                        "learn": [
                          0.5336824015,
                          0.778543998
                        ],
                        "iteration": 398,
                        "passed_time": 67.60351564,
                        "remaining_time": 101.8288544,
                        "test": [
                          0.5452490833,
                          0.764783833
                        ]
                      },
                      {
                        "learn": [
                          0.5336439109,
                          0.778543998
                        ],
                        "iteration": 399,
                        "passed_time": 67.7276718,
                        "remaining_time": 101.5915077,
                        "test": [
                          0.5452597867,
                          0.7646961417
                        ]
                      },
                      {
                        "learn": [
                          0.5335779769,
                          0.778410968
                        ],
                        "iteration": 400,
                        "passed_time": 67.88099199,
                        "remaining_time": 101.3982898,
                        "test": [
                          0.5452543984,
                          0.7646181878
                        ]
                      },
                      {
                        "learn": [
                          0.5335313155,
                          0.7782732565
                        ],
                        "iteration": 401,
                        "passed_time": 68.00173484,
                        "remaining_time": 101.1568095,
                        "test": [
                          0.5452553975,
                          0.7643649611
                        ]
                      },
                      {
                        "learn": [
                          0.533464433,
                          0.7786678779
                        ],
                        "iteration": 402,
                        "passed_time": 68.12189566,
                        "remaining_time": 100.9150663,
                        "test": [
                          0.5452563879,
                          0.7643354325
                        ]
                      },
                      {
                        "learn": [
                          0.5334326632,
                          0.778741328
                        ],
                        "iteration": 403,
                        "passed_time": 68.2743736,
                        "remaining_time": 100.7216007,
                        "test": [
                          0.5452618605,
                          0.7643354325
                        ]
                      },
                      {
                        "learn": [
                          0.5334027565,
                          0.7786401354
                        ],
                        "iteration": 404,
                        "passed_time": 68.41048285,
                        "remaining_time": 100.5042896,
                        "test": [
                          0.5452655909,
                          0.7643354325
                        ]
                      },
                      {
                        "learn": [
                          0.5333246095,
                          0.7787183087
                        ],
                        "iteration": 405,
                        "passed_time": 68.54752881,
                        "remaining_time": 100.2887491,
                        "test": [
                          0.5452734972,
                          0.7643744822
                        ]
                      },
                      {
                        "learn": [
                          0.5332797041,
                          0.7787734875
                        ],
                        "iteration": 406,
                        "passed_time": 68.6974464,
                        "remaining_time": 100.0923482,
                        "test": [
                          0.545252066,
                          0.7643744822
                        ]
                      },
                      {
                        "learn": [
                          0.5332408941,
                          0.7786218571
                        ],
                        "iteration": 407,
                        "passed_time": 68.80496522,
                        "remaining_time": 99.83465542,
                        "test": [
                          0.5452454639,
                          0.7639947002
                        ]
                      },
                      {
                        "learn": [
                          0.5332020474,
                          0.7785897118
                        ],
                        "iteration": 408,
                        "passed_time": 68.88012548,
                        "remaining_time": 99.53093927,
                        "test": [
                          0.5452420203,
                          0.7639947002
                        ]
                      },
                      {
                        "learn": [
                          0.5331565094,
                          0.7785207198
                        ],
                        "iteration": 409,
                        "passed_time": 68.94404846,
                        "remaining_time": 99.2121673,
                        "test": [
                          0.5452512797,
                          0.7640244911
                        ]
                      },
                      {
                        "learn": [
                          0.5331196516,
                          0.7785711338
                        ],
                        "iteration": 410,
                        "passed_time": 69.05594668,
                        "remaining_time": 98.96338831,
                        "test": [
                          0.5452519543,
                          0.7640244911
                        ]
                      },
                      {
                        "learn": [
                          0.533086008,
                          0.7786810829
                        ],
                        "iteration": 411,
                        "passed_time": 69.17872421,
                        "remaining_time": 98.73080057,
                        "test": [
                          0.5452968381,
                          0.7638980807
                        ]
                      },
                      {
                        "learn": [
                          0.5330493543,
                          0.7785204439
                        ],
                        "iteration": 412,
                        "passed_time": 69.33715926,
                        "remaining_time": 98.5494249,
                        "test": [
                          0.5453408597,
                          0.7637326274
                        ]
                      },
                      {
                        "learn": [
                          0.5330273127,
                          0.7785569902
                        ],
                        "iteration": 413,
                        "passed_time": 69.43738221,
                        "remaining_time": 98.28576323,
                        "test": [
                          0.545342135,
                          0.7638590104
                        ]
                      },
                      {
                        "learn": [
                          0.5330007153,
                          0.778428542
                        ],
                        "iteration": 414,
                        "passed_time": 69.52128047,
                        "remaining_time": 97.99987729,
                        "test": [
                          0.5453460634,
                          0.7638590104
                        ]
                      },
                      {
                        "learn": [
                          0.532920694,
                          0.7785110332
                        ],
                        "iteration": 415,
                        "passed_time": 69.62262228,
                        "remaining_time": 97.73945051,
                        "test": [
                          0.5453273391,
                          0.7639072848
                        ]
                      },
                      {
                        "learn": [
                          0.5328692673,
                          0.7785658323
                        ],
                        "iteration": 416,
                        "passed_time": 69.72722113,
                        "remaining_time": 97.48434033,
                        "test": [
                          0.5453321098,
                          0.7643744822
                        ]
                      },
                      {
                        "learn": [
                          0.5328033585,
                          0.7784877968
                        ],
                        "iteration": 417,
                        "passed_time": 69.85052737,
                        "remaining_time": 97.25599744,
                        "test": [
                          0.545316835,
                          0.764160318
                        ]
                      },
                      {
                        "learn": [
                          0.5327865995,
                          0.7785702507
                        ],
                        "iteration": 418,
                        "passed_time": 69.98158717,
                        "remaining_time": 97.03890727,
                        "test": [
                          0.5453072821,
                          0.7643259357
                        ]
                      },
                      {
                        "learn": [
                          0.5327143553,
                          0.7785290237
                        ],
                        "iteration": 419,
                        "passed_time": 70.06668476,
                        "remaining_time": 96.75875514,
                        "test": [
                          0.5453122898,
                          0.7644525427
                        ]
                      },
                      {
                        "learn": [
                          0.5326853511,
                          0.7784510119
                        ],
                        "iteration": 420,
                        "passed_time": 70.16420905,
                        "remaining_time": 96.49662004,
                        "test": [
                          0.5453130302,
                          0.7644915535
                        ]
                      },
                      {
                        "learn": [
                          0.5326605136,
                          0.7784280592
                        ],
                        "iteration": 421,
                        "passed_time": 70.31779204,
                        "remaining_time": 96.31204692,
                        "test": [
                          0.5453218299,
                          0.7644135189
                        ]
                      },
                      {
                        "learn": [
                          0.5326509378,
                          0.7784601434
                        ],
                        "iteration": 422,
                        "passed_time": 70.41938772,
                        "remaining_time": 96.05670618,
                        "test": [
                          0.5453288936,
                          0.7644135189
                        ]
                      },
                      {
                        "learn": [
                          0.5326281288,
                          0.7784097935
                        ],
                        "iteration": 423,
                        "passed_time": 70.54049539,
                        "remaining_time": 95.82859752,
                        "test": [
                          0.5453294096,
                          0.7643744822
                        ]
                      },
                      {
                        "learn": [
                          0.5326201963,
                          0.7784601434
                        ],
                        "iteration": 424,
                        "passed_time": 70.65107945,
                        "remaining_time": 95.58675455,
                        "test": [
                          0.5453263709,
                          0.7643354325
                        ]
                      },
                      {
                        "learn": [
                          0.5325879343,
                          0.7784830998
                        ],
                        "iteration": 425,
                        "passed_time": 70.77729441,
                        "remaining_time": 95.36658918,
                        "test": [
                          0.5453068062,
                          0.7642087821
                        ]
                      },
                      {
                        "learn": [
                          0.5325536518,
                          0.7785840927
                        ],
                        "iteration": 426,
                        "passed_time": 70.89861868,
                        "remaining_time": 95.14030094,
                        "test": [
                          0.5453226383,
                          0.7643259357
                        ]
                      },
                      {
                        "learn": [
                          0.5325371025,
                          0.7784969287
                        ],
                        "iteration": 427,
                        "passed_time": 71.01704622,
                        "remaining_time": 94.91063187,
                        "test": [
                          0.5453369886,
                          0.7644039735
                        ]
                      },
                      {
                        "learn": [
                          0.5325038978,
                          0.778634452
                        ],
                        "iteration": 428,
                        "passed_time": 71.12929027,
                        "remaining_time": 94.67325115,
                        "test": [
                          0.5453346994,
                          0.7644525427
                        ]
                      },
                      {
                        "learn": [
                          0.5324933748,
                          0.7785702507
                        ],
                        "iteration": 429,
                        "passed_time": 71.23902784,
                        "remaining_time": 94.43312992,
                        "test": [
                          0.5453346463,
                          0.7644525427
                        ]
                      },
                      {
                        "learn": [
                          0.5324314617,
                          0.7785290237
                        ],
                        "iteration": 430,
                        "passed_time": 71.3964044,
                        "remaining_time": 94.25650605,
                        "test": [
                          0.5453468972,
                          0.7644525427
                        ]
                      },
                      {
                        "learn": [
                          0.5323306646,
                          0.7786709539
                        ],
                        "iteration": 431,
                        "passed_time": 71.52932836,
                        "remaining_time": 94.04782062,
                        "test": [
                          0.545343343,
                          0.7640915119
                        ]
                      },
                      {
                        "learn": [
                          0.5323016392,
                          0.778657104
                        ],
                        "iteration": 432,
                        "passed_time": 71.62759288,
                        "remaining_time": 93.79409969,
                        "test": [
                          0.5453204535,
                          0.764462125
                        ]
                      },
                      {
                        "learn": [
                          0.5322402377,
                          0.7787395408
                        ],
                        "iteration": 433,
                        "passed_time": 71.74150837,
                        "remaining_time": 93.5615063,
                        "test": [
                          0.545360902,
                          0.7643354325
                        ]
                      },
                      {
                        "learn": [
                          0.5322208689,
                          0.7787027116
                        ],
                        "iteration": 434,
                        "passed_time": 71.83246143,
                        "remaining_time": 93.29963381,
                        "test": [
                          0.5453645812,
                          0.7642087821
                        ]
                      },
                      {
                        "learn": [
                          0.532207402,
                          0.7787760148
                        ],
                        "iteration": 435,
                        "passed_time": 71.91475208,
                        "remaining_time": 93.02733984,
                        "test": [
                          0.5453591821,
                          0.76429637
                        ]
                      },
                      {
                        "learn": [
                          0.5321958949,
                          0.7788310939
                        ],
                        "iteration": 436,
                        "passed_time": 72.00584866,
                        "remaining_time": 92.7672604,
                        "test": [
                          0.5453619945,
                          0.7644230769
                        ]
                      },
                      {
                        "learn": [
                          0.5321617825,
                          0.7788679556
                        ],
                        "iteration": 437,
                        "passed_time": 72.15956801,
                        "remaining_time": 92.58830416,
                        "test": [
                          0.5453422442,
                          0.7644230769
                        ]
                      },
                      {
                        "learn": [
                          0.5321329105,
                          0.7790285337
                        ],
                        "iteration": 438,
                        "passed_time": 72.33220275,
                        "remaining_time": 92.43363494,
                        "test": [
                          0.54534835,
                          0.76429637
                        ]
                      },
                      {
                        "learn": [
                          0.5321071783,
                          0.7789599571
                        ],
                        "iteration": 439,
                        "passed_time": 72.48511436,
                        "remaining_time": 92.25378191,
                        "test": [
                          0.5453559536,
                          0.76429637
                        ]
                      },
                      {
                        "learn": [
                          0.5320976083,
                          0.7788909503
                        ],
                        "iteration": 440,
                        "passed_time": 72.5865522,
                        "remaining_time": 92.00880426,
                        "test": [
                          0.545351984,
                          0.7644230769
                        ]
                      },
                      {
                        "learn": [
                          0.5320684235,
                          0.7788865979
                        ],
                        "iteration": 441,
                        "passed_time": 72.70911129,
                        "remaining_time": 91.7911405,
                        "test": [
                          0.5453615132,
                          0.76429637
                        ]
                      },
                      {
                        "learn": [
                          0.532009607,
                          0.7786848073
                        ],
                        "iteration": 442,
                        "passed_time": 72.81863786,
                        "remaining_time": 91.55751984,
                        "test": [
                          0.5453555453,
                          0.7642087821
                        ]
                      },
                      {
                        "learn": [
                          0.5319803357,
                          0.7790146362
                        ],
                        "iteration": 443,
                        "passed_time": 72.92446893,
                        "remaining_time": 91.31983046,
                        "test": [
                          0.5453577857,
                          0.7640039775
                        ]
                      },
                      {
                        "learn": [
                          0.5319099427,
                          0.7787716406
                        ],
                        "iteration": 444,
                        "passed_time": 73.00563966,
                        "remaining_time": 91.05197755,
                        "test": [
                          0.5453626656,
                          0.7640039775
                        ]
                      },
                      {
                        "learn": [
                          0.5318971191,
                          0.7788905374
                        ],
                        "iteration": 445,
                        "passed_time": 73.1354365,
                        "remaining_time": 90.84536283,
                        "test": [
                          0.5453599838,
                          0.7643744822
                        ]
                      },
                      {
                        "learn": [
                          0.5318716571,
                          0.778917872
                        ],
                        "iteration": 446,
                        "passed_time": 73.25347405,
                        "remaining_time": 90.62454396,
                        "test": [
                          0.545342633,
                          0.7639556071
                        ]
                      },
                      {
                        "learn": [
                          0.5317957861,
                          0.7789820729
                        ],
                        "iteration": 447,
                        "passed_time": 73.40823052,
                        "remaining_time": 90.44942689,
                        "test": [
                          0.5453512173,
                          0.763916501
                        ]
                      },
                      {
                        "learn": [
                          0.5317497432,
                          0.7788354556
                        ],
                        "iteration": 448,
                        "passed_time": 73.52846934,
                        "remaining_time": 90.23204143,
                        "test": [
                          0.545348862,
                          0.7637899619
                        ]
                      },
                      {
                        "learn": [
                          0.5317021658,
                          0.7789456329
                        ],
                        "iteration": 449,
                        "passed_time": 73.62106426,
                        "remaining_time": 89.98130076,
                        "test": [
                          0.545354517,
                          0.7642478463
                        ]
                      },
                      {
                        "learn": [
                          0.5316490559,
                          0.779032391
                        ],
                        "iteration": 450,
                        "passed_time": 73.72748043,
                        "remaining_time": 89.74808594,
                        "test": [
                          0.5453521428,
                          0.7641212523
                        ]
                      },
                      {
                        "learn": [
                          0.5316142453,
                          0.7789451998
                        ],
                        "iteration": 451,
                        "passed_time": 73.86654858,
                        "remaining_time": 89.55501908,
                        "test": [
                          0.5453601064,
                          0.7642478463
                        ]
                      },
                      {
                        "learn": [
                          0.5315917798,
                          0.7789313229
                        ],
                        "iteration": 452,
                        "passed_time": 73.99317142,
                        "remaining_time": 89.34716284,
                        "test": [
                          0.5453320638,
                          0.7643259357
                        ]
                      },
                      {
                        "learn": [
                          0.5315862126,
                          0.7789495366
                        ],
                        "iteration": 453,
                        "passed_time": 74.09674183,
                        "remaining_time": 89.11194061,
                        "test": [
                          0.5453397654,
                          0.7643649611
                        ]
                      },
                      {
                        "learn": [
                          0.5315387712,
                          0.7789035792
                        ],
                        "iteration": 454,
                        "passed_time": 74.237082,
                        "remaining_time": 88.92133998,
                        "test": [
                          0.5453245695,
                          0.7643649611
                        ]
                      },
                      {
                        "learn": [
                          0.5314867019,
                          0.778917027
                        ],
                        "iteration": 455,
                        "passed_time": 74.33851405,
                        "remaining_time": 88.68454308,
                        "test": [
                          0.5453379667,
                          0.764442973
                        ]
                      },
                      {
                        "learn": [
                          0.5314153052,
                          0.7791416097
                        ],
                        "iteration": 456,
                        "passed_time": 74.51836063,
                        "remaining_time": 88.54150946,
                        "test": [
                          0.5453406892,
                          0.7646085085
                        ]
                      },
                      {
                        "learn": [
                          0.531344524,
                          0.7793021052
                        ],
                        "iteration": 457,
                        "passed_time": 74.65517034,
                        "remaining_time": 88.34738499,
                        "test": [
                          0.5453371071,
                          0.7644039735
                        ]
                      },
                      {
                        "learn": [
                          0.5312871057,
                          0.7792839191
                        ],
                        "iteration": 458,
                        "passed_time": 74.78624465,
                        "remaining_time": 88.14675023,
                        "test": [
                          0.5453654533,
                          0.764822789
                        ]
                      },
                      {
                        "learn": [
                          0.5312599278,
                          0.7790089385
                        ],
                        "iteration": 459,
                        "passed_time": 74.89778,
                        "remaining_time": 87.92348087,
                        "test": [
                          0.5453975955,
                          0.7645695364
                        ]
                      },
                      {
                        "learn": [
                          0.531229418,
                          0.7790865286
                        ],
                        "iteration": 460,
                        "passed_time": 75.02223416,
                        "remaining_time": 87.7158009,
                        "test": [
                          0.5454134968,
                          0.7646085085
                        ]
                      },
                      {
                        "learn": [
                          0.5312025621,
                          0.7790860436
                        ],
                        "iteration": 461,
                        "passed_time": 75.15047463,
                        "remaining_time": 87.51289037,
                        "test": [
                          0.5454034454,
                          0.7647350993
                        ]
                      },
                      {
                        "learn": [
                          0.5311472318,
                          0.7790309966
                        ],
                        "iteration": 462,
                        "passed_time": 75.29474432,
                        "remaining_time": 87.32889352,
                        "test": [
                          0.5454139182,
                          0.7646961417
                        ]
                      },
                      {
                        "learn": [
                          0.5310843126,
                          0.7793699815
                        ],
                        "iteration": 463,
                        "passed_time": 75.51579762,
                        "remaining_time": 87.23376622,
                        "test": [
                          0.5453870899,
                          0.764433416
                        ]
                      },
                      {
                        "learn": [
                          0.5310270861,
                          0.7795074541
                        ],
                        "iteration": 464,
                        "passed_time": 75.73273953,
                        "remaining_time": 87.13336699,
                        "test": [
                          0.5454130846,
                          0.7646474677
                        ]
                      },
                      {
                        "learn": [
                          0.5309978272,
                          0.7796086509
                        ],
                        "iteration": 465,
                        "passed_time": 75.96610013,
                        "remaining_time": 87.05128213,
                        "test": [
                          0.5454291751,
                          0.764686414
                        ]
                      },
                      {
                        "learn": [
                          0.5309525793,
                          0.7796959334
                        ],
                        "iteration": 466,
                        "passed_time": 76.16111382,
                        "remaining_time": 86.92478302,
                        "test": [
                          0.5454285288,
                          0.7643069798
                        ]
                      },
                      {
                        "learn": [
                          0.5309312663,
                          0.7796819642
                        ],
                        "iteration": 467,
                        "passed_time": 76.44011801,
                        "remaining_time": 86.89346748,
                        "test": [
                          0.5454238064,
                          0.7643069798
                        ]
                      },
                      {
                        "learn": [
                          0.5309276379,
                          0.7796728876
                        ],
                        "iteration": 468,
                        "passed_time": 76.77303293,
                        "remaining_time": 86.92213323,
                        "test": [
                          0.5454171249,
                          0.7642679901
                        ]
                      },
                      {
                        "learn": [
                          0.5309050104,
                          0.7797371349
                        ],
                        "iteration": 469,
                        "passed_time": 77.02871037,
                        "remaining_time": 86.86216275,
                        "test": [
                          0.5454178275,
                          0.7642679901
                        ]
                      },
                      {
                        "learn": [
                          0.5308831432,
                          0.7796777782
                        ],
                        "iteration": 470,
                        "passed_time": 77.30246913,
                        "remaining_time": 86.82166915,
                        "test": [
                          0.5454047909,
                          0.7642679901
                        ]
                      },
                      {
                        "learn": [
                          0.5308399464,
                          0.7798063054
                        ],
                        "iteration": 471,
                        "passed_time": 77.59075669,
                        "remaining_time": 86.79643969,
                        "test": [
                          0.5453970559,
                          0.7638797092
                        ]
                      },
                      {
                        "learn": [
                          0.5308188054,
                          0.7799439453
                        ],
                        "iteration": 472,
                        "passed_time": 77.87540926,
                        "remaining_time": 86.76604795,
                        "test": [
                          0.5453978632,
                          0.7642101785
                        ]
                      },
                      {
                        "learn": [
                          0.5307801221,
                          0.7798936565
                        ],
                        "iteration": 473,
                        "passed_time": 78.04877577,
                        "remaining_time": 86.61108872,
                        "test": [
                          0.5454184372,
                          0.7642101785
                        ]
                      },
                      {
                        "learn": [
                          0.5307529976,
                          0.7797881548
                        ],
                        "iteration": 474,
                        "passed_time": 78.20037444,
                        "remaining_time": 86.4319928,
                        "test": [
                          0.5454410284,
                          0.7638797092
                        ]
                      },
                      {
                        "learn": [
                          0.5306727351,
                          0.7797692625
                        ],
                        "iteration": 475,
                        "passed_time": 78.29820926,
                        "remaining_time": 86.193827,
                        "test": [
                          0.5454329021,
                          0.7641322314
                        ]
                      },
                      {
                        "learn": [
                          0.5306537386,
                          0.7798286091
                        ],
                        "iteration": 476,
                        "passed_time": 78.42482989,
                        "remaining_time": 85.98781139,
                        "test": [
                          0.5454350681,
                          0.7641712114
                        ]
                      },
                      {
                        "learn": [
                          0.5305845935,
                          0.780140967
                        ],
                        "iteration": 477,
                        "passed_time": 78.55082867,
                        "remaining_time": 85.78144888,
                        "test": [
                          0.545428666,
                          0.7643754131
                        ]
                      },
                      {
                        "learn": [
                          0.5305170337,
                          0.7799843435
                        ],
                        "iteration": 478,
                        "passed_time": 78.73358462,
                        "remaining_time": 85.63715571,
                        "test": [
                          0.5454335895,
                          0.7645017353
                        ]
                      },
                      {
                        "learn": [
                          0.5304754673,
                          0.7800024719
                        ],
                        "iteration": 479,
                        "passed_time": 78.86525104,
                        "remaining_time": 85.43735529,
                        "test": [
                          0.5454349216,
                          0.7643754131
                        ]
                      },
                      {
                        "learn": [
                          0.5304352953,
                          0.7799843435
                        ],
                        "iteration": 480,
                        "passed_time": 79.02569545,
                        "remaining_time": 85.26888969,
                        "test": [
                          0.5454304807,
                          0.7641618497
                        ]
                      },
                      {
                        "learn": [
                          0.5303941022,
                          0.7801550004
                        ],
                        "iteration": 481,
                        "passed_time": 79.18420716,
                        "remaining_time": 85.09838031,
                        "test": [
                          0.54545242,
                          0.7642007926
                        ]
                      },
                      {
                        "learn": [
                          0.530380287,
                          0.780122841
                        ],
                        "iteration": 482,
                        "passed_time": 79.29416555,
                        "remaining_time": 84.87594946,
                        "test": [
                          0.5454606716,
                          0.7642007926
                        ]
                      },
                      {
                        "learn": [
                          0.5303543678,
                          0.7799802192
                        ],
                        "iteration": 483,
                        "passed_time": 79.43788398,
                        "remaining_time": 84.68997548,
                        "test": [
                          0.5454712944,
                          0.7642786398
                        ]
                      },
                      {
                        "learn": [
                          0.5303198595,
                          0.7800074169
                        ],
                        "iteration": 484,
                        "passed_time": 79.53949923,
                        "remaining_time": 84.45946826,
                        "test": [
                          0.5454761218,
                          0.7641914191
                        ]
                      },
                      {
                        "learn": [
                          0.5302873396,
                          0.7801631778
                        ],
                        "iteration": 485,
                        "passed_time": 79.70675184,
                        "remaining_time": 84.29891038,
                        "test": [
                          0.5454791704,
                          0.7643953143
                        ]
                      },
                      {
                        "learn": [
                          0.530255223,
                          0.7801994067
                        ],
                        "iteration": 486,
                        "passed_time": 79.83376249,
                        "remaining_time": 84.09593461,
                        "test": [
                          0.5454887449,
                          0.7643953143
                        ]
                      },
                      {
                        "learn": [
                          0.5302190488,
                          0.7802125381
                        ],
                        "iteration": 487,
                        "passed_time": 79.93510245,
                        "remaining_time": 83.866337,
                        "test": [
                          0.5455330883,
                          0.7640171504
                        ]
                      },
                      {
                        "learn": [
                          0.5301690988,
                          0.7801853759
                        ],
                        "iteration": 488,
                        "passed_time": 80.06492958,
                        "remaining_time": 83.66703275,
                        "test": [
                          0.5455393702,
                          0.764230325
                        ]
                      },
                      {
                        "learn": [
                          0.530119394,
                          0.7802365352
                        ],
                        "iteration": 489,
                        "passed_time": 80.18598266,
                        "remaining_time": 83.45887991,
                        "test": [
                          0.5455508125,
                          0.7637172516
                        ]
                      },
                      {
                        "learn": [
                          0.5300493789,
                          0.7802356237
                        ],
                        "iteration": 490,
                        "passed_time": 80.27625621,
                        "remaining_time": 83.21917396,
                        "test": [
                          0.5455573758,
                          0.7636783125
                        ]
                      },
                      {
                        "learn": [
                          0.5299965859,
                          0.7802899267
                        ],
                        "iteration": 491,
                        "passed_time": 80.36690314,
                        "remaining_time": 82.98046096,
                        "test": [
                          0.5455321625,
                          0.764182058
                        ]
                      },
                      {
                        "learn": [
                          0.5299276261,
                          0.7803672898
                        ],
                        "iteration": 492,
                        "passed_time": 80.49939834,
                        "remaining_time": 82.78538531,
                        "test": [
                          0.5455086489,
                          0.7639003465
                        ]
                      },
                      {
                        "learn": [
                          0.5298659947,
                          0.7803120754
                        ],
                        "iteration": 493,
                        "passed_time": 80.6258213,
                        "remaining_time": 82.58434327,
                        "test": [
                          0.5454933296,
                          0.7640653358
                        ]
                      },
                      {
                        "learn": [
                          0.5298315985,
                          0.7805731697
                        ],
                        "iteration": 494,
                        "passed_time": 80.70879043,
                        "remaining_time": 82.33927104,
                        "test": [
                          0.5454692103,
                          0.7638613861
                        ]
                      },
                      {
                        "learn": [
                          0.5297758878,
                          0.780568135
                        ],
                        "iteration": 495,
                        "passed_time": 81.04759944,
                        "remaining_time": 82.35481879,
                        "test": [
                          0.5454598519,
                          0.7641525004
                        ]
                      },
                      {
                        "learn": [
                          0.529725295,
                          0.7806454269
                        ],
                        "iteration": 496,
                        "passed_time": 81.14869392,
                        "remaining_time": 82.12835622,
                        "test": [
                          0.5454915105,
                          0.764182058
                        ]
                      },
                      {
                        "learn": [
                          0.529715986,
                          0.7805721342
                        ],
                        "iteration": 497,
                        "passed_time": 81.21700873,
                        "remaining_time": 81.86935418,
                        "test": [
                          0.545492634,
                          0.764182058
                        ]
                      },
                      {
                        "learn": [
                          0.5296519066,
                          0.7807830061
                        ],
                        "iteration": 498,
                        "passed_time": 81.33771916,
                        "remaining_time": 81.66372205,
                        "test": [
                          0.5454827198,
                          0.7641431635
                        ]
                      },
                      {
                        "learn": [
                          0.5296083392,
                          0.7808050045
                        ],
                        "iteration": 499,
                        "passed_time": 81.46455138,
                        "remaining_time": 81.46455138,
                        "test": [
                          0.5454843025,
                          0.7638911789
                        ]
                      },
                      {
                        "learn": [
                          0.5295758036,
                          0.7807497634
                        ],
                        "iteration": 500,
                        "passed_time": 81.58556609,
                        "remaining_time": 81.25987521,
                        "test": [
                          0.545513133,
                          0.7638911789
                        ]
                      },
                      {
                        "learn": [
                          0.5295118535,
                          0.7810017698
                        ],
                        "iteration": 501,
                        "passed_time": 81.71987098,
                        "remaining_time": 81.06871663,
                        "test": [
                          0.5455056357,
                          0.7640949555
                        ]
                      },
                      {
                        "learn": [
                          0.5294773417,
                          0.7810519384
                        ],
                        "iteration": 502,
                        "passed_time": 81.86020952,
                        "remaining_time": 80.88374579,
                        "test": [
                          0.545502544,
                          0.7640949555
                        ]
                      },
                      {
                        "learn": [
                          0.5294450417,
                          0.7811483844
                        ],
                        "iteration": 503,
                        "passed_time": 82.03402306,
                        "remaining_time": 80.73189571,
                        "test": [
                          0.5455095254,
                          0.7640949555
                        ]
                      },
                      {
                        "learn": [
                          0.5294171368,
                          0.7812036885
                        ],
                        "iteration": 504,
                        "passed_time": 82.17284899,
                        "remaining_time": 80.54566386,
                        "test": [
                          0.5455068995,
                          0.7640171504
                        ]
                      },
                      {
                        "learn": [
                          0.5293994307,
                          0.7812358487
                        ],
                        "iteration": 505,
                        "passed_time": 82.30061657,
                        "remaining_time": 80.34882329,
                        "test": [
                          0.5455047235,
                          0.7640560594
                        ]
                      },
                      {
                        "learn": [
                          0.5293824657,
                          0.7813091807
                        ],
                        "iteration": 506,
                        "passed_time": 82.40929142,
                        "remaining_time": 80.13368968,
                        "test": [
                          0.5455051235,
                          0.7640560594
                        ]
                      },
                      {
                        "learn": [
                          0.5293527435,
                          0.7812448543
                        ],
                        "iteration": 507,
                        "passed_time": 82.55446314,
                        "remaining_time": 79.95432256,
                        "test": [
                          0.5455101808,
                          0.7640560594
                        ]
                      },
                      {
                        "learn": [
                          0.5292776881,
                          0.7814236897
                        ],
                        "iteration": 508,
                        "passed_time": 82.69821544,
                        "remaining_time": 79.77372059,
                        "test": [
                          0.5455013913,
                          0.7639690127
                        ]
                      },
                      {
                        "learn": [
                          0.529265535,
                          0.7814700432
                        ],
                        "iteration": 509,
                        "passed_time": 82.83058931,
                        "remaining_time": 79.5823309,
                        "test": [
                          0.5455036133,
                          0.7639301022
                        ]
                      },
                      {
                        "learn": [
                          0.5292432442,
                          0.7813323452
                        ],
                        "iteration": 510,
                        "passed_time": 83.01367044,
                        "remaining_time": 79.43969637,
                        "test": [
                          0.545493386,
                          0.7638041866
                        ]
                      },
                      {
                        "learn": [
                          0.5292295409,
                          0.7814236897
                        ],
                        "iteration": 511,
                        "passed_time": 83.12924476,
                        "remaining_time": 79.23256141,
                        "test": [
                          0.5454951302,
                          0.7638041866
                        ]
                      },
                      {
                        "learn": [
                          0.5291817942,
                          0.7815845824
                        ],
                        "iteration": 512,
                        "passed_time": 83.25390626,
                        "remaining_time": 79.03441004,
                        "test": [
                          0.5454861507,
                          0.7639301022
                        ]
                      },
                      {
                        "learn": [
                          0.5291373429,
                          0.7816901408
                        ],
                        "iteration": 513,
                        "passed_time": 83.36408021,
                        "remaining_time": 78.82284627,
                        "test": [
                          0.545476736,
                          0.7640560594
                        ]
                      },
                      {
                        "learn": [
                          0.5291025845,
                          0.7816257618
                        ],
                        "iteration": 514,
                        "passed_time": 83.46676169,
                        "remaining_time": 78.60462023,
                        "test": [
                          0.5454976255,
                          0.7637652489
                        ]
                      },
                      {
                        "learn": [
                          0.5290599792,
                          0.7815845824
                        ],
                        "iteration": 515,
                        "passed_time": 83.58580558,
                        "remaining_time": 78.40218973,
                        "test": [
                          0.5454977959,
                          0.7641431635
                        ]
                      },
                      {
                        "learn": [
                          0.5290104801,
                          0.7814932257
                        ],
                        "iteration": 516,
                        "passed_time": 83.68389825,
                        "remaining_time": 78.18050842,
                        "test": [
                          0.5455271701,
                          0.7638911789
                        ]
                      },
                      {
                        "learn": [
                          0.5289818502,
                          0.7815987809
                        ],
                        "iteration": 517,
                        "passed_time": 83.81332401,
                        "remaining_time": 77.9884598,
                        "test": [
                          0.545548704,
                          0.7636783125
                        ]
                      },
                      {
                        "learn": [
                          0.5289455386,
                          0.7817313236
                        ],
                        "iteration": 518,
                        "passed_time": 83.92662688,
                        "remaining_time": 77.78171008,
                        "test": [
                          0.5455463207,
                          0.7638431114
                        ]
                      },
                      {
                        "learn": [
                          0.5289094213,
                          0.78165795
                        ],
                        "iteration": 519,
                        "passed_time": 84.07544861,
                        "remaining_time": 77.60810641,
                        "test": [
                          0.5455507945,
                          0.7636783125
                        ]
                      },
                      {
                        "learn": [
                          0.5288848246,
                          0.7816863698
                        ],
                        "iteration": 520,
                        "passed_time": 84.19956437,
                        "remaining_time": 77.41188355,
                        "test": [
                          0.5455827075,
                          0.7635914333
                        ]
                      },
                      {
                        "learn": [
                          0.528840599,
                          0.7818099436
                        ],
                        "iteration": 521,
                        "passed_time": 84.30807264,
                        "remaining_time": 77.20164506,
                        "test": [
                          0.5456102685,
                          0.7638041866
                        ]
                      },
                      {
                        "learn": [
                          0.5288048926,
                          0.7816669412
                        ],
                        "iteration": 522,
                        "passed_time": 84.42324589,
                        "remaining_time": 76.99787436,
                        "test": [
                          0.5455927462,
                          0.7636393605
                        ]
                      },
                      {
                        "learn": [
                          0.5287681195,
                          0.7814365096
                        ],
                        "iteration": 523,
                        "passed_time": 84.49878301,
                        "remaining_time": 76.75843647,
                        "test": [
                          0.545601001,
                          0.7639301022
                        ]
                      },
                      {
                        "learn": [
                          0.5287625703,
                          0.7815098378
                        ],
                        "iteration": 524,
                        "passed_time": 84.61152844,
                        "remaining_time": 76.55328763,
                        "test": [
                          0.5456045517,
                          0.7640171504
                        ]
                      },
                      {
                        "learn": [
                          0.5287315598,
                          0.7815935763
                        ],
                        "iteration": 525,
                        "passed_time": 84.72770634,
                        "remaining_time": 76.35158328,
                        "test": [
                          0.5456067734,
                          0.7640171504
                        ]
                      },
                      {
                        "learn": [
                          0.5287019847,
                          0.7815987809
                        ],
                        "iteration": 526,
                        "passed_time": 84.8055016,
                        "remaining_time": 76.11575381,
                        "test": [
                          0.5456134196,
                          0.7641431635
                        ]
                      },
                      {
                        "learn": [
                          0.5286945128,
                          0.7815987809
                        ],
                        "iteration": 527,
                        "passed_time": 84.94301006,
                        "remaining_time": 75.93390294,
                        "test": [
                          0.5456154795,
                          0.7643080983
                        ]
                      },
                      {
                        "learn": [
                          0.5286768787,
                          0.7816631657
                        ],
                        "iteration": 528,
                        "passed_time": 85.08333418,
                        "remaining_time": 75.75472665,
                        "test": [
                          0.5456132713,
                          0.764182058
                        ]
                      },
                      {
                        "learn": [
                          0.5286640976,
                          0.7816077753
                        ],
                        "iteration": 529,
                        "passed_time": 85.21556725,
                        "remaining_time": 75.5685219,
                        "test": [
                          0.5455994383,
                          0.764230325
                        ]
                      },
                      {
                        "learn": [
                          0.528637966,
                          0.7815755879
                        ],
                        "iteration": 530,
                        "passed_time": 85.3409286,
                        "remaining_time": 75.37645106,
                        "test": [
                          0.5456002914,
                          0.7639782286
                        ]
                      },
                      {
                        "learn": [
                          0.5286249195,
                          0.7816167689
                        ],
                        "iteration": 531,
                        "passed_time": 85.45629383,
                        "remaining_time": 75.17583743,
                        "test": [
                          0.5456006503,
                          0.7639782286
                        ]
                      },
                      {
                        "learn": [
                          0.528610991,
                          0.7815523986
                        ],
                        "iteration": 532,
                        "passed_time": 85.5389668,
                        "remaining_time": 74.94689962,
                        "test": [
                          0.5456037661,
                          0.7638522427
                        ]
                      },
                      {
                        "learn": [
                          0.5285829882,
                          0.78165795
                        ],
                        "iteration": 533,
                        "passed_time": 85.70747685,
                        "remaining_time": 74.79341613,
                        "test": [
                          0.5455975646,
                          0.7639782286
                        ]
                      },
                      {
                        "learn": [
                          0.5285477809,
                          0.7816811499
                        ],
                        "iteration": 534,
                        "passed_time": 85.84817584,
                        "remaining_time": 74.61570424,
                        "test": [
                          0.5455952063,
                          0.7640653358
                        ]
                      },
                      {
                        "learn": [
                          0.5285248942,
                          0.7818548719
                        ],
                        "iteration": 535,
                        "passed_time": 85.98600758,
                        "remaining_time": 74.43564835,
                        "test": [
                          0.5455937372,
                          0.7639782286
                        ]
                      },
                      {
                        "learn": [
                          0.5284926889,
                          0.7819747086
                        ],
                        "iteration": 536,
                        "passed_time": 86.09821942,
                        "remaining_time": 74.23366032,
                        "test": [
                          0.5456106833,
                          0.7641135688
                        ]
                      },
                      {
                        "learn": [
                          0.5284419168,
                          0.7821627188
                        ],
                        "iteration": 537,
                        "passed_time": 86.23859687,
                        "remaining_time": 74.05619286,
                        "test": [
                          0.545598117,
                          0.7641525004
                        ]
                      },
                      {
                        "learn": [
                          0.5283503577,
                          0.7821521229
                        ],
                        "iteration": 538,
                        "passed_time": 86.34985535,
                        "remaining_time": 73.85395791,
                        "test": [
                          0.5456340718,
                          0.7637834269
                        ]
                      },
                      {
                        "learn": [
                          0.5283225885,
                          0.7820644789
                        ],
                        "iteration": 539,
                        "passed_time": 86.4838166,
                        "remaining_time": 73.67139933,
                        "test": [
                          0.5456500092,
                          0.7638613861
                        ]
                      },
                      {
                        "learn": [
                          0.5282976365,
                          0.7820734519
                        ],
                        "iteration": 540,
                        "passed_time": 86.64152469,
                        "remaining_time": 73.5091679,
                        "test": [
                          0.5456487591,
                          0.7639095262
                        ]
                      },
                      {
                        "learn": [
                          0.5282913062,
                          0.7820412532
                        ],
                        "iteration": 541,
                        "passed_time": 86.77102928,
                        "remaining_time": 73.32312069,
                        "test": [
                          0.5456503729,
                          0.7640356671
                        ]
                      },
                      {
                        "learn": [
                          0.5282613768,
                          0.7819177405
                        ],
                        "iteration": 542,
                        "passed_time": 86.9035273,
                        "remaining_time": 73.13980106,
                        "test": [
                          0.5456301045,
                          0.7635703679
                        ]
                      },
                      {
                        "learn": [
                          0.5282205051,
                          0.7821378572
                        ],
                        "iteration": 543,
                        "passed_time": 87.05009473,
                        "remaining_time": 72.96846176,
                        "test": [
                          0.5456215219,
                          0.7635313531
                        ]
                      },
                      {
                        "learn": [
                          0.5282142153,
                          0.7821288861
                        ],
                        "iteration": 544,
                        "passed_time": 87.22046693,
                        "remaining_time": 72.81708707,
                        "test": [
                          0.5456198732,
                          0.7636573692
                        ]
                      },
                      {
                        "learn": [
                          0.5281858872,
                          0.7821610937
                        ],
                        "iteration": 545,
                        "passed_time": 87.34269537,
                        "remaining_time": 72.62561116,
                        "test": [
                          0.5456314652,
                          0.7636573692
                        ]
                      },
                      {
                        "learn": [
                          0.5280923879,
                          0.7820518101
                        ],
                        "iteration": 546,
                        "passed_time": 87.43750939,
                        "remaining_time": 72.4116851,
                        "test": [
                          0.5456288203,
                          0.7636183559
                        ]
                      },
                      {
                        "learn": [
                          0.5280586771,
                          0.7821431513
                        ],
                        "iteration": 547,
                        "passed_time": 87.56012334,
                        "remaining_time": 72.22112363,
                        "test": [
                          0.5456184928,
                          0.7636963696
                        ]
                      },
                      {
                        "learn": [
                          0.5280241543,
                          0.7822075783
                        ],
                        "iteration": 548,
                        "passed_time": 87.69251845,
                        "remaining_time": 72.03884485,
                        "test": [
                          0.5456130588,
                          0.7635703679
                        ]
                      },
                      {
                        "learn": [
                          0.5279740736,
                          0.7820465308
                        ],
                        "iteration": 549,
                        "passed_time": 87.79952397,
                        "remaining_time": 71.83597416,
                        "test": [
                          0.5456212504,
                          0.7633184892
                        ]
                      },
                      {
                        "learn": [
                          0.5279061242,
                          0.7819948133
                        ],
                        "iteration": 550,
                        "passed_time": 87.89774955,
                        "remaining_time": 71.62629682,
                        "test": [
                          0.5456178474,
                          0.7633575198
                        ]
                      },
                      {
                        "learn": [
                          0.5277931463,
                          0.7819573627
                        ],
                        "iteration": 551,
                        "passed_time": 88.00884427,
                        "remaining_time": 71.42746781,
                        "test": [
                          0.5456155249,
                          0.7632794457
                        ]
                      },
                      {
                        "learn": [
                          0.5277513884,
                          0.7819558152
                        ],
                        "iteration": 552,
                        "passed_time": 88.20135916,
                        "remaining_time": 71.29476952,
                        "test": [
                          0.545618172,
                          0.7635224274
                        ]
                      },
                      {
                        "learn": [
                          0.5277168747,
                          0.7820755493
                        ],
                        "iteration": 553,
                        "passed_time": 88.47075072,
                        "remaining_time": 71.22374517,
                        "test": [
                          0.5456402712,
                          0.7636483589
                        ]
                      },
                      {
                        "learn": [
                          0.5276947449,
                          0.7821219853
                        ],
                        "iteration": 554,
                        "passed_time": 88.71561859,
                        "remaining_time": 71.13234283,
                        "test": [
                          0.545645666,
                          0.7636483589
                        ]
                      },
                      {
                        "learn": [
                          0.5276740594,
                          0.7822095991
                        ],
                        "iteration": 555,
                        "passed_time": 88.95259145,
                        "remaining_time": 71.03408382,
                        "test": [
                          0.5456483411,
                          0.7636873351
                        ]
                      },
                      {
                        "learn": [
                          0.5276575586,
                          0.7822095991
                        ],
                        "iteration": 556,
                        "passed_time": 89.18944312,
                        "remaining_time": 70.93523034,
                        "test": [
                          0.545625944,
                          0.7636873351
                        ]
                      },
                      {
                        "learn": [
                          0.5276069654,
                          0.7821557971
                        ],
                        "iteration": 557,
                        "passed_time": 89.4996777,
                        "remaining_time": 70.89400993,
                        "test": [
                          0.5456287454,
                          0.7636093698
                        ]
                      },
                      {
                        "learn": [
                          0.5275806462,
                          0.7821969697
                        ],
                        "iteration": 558,
                        "passed_time": 89.77180498,
                        "remaining_time": 70.82176385,
                        "test": [
                          0.5456261454,
                          0.7637353572
                        ]
                      },
                      {
                        "learn": [
                          0.5275290818,
                          0.7822487644
                        ],
                        "iteration": 559,
                        "passed_time": 90.05770115,
                        "remaining_time": 70.75962233,
                        "test": [
                          0.5456072421,
                          0.7637743319
                        ]
                      },
                      {
                        "learn": [
                          0.527508299,
                          0.7822255168
                        ],
                        "iteration": 560,
                        "passed_time": 90.27200118,
                        "remaining_time": 70.6406569,
                        "test": [
                          0.5455974052,
                          0.7636483589
                        ]
                      },
                      {
                        "learn": [
                          0.5274844878,
                          0.7820897979
                        ],
                        "iteration": 561,
                        "passed_time": 90.55060014,
                        "remaining_time": 70.57146417,
                        "test": [
                          0.5455984947,
                          0.7637353572
                        ]
                      },
                      {
                        "learn": [
                          0.527422773,
                          0.7820254311
                        ],
                        "iteration": 562,
                        "passed_time": 90.82857096,
                        "remaining_time": 70.50103998,
                        "test": [
                          0.5456157392,
                          0.7633965375
                        ]
                      },
                      {
                        "learn": [
                          0.5273521778,
                          0.7822739997
                        ],
                        "iteration": 563,
                        "passed_time": 91.03242521,
                        "remaining_time": 70.37258403,
                        "test": [
                          0.5456830556,
                          0.763483424
                        ]
                      },
                      {
                        "learn": [
                          0.5273076484,
                          0.7823384109
                        ],
                        "iteration": 564,
                        "passed_time": 91.16894164,
                        "remaining_time": 70.19201701,
                        "test": [
                          0.5456660263,
                          0.7634444078
                        ]
                      },
                      {
                        "learn": [
                          0.5272825365,
                          0.7824207493
                        ],
                        "iteration": 565,
                        "passed_time": 91.30311646,
                        "remaining_time": 70.00981014,
                        "test": [
                          0.5456731464,
                          0.7631448821
                        ]
                      },
                      {
                        "learn": [
                          0.5272652825,
                          0.7825173961
                        ],
                        "iteration": 566,
                        "passed_time": 91.42202284,
                        "remaining_time": 69.81611268,
                        "test": [
                          0.5456645313,
                          0.7631058358
                        ]
                      },
                      {
                        "learn": [
                          0.5271871832,
                          0.7823294495
                        ],
                        "iteration": 567,
                        "passed_time": 91.55393666,
                        "remaining_time": 69.63257154,
                        "test": [
                          0.5457060807,
                          0.7634444078
                        ]
                      },
                      {
                        "learn": [
                          0.5271637761,
                          0.7823795801
                        ],
                        "iteration": 568,
                        "passed_time": 91.64328825,
                        "remaining_time": 69.41697229,
                        "test": [
                          0.5457247337,
                          0.7632794457
                        ]
                      },
                      {
                        "learn": [
                          0.5271207328,
                          0.7822560725
                        ],
                        "iteration": 569,
                        "passed_time": 91.7601507,
                        "remaining_time": 69.22256983,
                        "test": [
                          0.5457280158,
                          0.7631535543
                        ]
                      },
                      {
                        "learn": [
                          0.5270549944,
                          0.7824064545
                        ],
                        "iteration": 570,
                        "passed_time": 91.8881684,
                        "remaining_time": 69.03682004,
                        "test": [
                          0.5457199156,
                          0.7630191167
                        ]
                      },
                      {
                        "learn": [
                          0.527023813,
                          0.7824386629
                        ],
                        "iteration": 571,
                        "passed_time": 92.0159251,
                        "remaining_time": 68.85107682,
                        "test": [
                          0.5457249968,
                          0.7631448821
                        ]
                      },
                      {
                        "learn": [
                          0.5269952302,
                          0.7823832064
                        ],
                        "iteration": 572,
                        "passed_time": 92.11947228,
                        "remaining_time": 68.64749505,
                        "test": [
                          0.5457289696,
                          0.7632706891
                        ]
                      },
                      {
                        "learn": [
                          0.5269734876,
                          0.7823563313
                        ],
                        "iteration": 573,
                        "passed_time": 92.22342954,
                        "remaining_time": 68.44456618,
                        "test": [
                          0.5457165472,
                          0.7632706891
                        ]
                      },
                      {
                        "learn": [
                          0.5269051314,
                          0.7827018122
                        ],
                        "iteration": 574,
                        "passed_time": 92.31847971,
                        "remaining_time": 68.23539805,
                        "test": [
                          0.5457426978,
                          0.7630277045
                        ]
                      },
                      {
                        "learn": [
                          0.5268969947,
                          0.7827053737
                        ],
                        "iteration": 575,
                        "passed_time": 92.44173324,
                        "remaining_time": 68.04738697,
                        "test": [
                          0.545743348,
                          0.7629018961
                        ]
                      },
                      {
                        "learn": [
                          0.5268940419,
                          0.7827053737
                        ],
                        "iteration": 576,
                        "passed_time": 92.56621182,
                        "remaining_time": 67.86049844,
                        "test": [
                          0.5457432549,
                          0.7629018961
                        ]
                      },
                      {
                        "learn": [
                          0.5268296415,
                          0.782769839
                        ],
                        "iteration": 577,
                        "passed_time": 92.65461047,
                        "remaining_time": 67.64748377,
                        "test": [
                          0.5457566208,
                          0.7628627968
                        ]
                      },
                      {
                        "learn": [
                          0.5267949021,
                          0.7827608928
                        ],
                        "iteration": 578,
                        "passed_time": 92.75137282,
                        "remaining_time": 67.44098093,
                        "test": [
                          0.5457540311,
                          0.7626978892
                        ]
                      },
                      {
                        "learn": [
                          0.526758396,
                          0.7828988014
                        ],
                        "iteration": 579,
                        "passed_time": 92.88327599,
                        "remaining_time": 67.2603033,
                        "test": [
                          0.5457547398,
                          0.762611276
                        ]
                      },
                      {
                        "learn": [
                          0.526727961,
                          0.7828432584
                        ],
                        "iteration": 580,
                        "passed_time": 93.00365314,
                        "remaining_time": 67.07148135,
                        "test": [
                          0.5457373029,
                          0.7625721352
                        ]
                      },
                      {
                        "learn": [
                          0.5267149714,
                          0.782737605
                        ],
                        "iteration": 581,
                        "passed_time": 93.10080782,
                        "remaining_time": 66.86621592,
                        "test": [
                          0.5457220136,
                          0.7624464227
                        ]
                      },
                      {
                        "learn": [
                          0.5266855908,
                          0.7829256239
                        ],
                        "iteration": 582,
                        "passed_time": 93.2242363,
                        "remaining_time": 66.68011413,
                        "test": [
                          0.5457381797,
                          0.7625247198
                        ]
                      },
                      {
                        "learn": [
                          0.5266327508,
                          0.7829345633
                        ],
                        "iteration": 583,
                        "passed_time": 93.34696012,
                        "remaining_time": 66.49372502,
                        "test": [
                          0.5457332096,
                          0.7628152299
                        ]
                      },
                      {
                        "learn": [
                          0.526562748,
                          0.7828898591
                        ],
                        "iteration": 584,
                        "passed_time": 93.52930767,
                        "remaining_time": 66.34985074,
                        "test": [
                          0.5457375271,
                          0.7627761292
                        ]
                      },
                      {
                        "learn": [
                          0.5265021704,
                          0.7828898591
                        ],
                        "iteration": 585,
                        "passed_time": 93.64811977,
                        "remaining_time": 66.16095834,
                        "test": [
                          0.5457515641,
                          0.7627370157
                        ]
                      },
                      {
                        "learn": [
                          0.5264931825,
                          0.7828898591
                        ],
                        "iteration": 586,
                        "passed_time": 93.74232058,
                        "remaining_time": 65.95498876,
                        "test": [
                          0.5457473601,
                          0.7627761292
                        ]
                      },
                      {
                        "learn": [
                          0.5264767123,
                          0.7830600643
                        ],
                        "iteration": 587,
                        "passed_time": 93.869601,
                        "remaining_time": 65.77257757,
                        "test": [
                          0.545747918,
                          0.7630754001
                        ]
                      },
                      {
                        "learn": [
                          0.526425447,
                          0.7829990528
                        ],
                        "iteration": 588,
                        "passed_time": 93.9749775,
                        "remaining_time": 65.57506919,
                        "test": [
                          0.5457552392,
                          0.7630754001
                        ]
                      },
                      {
                        "learn": [
                          0.5264236585,
                          0.7829990528
                        ],
                        "iteration": 589,
                        "passed_time": 94.08194804,
                        "remaining_time": 65.37898084,
                        "test": [
                          0.5457521851,
                          0.7630363036
                        ]
                      },
                      {
                        "learn": [
                          0.5264045847,
                          0.7830868723
                        ],
                        "iteration": 590,
                        "passed_time": 94.19813691,
                        "remaining_time": 65.1895736,
                        "test": [
                          0.5457698345,
                          0.7631144837
                        ]
                      },
                      {
                        "learn": [
                          0.5263657424,
                          0.7828665568
                        ],
                        "iteration": 591,
                        "passed_time": 94.27556428,
                        "remaining_time": 64.97369971,
                        "test": [
                          0.5457699127,
                          0.7629886195
                        ]
                      },
                      {
                        "learn": [
                          0.526343014,
                          0.782714321
                        ],
                        "iteration": 592,
                        "passed_time": 94.40435834,
                        "remaining_time": 64.7935478,
                        "test": [
                          0.5457944686,
                          0.7629495216
                        ]
                      },
                      {
                        "learn": [
                          0.5263289702,
                          0.782769839
                        ],
                        "iteration": 593,
                        "passed_time": 94.55004539,
                        "remaining_time": 64.6251152,
                        "test": [
                          0.5457973103,
                          0.7629495216
                        ]
                      },
                      {
                        "learn": [
                          0.5262878643,
                          0.782837849
                        ],
                        "iteration": 594,
                        "passed_time": 94.66421209,
                        "remaining_time": 64.43530403,
                        "test": [
                          0.5457912528,
                          0.763162238
                        ]
                      },
                      {
                        "learn": [
                          0.5262528078,
                          0.782714321
                        ],
                        "iteration": 595,
                        "passed_time": 94.78948608,
                        "remaining_time": 64.2532758,
                        "test": [
                          0.5457984524,
                          0.7629189368
                        ]
                      },
                      {
                        "learn": [
                          0.5262221212,
                          0.7828522011
                        ],
                        "iteration": 596,
                        "passed_time": 94.94211346,
                        "remaining_time": 64.08990239,
                        "test": [
                          0.5458024077,
                          0.763084035
                        ]
                      },
                      {
                        "learn": [
                          0.5261826698,
                          0.7828914869
                        ],
                        "iteration": 597,
                        "passed_time": 95.04633629,
                        "remaining_time": 63.8940254,
                        "test": [
                          0.5458170303,
                          0.763084035
                        ]
                      },
                      {
                        "learn": [
                          0.5261505858,
                          0.7829936175
                        ],
                        "iteration": 598,
                        "passed_time": 95.15723741,
                        "remaining_time": 63.70292521,
                        "test": [
                          0.5458090626,
                          0.7630449141
                        ]
                      },
                      {
                        "learn": [
                          0.5261397354,
                          0.7829613769
                        ],
                        "iteration": 599,
                        "passed_time": 95.26741216,
                        "remaining_time": 63.51160811,
                        "test": [
                          0.5458064644,
                          0.7629189368
                        ]
                      },
                      {
                        "learn": [
                          0.5260871856,
                          0.7830581065
                        ],
                        "iteration": 600,
                        "passed_time": 95.38187959,
                        "remaining_time": 63.32341091,
                        "test": [
                          0.5457981261,
                          0.7627538385
                        ]
                      },
                      {
                        "learn": [
                          0.5260570328,
                          0.7830546173
                        ],
                        "iteration": 601,
                        "passed_time": 95.49824163,
                        "remaining_time": 63.13671124,
                        "test": [
                          0.545803959,
                          0.7628797886
                        ]
                      },
                      {
                        "learn": [
                          0.5260008706,
                          0.7832104461
                        ],
                        "iteration": 602,
                        "passed_time": 95.66504217,
                        "remaining_time": 62.98345231,
                        "test": [
                          0.5458224896,
                          0.7627062706
                        ]
                      },
                      {
                        "learn": [
                          0.5259830828,
                          0.7830635529
                        ],
                        "iteration": 603,
                        "passed_time": 95.78615441,
                        "remaining_time": 62.80019395,
                        "test": [
                          0.5458316568,
                          0.7626671068
                        ]
                      },
                      {
                        "learn": [
                          0.5259638072,
                          0.7832248496
                        ],
                        "iteration": 604,
                        "passed_time": 95.9404052,
                        "remaining_time": 62.63877695,
                        "test": [
                          0.5458237768,
                          0.762502063
                        ]
                      },
                      {
                        "learn": [
                          0.5259277212,
                          0.7832337796
                        ],
                        "iteration": 605,
                        "passed_time": 96.0763875,
                        "remaining_time": 62.46550606,
                        "test": [
                          0.5458228498,
                          0.7625412541
                        ]
                      },
                      {
                        "learn": [
                          0.5259086129,
                          0.7832481872
                        ],
                        "iteration": 606,
                        "passed_time": 96.20020406,
                        "remaining_time": 62.28448138,
                        "test": [
                          0.5458161065,
                          0.7624546354
                        ]
                      },
                      {
                        "learn": [
                          0.5258449063,
                          0.7832392567
                        ],
                        "iteration": 607,
                        "passed_time": 96.33950797,
                        "remaining_time": 62.11363014,
                        "test": [
                          0.5458413829,
                          0.7624546354
                        ]
                      },
                      {
                        "learn": [
                          0.5258102084,
                          0.783257117
                        ],
                        "iteration": 608,
                        "passed_time": 96.44824351,
                        "remaining_time": 61.92325651,
                        "test": [
                          0.5458235655,
                          0.7624546354
                        ]
                      },
                      {
                        "learn": [
                          0.5257616646,
                          0.7833340199
                        ],
                        "iteration": 609,
                        "passed_time": 96.57756861,
                        "remaining_time": 61.74631436,
                        "test": [
                          0.5458182935,
                          0.762415443
                        ]
                      },
                      {
                        "learn": [
                          0.5257261139,
                          0.7832839018
                        ],
                        "iteration": 610,
                        "passed_time": 96.75213115,
                        "remaining_time": 61.598329,
                        "test": [
                          0.5457912233,
                          0.7622423743
                        ]
                      },
                      {
                        "learn": [
                          0.5256982238,
                          0.7834274177
                        ],
                        "iteration": 611,
                        "passed_time": 96.89071515,
                        "remaining_time": 61.42744686,
                        "test": [
                          0.5458029372,
                          0.7627062706
                        ]
                      },
                      {
                        "learn": [
                          0.5256890724,
                          0.783362861
                        ],
                        "iteration": 612,
                        "passed_time": 97.03859302,
                        "remaining_time": 61.26253752,
                        "test": [
                          0.5458154153,
                          0.7625804323
                        ]
                      },
                      {
                        "learn": [
                          0.5256429503,
                          0.7834095685
                        ],
                        "iteration": 613,
                        "passed_time": 97.17637904,
                        "remaining_time": 61.09133927,
                        "test": [
                          0.5458197399,
                          0.7627062706
                        ]
                      },
                      {
                        "learn": [
                          0.5255859028,
                          0.7835654826
                        ],
                        "iteration": 614,
                        "passed_time": 97.31455406,
                        "remaining_time": 60.92049319,
                        "test": [
                          0.5458054109,
                          0.762793001
                        ]
                      },
                      {
                        "learn": [
                          0.5255480945,
                          0.7835276668
                        ],
                        "iteration": 615,
                        "passed_time": 97.4244176,
                        "remaining_time": 60.73210448,
                        "test": [
                          0.5458206986,
                          0.762793001
                        ]
                      },
                      {
                        "learn": [
                          0.5255306036,
                          0.7834541859
                        ],
                        "iteration": 616,
                        "passed_time": 97.5327561,
                        "remaining_time": 60.54302364,
                        "test": [
                          0.5458305985,
                          0.762793001
                        ]
                      },
                      {
                        "learn": [
                          0.5254961368,
                          0.7836768343
                        ],
                        "iteration": 617,
                        "passed_time": 97.70746478,
                        "remaining_time": 60.39522904,
                        "test": [
                          0.5458239606,
                          0.7629971943
                        ]
                      },
                      {
                        "learn": [
                          0.525429493,
                          0.7837325308
                        ],
                        "iteration": 618,
                        "passed_time": 97.85671733,
                        "remaining_time": 60.231679,
                        "test": [
                          0.545846747,
                          0.7627454215
                        ]
                      },
                      {
                        "learn": [
                          0.5253989168,
                          0.7836857508
                        ],
                        "iteration": 619,
                        "passed_time": 97.98259272,
                        "remaining_time": 60.05384715,
                        "test": [
                          0.5458484993,
                          0.7627062706
                        ]
                      },
                      {
                        "learn": [
                          0.5253710419,
                          0.7837915825
                        ],
                        "iteration": 620,
                        "passed_time": 98.10082616,
                        "remaining_time": 59.87151871,
                        "test": [
                          0.5458451698,
                          0.7627062706
                        ]
                      },
                      {
                        "learn": [
                          0.5253274477,
                          0.7839531624
                        ],
                        "iteration": 621,
                        "passed_time": 98.2379143,
                        "remaining_time": 59.70085467,
                        "test": [
                          0.545843198,
                          0.7626587498
                        ]
                      },
                      {
                        "learn": [
                          0.5253021263,
                          0.7839587629
                        ],
                        "iteration": 622,
                        "passed_time": 98.31953196,
                        "remaining_time": 59.49673122,
                        "test": [
                          0.5458422681,
                          0.7626195975
                        ]
                      },
                      {
                        "learn": [
                          0.5252761619,
                          0.7840412371
                        ],
                        "iteration": 623,
                        "passed_time": 98.46154857,
                        "remaining_time": 59.32939465,
                        "test": [
                          0.545845343,
                          0.7625804323
                        ]
                      },
                      {
                        "learn": [
                          0.525204889,
                          0.7841002804
                        ],
                        "iteration": 624,
                        "passed_time": 98.58896551,
                        "remaining_time": 59.15337931,
                        "test": [
                          0.5458360067,
                          0.7630363036
                        ]
                      },
                      {
                        "learn": [
                          0.525160573,
                          0.7841180836
                        ],
                        "iteration": 625,
                        "passed_time": 98.75280078,
                        "remaining_time": 58.99927715,
                        "test": [
                          0.5458558279,
                          0.7630754001
                        ]
                      },
                      {
                        "learn": [
                          0.52510847,
                          0.7840300107
                        ],
                        "iteration": 626,
                        "passed_time": 98.90692739,
                        "remaining_time": 58.83936828,
                        "test": [
                          0.5458288751,
                          0.762958072
                        ]
                      },
                      {
                        "learn": [
                          0.5250621982,
                          0.7839597758
                        ],
                        "iteration": 627,
                        "passed_time": 99.05305663,
                        "remaining_time": 58.67474055,
                        "test": [
                          0.5458259137,
                          0.7629189368
                        ]
                      },
                      {
                        "learn": [
                          0.5250360864,
                          0.7839508717
                        ],
                        "iteration": 628,
                        "passed_time": 99.21824573,
                        "remaining_time": 58.52141362,
                        "test": [
                          0.545839443,
                          0.763084035
                        ]
                      },
                      {
                        "learn": [
                          0.5249379159,
                          0.7838829349
                        ],
                        "iteration": 629,
                        "passed_time": 99.34659338,
                        "remaining_time": 58.34641198,
                        "test": [
                          0.5458284743,
                          0.7630363036
                        ]
                      },
                      {
                        "learn": [
                          0.5249006014,
                          0.7839152479
                        ],
                        "iteration": 630,
                        "passed_time": 99.44942271,
                        "remaining_time": 58.15663547,
                        "test": [
                          0.5458305192,
                          0.7630754001
                        ]
                      },
                      {
                        "learn": [
                          0.5248839136,
                          0.7838974317
                        ],
                        "iteration": 631,
                        "passed_time": 99.5709052,
                        "remaining_time": 57.97799543,
                        "test": [
                          0.5458377673,
                          0.7632403894
                        ]
                      },
                      {
                        "learn": [
                          0.5248392116,
                          0.7841625788
                        ],
                        "iteration": 632,
                        "passed_time": 99.70118537,
                        "remaining_time": 57.8046367,
                        "test": [
                          0.5458560093,
                          0.7630754001
                        ]
                      },
                      {
                        "learn": [
                          0.5248201603,
                          0.7841068337
                        ],
                        "iteration": 633,
                        "passed_time": 99.87361217,
                        "remaining_time": 57.65574457,
                        "test": [
                          0.5458597042,
                          0.7629495216
                        ]
                      },
                      {
                        "learn": [
                          0.5247877944,
                          0.7841803718
                        ],
                        "iteration": 634,
                        "passed_time": 99.94924285,
                        "remaining_time": 57.45113959,
                        "test": [
                          0.5458554498,
                          0.7632794457
                        ]
                      },
                      {
                        "learn": [
                          0.5247408972,
                          0.7841035577
                        ],
                        "iteration": 635,
                        "passed_time": 100.0505946,
                        "remaining_time": 57.26166105,
                        "test": [
                          0.5458222424,
                          0.7632794457
                        ]
                      },
                      {
                        "learn": [
                          0.5247211713,
                          0.7841593139
                        ],
                        "iteration": 636,
                        "passed_time": 100.2124014,
                        "remaining_time": 57.10691003,
                        "test": [
                          0.5458244837,
                          0.7633184892
                        ]
                      },
                      {
                        "learn": [
                          0.5246688063,
                          0.7842983721
                        ],
                        "iteration": 637,
                        "passed_time": 100.3457319,
                        "remaining_time": 56.93597954,
                        "test": [
                          0.5458236185,
                          0.7632794457
                        ]
                      },
                      {
                        "learn": [
                          0.5246371143,
                          0.7842337331
                        ],
                        "iteration": 638,
                        "passed_time": 100.4443499,
                        "remaining_time": 56.74555606,
                        "test": [
                          0.5458286312,
                          0.7629104108
                        ]
                      },
                      {
                        "learn": [
                          0.5245667368,
                          0.7842660513
                        ],
                        "iteration": 639,
                        "passed_time": 100.5354139,
                        "remaining_time": 56.55117029,
                        "test": [
                          0.5458186646,
                          0.7628321505
                        ]
                      },
                      {
                        "learn": [
                          0.5245568506,
                          0.7842159489
                        ],
                        "iteration": 640,
                        "passed_time": 100.6251523,
                        "remaining_time": 56.35636457,
                        "test": [
                          0.5458223235,
                          0.7628712871
                        ]
                      },
                      {
                        "learn": [
                          0.5245009181,
                          0.7843306957
                        ],
                        "iteration": 641,
                        "passed_time": 100.7155432,
                        "remaining_time": 56.16224996,
                        "test": [
                          0.5458375884,
                          0.763123143
                        ]
                      },
                      {
                        "learn": [
                          0.5244671942,
                          0.7844689007
                        ],
                        "iteration": 642,
                        "passed_time": 100.8921511,
                        "remaining_time": 56.01632649,
                        "test": [
                          0.545821163,
                          0.763084035
                        ]
                      },
                      {
                        "learn": [
                          0.5244315904,
                          0.7844454519
                        ],
                        "iteration": 643,
                        "passed_time": 100.9643618,
                        "remaining_time": 55.81259751,
                        "test": [
                          0.5458054174,
                          0.7632491332
                        ]
                      },
                      {
                        "learn": [
                          0.5243574939,
                          0.7844422459
                        ],
                        "iteration": 644,
                        "passed_time": 101.2101432,
                        "remaining_time": 55.70480749,
                        "test": [
                          0.5457979508,
                          0.7632013201
                        ]
                      },
                      {
                        "learn": [
                          0.524276503,
                          0.7844511315
                        ],
                        "iteration": 645,
                        "passed_time": 101.4076678,
                        "remaining_time": 55.57014614,
                        "test": [
                          0.5457591576,
                          0.7635313531
                        ]
                      },
                      {
                        "learn": [
                          0.5242197006,
                          0.7848132575
                        ],
                        "iteration": 646,
                        "passed_time": 101.6757822,
                        "remaining_time": 55.47380389,
                        "test": [
                          0.5457914934,
                          0.7634053787
                        ]
                      },
                      {
                        "learn": [
                          0.5242060348,
                          0.7848367414
                        ],
                        "iteration": 647,
                        "passed_time": 101.9761162,
                        "remaining_time": 55.39443348,
                        "test": [
                          0.5457913422,
                          0.7635313531
                        ]
                      },
                      {
                        "learn": [
                          0.5241822546,
                          0.7848304875
                        ],
                        "iteration": 648,
                        "passed_time": 102.2341954,
                        "remaining_time": 55.29152941,
                        "test": [
                          0.545806423,
                          0.7639095262
                        ]
                      },
                      {
                        "learn": [
                          0.5241225283,
                          0.7847365383
                        ],
                        "iteration": 649,
                        "passed_time": 102.5553763,
                        "remaining_time": 55.22212572,
                        "test": [
                          0.5458093078,
                          0.7634621738
                        ]
                      },
                      {
                        "learn": [
                          0.5240981548,
                          0.7848038609
                        ],
                        "iteration": 650,
                        "passed_time": 102.8365549,
                        "remaining_time": 55.1305033,
                        "test": [
                          0.5458220138,
                          0.7634142315
                        ]
                      },
                      {
                        "learn": [
                          0.5240792817,
                          0.7848774854
                        ],
                        "iteration": 651,
                        "passed_time": 103.1297985,
                        "remaining_time": 55.04473907,
                        "test": [
                          0.5458223931,
                          0.7634142315
                        ]
                      },
                      {
                        "learn": [
                          0.5239702368,
                          0.7848069944
                        ],
                        "iteration": 652,
                        "passed_time": 103.3546136,
                        "remaining_time": 54.92197689,
                        "test": [
                          0.5458190149,
                          0.7632491332
                        ]
                      },
                      {
                        "learn": [
                          0.5238999283,
                          0.7847485573
                        ],
                        "iteration": 653,
                        "passed_time": 103.6121497,
                        "remaining_time": 54.81621376,
                        "test": [
                          0.5458005487,
                          0.7634142315
                        ]
                      },
                      {
                        "learn": [
                          0.5238387447,
                          0.7848487346
                        ],
                        "iteration": 654,
                        "passed_time": 103.7470967,
                        "remaining_time": 54.64541736,
                        "test": [
                          0.5457801527,
                          0.7635313531
                        ]
                      },
                      {
                        "learn": [
                          0.5238174824,
                          0.7848899514
                        ],
                        "iteration": 655,
                        "passed_time": 103.8646326,
                        "remaining_time": 54.46560003,
                        "test": [
                          0.5457845492,
                          0.7632794457
                        ]
                      },
                      {
                        "learn": [
                          0.5237912562,
                          0.784928062
                        ],
                        "iteration": 656,
                        "passed_time": 103.9514909,
                        "remaining_time": 54.26995643,
                        "test": [
                          0.5458087443,
                          0.7634053787
                        ]
                      },
                      {
                        "learn": [
                          0.5237652994,
                          0.784936928
                        ],
                        "iteration": 657,
                        "passed_time": 104.0417782,
                        "remaining_time": 54.07642574,
                        "test": [
                          0.545840456,
                          0.7634444078
                        ]
                      },
                      {
                        "learn": [
                          0.5237438618,
                          0.7849635217
                        ],
                        "iteration": 658,
                        "passed_time": 104.2183768,
                        "remaining_time": 53.92787022,
                        "test": [
                          0.5458371901,
                          0.7634444078
                        ]
                      },
                      {
                        "learn": [
                          0.5237053823,
                          0.7850548182
                        ],
                        "iteration": 659,
                        "passed_time": 104.3126746,
                        "remaining_time": 53.73683238,
                        "test": [
                          0.5458884851,
                          0.7639095262
                        ]
                      },
                      {
                        "learn": [
                          0.5236220341,
                          0.7850136015
                        ],
                        "iteration": 660,
                        "passed_time": 104.4402065,
                        "remaining_time": 53.5631316,
                        "test": [
                          0.5459023705,
                          0.7634532849
                        ]
                      },
                      {
                        "learn": [
                          0.5235907075,
                          0.784995878
                        ],
                        "iteration": 661,
                        "passed_time": 104.5749694,
                        "remaining_time": 53.3932623,
                        "test": [
                          0.5458937875,
                          0.7635793297
                        ]
                      },
                      {
                        "learn": [
                          0.52349938,
                          0.7851638162
                        ],
                        "iteration": 662,
                        "passed_time": 104.6563001,
                        "remaining_time": 53.19633955,
                        "test": [
                          0.545919748,
                          0.7633663366
                        ]
                      },
                      {
                        "learn": [
                          0.5234814738,
                          0.7850902497
                        ],
                        "iteration": 663,
                        "passed_time": 104.7637037,
                        "remaining_time": 53.01295851,
                        "test": [
                          0.5459150775,
                          0.7634444078
                        ]
                      },
                      {
                        "learn": [
                          0.5234403355,
                          0.7852639387
                        ],
                        "iteration": 664,
                        "passed_time": 104.860087,
                        "remaining_time": 52.82425436,
                        "test": [
                          0.5459091371,
                          0.7637444279
                        ]
                      },
                      {
                        "learn": [
                          0.523358361,
                          0.7850640524
                        ],
                        "iteration": 665,
                        "passed_time": 104.9916493,
                        "remaining_time": 52.65346976,
                        "test": [
                          0.5459184991,
                          0.763162238
                        ]
                      },
                      {
                        "learn": [
                          0.5233248012,
                          0.7851140951
                        ],
                        "iteration": 666,
                        "passed_time": 105.2897528,
                        "remaining_time": 52.56594855,
                        "test": [
                          0.5459212351,
                          0.7630754001
                        ]
                      },
                      {
                        "learn": [
                          0.5232710293,
                          0.7849905264
                        ],
                        "iteration": 667,
                        "passed_time": 105.439655,
                        "remaining_time": 52.40413991,
                        "test": [
                          0.5459207542,
                          0.763162238
                        ]
                      },
                      {
                        "learn": [
                          0.5232334882,
                          0.7850082372
                        ],
                        "iteration": 668,
                        "passed_time": 105.5604765,
                        "remaining_time": 52.22797866,
                        "test": [
                          0.5459348124,
                          0.7632491332
                        ]
                      },
                      {
                        "learn": [
                          0.5232130335,
                          0.7849993822
                        ],
                        "iteration": 669,
                        "passed_time": 105.6958695,
                        "remaining_time": 52.05915958,
                        "test": [
                          0.5459128372,
                          0.7633751651
                        ]
                      },
                      {
                        "learn": [
                          0.5231712585,
                          0.7849612914
                        ],
                        "iteration": 670,
                        "passed_time": 105.8029022,
                        "remaining_time": 51.87653475,
                        "test": [
                          0.5459014632,
                          0.7634142315
                        ]
                      },
                      {
                        "learn": [
                          0.523158791,
                          0.7850702022
                        ],
                        "iteration": 671,
                        "passed_time": 105.9035032,
                        "remaining_time": 51.6909956,
                        "test": [
                          0.5459058565,
                          0.7634532849
                        ]
                      },
                      {
                        "learn": [
                          0.5231371513,
                          0.7852056148
                        ],
                        "iteration": 672,
                        "passed_time": 106.0293288,
                        "remaining_time": 51.5179651,
                        "test": [
                          0.5459150773,
                          0.7632100396
                        ]
                      },
                      {
                        "learn": [
                          0.5230765568,
                          0.7852467789
                        ],
                        "iteration": 673,
                        "passed_time": 106.1510006,
                        "remaining_time": 51.34306555,
                        "test": [
                          0.5459385996,
                          0.7632491332
                        ]
                      },
                      {
                        "learn": [
                          0.5230344097,
                          0.7851967726
                        ],
                        "iteration": 674,
                        "passed_time": 106.2821132,
                        "remaining_time": 51.17286932,
                        "test": [
                          0.5459474067,
                          0.7632100396
                        ]
                      },
                      {
                        "learn": [
                          0.5229652447,
                          0.7853995965
                        ],
                        "iteration": 675,
                        "passed_time": 106.4353531,
                        "remaining_time": 51.01339409,
                        "test": [
                          0.5459759015,
                          0.7632491332
                        ]
                      },
                      {
                        "learn": [
                          0.5229094654,
                          0.7853525997
                        ],
                        "iteration": 676,
                        "passed_time": 106.5487059,
                        "remaining_time": 50.83490696,
                        "test": [
                          0.5459751126,
                          0.7632491332
                        ]
                      },
                      {
                        "learn": [
                          0.5228978829,
                          0.7853437629
                        ],
                        "iteration": 677,
                        "passed_time": 106.6464831,
                        "remaining_time": 50.64921468,
                        "test": [
                          0.5459852303,
                          0.763123143
                        ]
                      },
                      {
                        "learn": [
                          0.5228642072,
                          0.7854789556
                        ],
                        "iteration": 678,
                        "passed_time": 106.7428461,
                        "remaining_time": 50.46311283,
                        "test": [
                          0.5459794685,
                          0.7633751651
                        ]
                      },
                      {
                        "learn": [
                          0.5228507463,
                          0.785381923
                        ],
                        "iteration": 679,
                        "passed_time": 106.8175087,
                        "remaining_time": 50.26706291,
                        "test": [
                          0.5459725313,
                          0.7635012386
                        ]
                      },
                      {
                        "learn": [
                          0.5228099251,
                          0.7854819451
                        ],
                        "iteration": 680,
                        "passed_time": 106.9425141,
                        "remaining_time": 50.09495155,
                        "test": [
                          0.5459876704,
                          0.7635012386
                        ]
                      },
                      {
                        "learn": [
                          0.5227623809,
                          0.7854496047
                        ],
                        "iteration": 681,
                        "passed_time": 107.0541739,
                        "remaining_time": 49.91675557,
                        "test": [
                          0.5460283106,
                          0.7634142315
                        ]
                      },
                      {
                        "learn": [
                          0.5227068125,
                          0.7854731121
                        ],
                        "iteration": 682,
                        "passed_time": 107.1625662,
                        "remaining_time": 49.73723791,
                        "test": [
                          0.5460306425,
                          0.7634142315
                        ]
                      },
                      {
                        "learn": [
                          0.5226851063,
                          0.7856025039
                        ],
                        "iteration": 683,
                        "passed_time": 107.3052563,
                        "remaining_time": 49.57377337,
                        "test": [
                          0.5460311478,
                          0.7633751651
                        ]
                      },
                      {
                        "learn": [
                          0.5226584594,
                          0.7855084397
                        ],
                        "iteration": 684,
                        "passed_time": 107.5129986,
                        "remaining_time": 49.44028404,
                        "test": [
                          0.5460352996,
                          0.7632882139
                        ]
                      },
                      {
                        "learn": [
                          0.5226163623,
                          0.7856525141
                        ],
                        "iteration": 685,
                        "passed_time": 107.665475,
                        "remaining_time": 49.28128156,
                        "test": [
                          0.5460155108,
                          0.7635402906
                        ]
                      },
                      {
                        "learn": [
                          0.522597848,
                          0.78559664
                        ],
                        "iteration": 686,
                        "passed_time": 107.7858918,
                        "remaining_time": 49.1076916,
                        "test": [
                          0.5460108564,
                          0.7635402906
                        ]
                      },
                      {
                        "learn": [
                          0.5225660895,
                          0.7855819507
                        ],
                        "iteration": 687,
                        "passed_time": 107.9063867,
                        "remaining_time": 48.93429164,
                        "test": [
                          0.5460037227,
                          0.7636183559
                        ]
                      },
                      {
                        "learn": [
                          0.5225535974,
                          0.7855819507
                        ],
                        "iteration": 688,
                        "passed_time": 108.0486582,
                        "remaining_time": 48.77087475,
                        "test": [
                          0.5459901514,
                          0.7634532849
                        ]
                      },
                      {
                        "learn": [
                          0.5224965972,
                          0.785570152
                        ],
                        "iteration": 689,
                        "passed_time": 108.1796185,
                        "remaining_time": 48.60243732,
                        "test": [
                          0.5460007754,
                          0.7632882139
                        ]
                      },
                      {
                        "learn": [
                          0.522451368,
                          0.7855113051
                        ],
                        "iteration": 690,
                        "passed_time": 108.3247156,
                        "remaining_time": 48.44042998,
                        "test": [
                          0.5459886251,
                          0.7634532849
                        ]
                      },
                      {
                        "learn": [
                          0.5224141014,
                          0.7858113954
                        ],
                        "iteration": 691,
                        "passed_time": 108.4717072,
                        "remaining_time": 48.27931478,
                        "test": [
                          0.545989447,
                          0.7633751651
                        ]
                      },
                      {
                        "learn": [
                          0.522388802,
                          0.7858525934
                        ],
                        "iteration": 692,
                        "passed_time": 108.5954182,
                        "remaining_time": 48.10792697,
                        "test": [
                          0.5459993407,
                          0.763123143
                        ]
                      },
                      {
                        "learn": [
                          0.5223410604,
                          0.7857878476
                        ],
                        "iteration": 693,
                        "passed_time": 108.7268636,
                        "remaining_time": 47.94008683,
                        "test": [
                          0.5459832145,
                          0.7629971943
                        ]
                      },
                      {
                        "learn": [
                          0.5223166884,
                          0.7857966716
                        ],
                        "iteration": 694,
                        "passed_time": 108.8555709,
                        "remaining_time": 47.77114982,
                        "test": [
                          0.545992577,
                          0.7632491332
                        ]
                      },
                      {
                        "learn": [
                          0.5222882258,
                          0.7858496786
                        ],
                        "iteration": 695,
                        "passed_time": 108.9767625,
                        "remaining_time": 47.59904569,
                        "test": [
                          0.5460008495,
                          0.763084035
                        ]
                      },
                      {
                        "learn": [
                          0.5222794109,
                          0.7858849703
                        ],
                        "iteration": 696,
                        "passed_time": 109.0896349,
                        "remaining_time": 47.42347111,
                        "test": [
                          0.5460005052,
                          0.7632491332
                        ]
                      },
                      {
                        "learn": [
                          0.5222548995,
                          0.7858349471
                        ],
                        "iteration": 697,
                        "passed_time": 109.2081134,
                        "remaining_time": 47.25050177,
                        "test": [
                          0.5460179442,
                          0.7630363036
                        ]
                      },
                      {
                        "learn": [
                          0.5222249815,
                          0.7858466862
                        ],
                        "iteration": 698,
                        "passed_time": 109.3107052,
                        "remaining_time": 47.07084732,
                        "test": [
                          0.5460357252,
                          0.7634532849
                        ]
                      },
                      {
                        "learn": [
                          0.5221853332,
                          0.7856848695
                        ],
                        "iteration": 699,
                        "passed_time": 109.4026873,
                        "remaining_time": 46.88686597,
                        "test": [
                          0.5460544511,
                          0.7629189368
                        ]
                      },
                      {
                        "learn": [
                          0.5221500724,
                          0.7857289908
                        ],
                        "iteration": 700,
                        "passed_time": 109.5728592,
                        "remaining_time": 46.73649774,
                        "test": [
                          0.5460495004,
                          0.7632969937
                        ]
                      },
                      {
                        "learn": [
                          0.5220793836,
                          0.7858289761
                        ],
                        "iteration": 701,
                        "passed_time": 109.7157318,
                        "remaining_time": 46.57448442,
                        "test": [
                          0.5460784303,
                          0.7630449141
                        ]
                      },
                      {
                        "learn": [
                          0.5220568752,
                          0.7858348775
                        ],
                        "iteration": 702,
                        "passed_time": 109.8243586,
                        "remaining_time": 46.39805761,
                        "test": [
                          0.5460882678,
                          0.7630449141
                        ]
                      },
                      {
                        "learn": [
                          0.5220152098,
                          0.7858877774
                        ],
                        "iteration": 703,
                        "passed_time": 109.9724995,
                        "remaining_time": 46.23843728,
                        "test": [
                          0.5461350344,
                          0.7632100396
                        ]
                      },
                      {
                        "learn": [
                          0.522009759,
                          0.7858230766
                        ],
                        "iteration": 704,
                        "passed_time": 110.1080827,
                        "remaining_time": 46.07359489,
                        "test": [
                          0.5461319193,
                          0.7633360859
                        ]
                      },
                      {
                        "learn": [
                          0.5219648099,
                          0.7860260211
                        ],
                        "iteration": 705,
                        "passed_time": 110.2041381,
                        "remaining_time": 45.89237479,
                        "test": [
                          0.5461496291,
                          0.7635883033
                        ]
                      },
                      {
                        "learn": [
                          0.5219236246,
                          0.7860260211
                        ],
                        "iteration": 706,
                        "passed_time": 110.3192483,
                        "remaining_time": 45.71929244,
                        "test": [
                          0.546182832,
                          0.7635101636
                        ]
                      },
                      {
                        "learn": [
                          0.5218817808,
                          0.7861878681
                        ],
                        "iteration": 707,
                        "passed_time": 110.4588341,
                        "remaining_time": 45.5564683,
                        "test": [
                          0.5461791702,
                          0.7633840053
                        ]
                      },
                      {
                        "learn": [
                          0.5218572614,
                          0.7861878681
                        ],
                        "iteration": 708,
                        "passed_time": 110.6493335,
                        "remaining_time": 45.41460654,
                        "test": [
                          0.5461817884,
                          0.7632969937
                        ]
                      },
                      {
                        "learn": [
                          0.5218199684,
                          0.7862350179
                        ],
                        "iteration": 709,
                        "passed_time": 110.7745088,
                        "remaining_time": 45.24592615,
                        "test": [
                          0.5461806099,
                          0.7628014536
                        ]
                      },
                      {
                        "learn": [
                          0.5217703635,
                          0.786526576
                        ],
                        "iteration": 710,
                        "passed_time": 110.8934907,
                        "remaining_time": 45.07485064,
                        "test": [
                          0.5461753651,
                          0.7627146631
                        ]
                      },
                      {
                        "learn": [
                          0.5217182335,
                          0.786490939
                        ],
                        "iteration": 711,
                        "passed_time": 111.0192709,
                        "remaining_time": 44.90667138,
                        "test": [
                          0.5461646507,
                          0.7627062706
                        ]
                      },
                      {
                        "learn": [
                          0.5216753759,
                          0.7865733114
                        ],
                        "iteration": 712,
                        "passed_time": 111.1238415,
                        "remaining_time": 44.73007365,
                        "test": [
                          0.5461600104,
                          0.7626195975
                        ]
                      },
                      {
                        "learn": [
                          0.5216634393,
                          0.7865557295
                        ],
                        "iteration": 713,
                        "passed_time": 111.252131,
                        "remaining_time": 44.56317852,
                        "test": [
                          0.546146862,
                          0.7626587498
                        ]
                      },
                      {
                        "learn": [
                          0.5216130541,
                          0.7866293199
                        ],
                        "iteration": 714,
                        "passed_time": 111.3775306,
                        "remaining_time": 44.39523949,
                        "test": [
                          0.5461618554,
                          0.7629104108
                        ]
                      },
                      {
                        "learn": [
                          0.5215455327,
                          0.7866381086
                        ],
                        "iteration": 715,
                        "passed_time": 111.5233613,
                        "remaining_time": 44.23552319,
                        "test": [
                          0.5462004293,
                          0.7626195975
                        ]
                      },
                      {
                        "learn": [
                          0.5215136837,
                          0.7866468965
                        ],
                        "iteration": 716,
                        "passed_time": 111.6789678,
                        "remaining_time": 44.07970415,
                        "test": [
                          0.546183289,
                          0.7624938149
                        ]
                      },
                      {
                        "learn": [
                          0.521507397,
                          0.7865733114
                        ],
                        "iteration": 717,
                        "passed_time": 111.8263954,
                        "remaining_time": 43.92067342,
                        "test": [
                          0.5462017772,
                          0.7626195975
                        ]
                      },
                      {
                        "learn": [
                          0.5214208009,
                          0.7865404404
                        ],
                        "iteration": 718,
                        "passed_time": 111.9731029,
                        "remaining_time": 43.76139347,
                        "test": [
                          0.5461870833,
                          0.7629104108
                        ]
                      },
                      {
                        "learn": [
                          0.5213755286,
                          0.7866611774
                        ],
                        "iteration": 719,
                        "passed_time": 112.1015231,
                        "remaining_time": 43.59503678,
                        "test": [
                          0.5461937411,
                          0.7628712871
                        ]
                      },
                      {
                        "learn": [
                          0.5213100519,
                          0.7865464575
                        ],
                        "iteration": 720,
                        "passed_time": 112.1851022,
                        "remaining_time": 43.41143343,
                        "test": [
                          0.5462270688,
                          0.7627454215
                        ]
                      },
                      {
                        "learn": [
                          0.5212736641,
                          0.7865848637
                        ],
                        "iteration": 721,
                        "passed_time": 112.2965342,
                        "remaining_time": 43.23883173,
                        "test": [
                          0.5462237432,
                          0.763123143
                        ]
                      },
                      {
                        "learn": [
                          0.5212673806,
                          0.7866348252
                        ],
                        "iteration": 722,
                        "passed_time": 112.4402558,
                        "remaining_time": 43.07877022,
                        "test": [
                          0.5462216596,
                          0.763123143
                        ]
                      },
                      {
                        "learn": [
                          0.5212266856,
                          0.7865464575
                        ],
                        "iteration": 723,
                        "passed_time": 112.6291586,
                        "remaining_time": 42.9359776,
                        "test": [
                          0.5462231888,
                          0.762958072
                        ]
                      },
                      {
                        "learn": [
                          0.5211434809,
                          0.7865552445
                        ],
                        "iteration": 724,
                        "passed_time": 112.7704526,
                        "remaining_time": 42.77499927,
                        "test": [
                          0.5462028208,
                          0.7631318137
                        ]
                      },
                      {
                        "learn": [
                          0.5210864807,
                          0.7865728163
                        ],
                        "iteration": 725,
                        "passed_time": 112.8825527,
                        "remaining_time": 42.60305706,
                        "test": [
                          0.5461983074,
                          0.7632969937
                        ]
                      },
                      {
                        "learn": [
                          0.5210147297,
                          0.7866348252
                        ],
                        "iteration": 726,
                        "passed_time": 112.9875518,
                        "remaining_time": 42.42861297,
                        "test": [
                          0.5462037532,
                          0.7637535107
                        ]
                      },
                      {
                        "learn": [
                          0.5209963779,
                          0.7866172534
                        ],
                        "iteration": 727,
                        "passed_time": 113.0839813,
                        "remaining_time": 42.25115783,
                        "test": [
                          0.5462082576,
                          0.7633360859
                        ]
                      },
                      {
                        "learn": [
                          0.5209759566,
                          0.7865996788
                        ],
                        "iteration": 728,
                        "passed_time": 113.2169214,
                        "remaining_time": 42.08749752,
                        "test": [
                          0.546204752,
                          0.7635012386
                        ]
                      },
                      {
                        "learn": [
                          0.520959988,
                          0.7865672871
                        ],
                        "iteration": 729,
                        "passed_time": 113.332102,
                        "remaining_time": 41.91735278,
                        "test": [
                          0.5462082943,
                          0.7635883033
                        ]
                      },
                      {
                        "learn": [
                          0.5209355474,
                          0.7865584977
                        ],
                        "iteration": 730,
                        "passed_time": 113.4307457,
                        "remaining_time": 41.74127304,
                        "test": [
                          0.546194884,
                          0.7634621738
                        ]
                      },
                      {
                        "learn": [
                          0.5208889551,
                          0.7866172534
                        ],
                        "iteration": 731,
                        "passed_time": 113.5458527,
                        "remaining_time": 41.5714324,
                        "test": [
                          0.5461816786,
                          0.7635492399
                        ]
                      },
                      {
                        "learn": [
                          0.5208448116,
                          0.786723222
                        ],
                        "iteration": 732,
                        "passed_time": 113.7148615,
                        "remaining_time": 41.42137521,
                        "test": [
                          0.5461977582,
                          0.7635492399
                        ]
                      },
                      {
                        "learn": [
                          0.5208057042,
                          0.7867144387
                        ],
                        "iteration": 733,
                        "passed_time": 113.9193465,
                        "remaining_time": 41.28412285,
                        "test": [
                          0.5461970273,
                          0.7632969937
                        ]
                      },
                      {
                        "learn": [
                          0.5207434227,
                          0.7869176587
                        ],
                        "iteration": 734,
                        "passed_time": 114.1049818,
                        "remaining_time": 41.1398914,
                        "test": [
                          0.5461972819,
                          0.7635972888
                        ]
                      },
                      {
                        "learn": [
                          0.520734049,
                          0.7869088812
                        ],
                        "iteration": 735,
                        "passed_time": 114.3344915,
                        "remaining_time": 41.011285,
                        "test": [
                          0.5461892123,
                          0.7635972888
                        ]
                      },
                      {
                        "learn": [
                          0.5206828407,
                          0.7868413464
                        ],
                        "iteration": 736,
                        "passed_time": 115.1861273,
                        "remaining_time": 41.10441176,
                        "test": [
                          0.546197663,
                          0.7636363636
                        ]
                      },
                      {
                        "learn": [
                          0.520652525,
                          0.786900103
                        ],
                        "iteration": 737,
                        "passed_time": 115.6346559,
                        "remaining_time": 41.0518697,
                        "test": [
                          0.5462160572,
                          0.7636363636
                        ]
                      },
                      {
                        "learn": [
                          0.5206040731,
                          0.7867144387
                        ],
                        "iteration": 738,
                        "passed_time": 115.9113721,
                        "remaining_time": 40.93757525,
                        "test": [
                          0.5462109468,
                          0.7635101636
                        ]
                      },
                      {
                        "learn": [
                          0.5205847889,
                          0.7867880236
                        ],
                        "iteration": 739,
                        "passed_time": 116.2824637,
                        "remaining_time": 40.85600077,
                        "test": [
                          0.5462081595,
                          0.7635101636
                        ]
                      },
                      {
                        "learn": [
                          0.5205622425,
                          0.7866792981
                        ],
                        "iteration": 740,
                        "passed_time": 116.5891959,
                        "remaining_time": 40.75114946,
                        "test": [
                          0.5462223481,
                          0.763423096
                        ]
                      },
                      {
                        "learn": [
                          0.5205528087,
                          0.7867029165
                        ],
                        "iteration": 741,
                        "passed_time": 116.7129748,
                        "remaining_time": 40.58213948,
                        "test": [
                          0.5462171842,
                          0.763423096
                        ]
                      },
                      {
                        "learn": [
                          0.5205148229,
                          0.786767735
                        ],
                        "iteration": 742,
                        "passed_time": 116.8282439,
                        "remaining_time": 40.41030777,
                        "test": [
                          0.5462893625,
                          0.7633449017
                        ]
                      },
                      {
                        "learn": [
                          0.5204321669,
                          0.7870034613
                        ],
                        "iteration": 743,
                        "passed_time": 116.9568779,
                        "remaining_time": 40.24322681,
                        "test": [
                          0.5462892258,
                          0.762958072
                        ]
                      },
                      {
                        "learn": [
                          0.5203839984,
                          0.7869534759
                        ],
                        "iteration": 744,
                        "passed_time": 117.0861164,
                        "remaining_time": 40.07645595,
                        "test": [
                          0.5463121291,
                          0.7625495376
                        ]
                      },
                      {
                        "learn": [
                          0.5203680527,
                          0.786971033
                        ],
                        "iteration": 745,
                        "passed_time": 117.266634,
                        "remaining_time": 39.92724536,
                        "test": [
                          0.5463084272,
                          0.7628406276
                        ]
                      },
                      {
                        "learn": [
                          0.5202401214,
                          0.7870210136
                        ],
                        "iteration": 746,
                        "passed_time": 117.3995143,
                        "remaining_time": 39.76181674,
                        "test": [
                          0.5462836995,
                          0.7628321505
                        ]
                      },
                      {
                        "learn": [
                          0.5202175344,
                          0.7869237424
                        ],
                        "iteration": 747,
                        "passed_time": 117.5077202,
                        "remaining_time": 39.58816241,
                        "test": [
                          0.5462968286,
                          0.7627538385
                        ]
                      },
                      {
                        "learn": [
                          0.5201863398,
                          0.7869561635
                        ],
                        "iteration": 748,
                        "passed_time": 117.6472703,
                        "remaining_time": 39.42518672,
                        "test": [
                          0.5463053363,
                          0.7628797886
                        ]
                      },
                      {
                        "learn": [
                          0.5201653525,
                          0.7869473858
                        ],
                        "iteration": 749,
                        "passed_time": 117.7625109,
                        "remaining_time": 39.25417031,
                        "test": [
                          0.5463055769,
                          0.7630057803
                        ]
                      },
                      {
                        "learn": [
                          0.5200710982,
                          0.7870911937
                        ],
                        "iteration": 750,
                        "passed_time": 117.8719474,
                        "remaining_time": 39.08137805,
                        "test": [
                          0.5463228425,
                          0.76262793
                        ]
                      },
                      {
                        "learn": [
                          0.5199957047,
                          0.7870053938
                        ],
                        "iteration": 751,
                        "passed_time": 118.0052446,
                        "remaining_time": 38.91662323,
                        "test": [
                          0.5463059087,
                          0.7625887403
                        ]
                      },
                      {
                        "learn": [
                          0.5199661955,
                          0.7870202603
                        ],
                        "iteration": 752,
                        "passed_time": 118.1260031,
                        "remaining_time": 38.74783901,
                        "test": [
                          0.5462999597,
                          0.7625887403
                        ]
                      },
                      {
                        "learn": [
                          0.5198664783,
                          0.7872349187
                        ],
                        "iteration": 753,
                        "passed_time": 118.2345177,
                        "remaining_time": 38.57518748,
                        "test": [
                          0.5463065619,
                          0.7626671068
                        ]
                      },
                      {
                        "learn": [
                          0.519842428,
                          0.787258576
                        ],
                        "iteration": 754,
                        "passed_time": 118.3897141,
                        "remaining_time": 38.41785424,
                        "test": [
                          0.5463167485,
                          0.7625412541
                        ]
                      },
                      {
                        "learn": [
                          0.5197651893,
                          0.7873620036
                        ],
                        "iteration": 755,
                        "passed_time": 118.4775881,
                        "remaining_time": 38.23879828,
                        "test": [
                          0.5463018094,
                          0.762462859
                        ]
                      },
                      {
                        "learn": [
                          0.5197450761,
                          0.7873882779
                        ],
                        "iteration": 756,
                        "passed_time": 118.6320738,
                        "remaining_time": 38.08136583,
                        "test": [
                          0.5463040894,
                          0.762462859
                        ]
                      },
                      {
                        "learn": [
                          0.5196663714,
                          0.7875530294
                        ],
                        "iteration": 757,
                        "passed_time": 118.7582753,
                        "remaining_time": 37.91491111,
                        "test": [
                          0.5463044665,
                          0.7625887403
                        ]
                      },
                      {
                        "learn": [
                          0.5196449491,
                          0.7876354051
                        ],
                        "iteration": 758,
                        "passed_time": 118.8687971,
                        "remaining_time": 37.7435838,
                        "test": [
                          0.5463027965,
                          0.7623370193
                        ]
                      },
                      {
                        "learn": [
                          0.5196321354,
                          0.7876204596
                        ],
                        "iteration": 759,
                        "passed_time": 118.9597693,
                        "remaining_time": 37.56624293,
                        "test": [
                          0.5463059504,
                          0.762502063
                        ]
                      },
                      {
                        "learn": [
                          0.5195857765,
                          0.7877177808
                        ],
                        "iteration": 760,
                        "passed_time": 119.0750774,
                        "remaining_time": 37.396772,
                        "test": [
                          0.5463047175,
                          0.7627146631
                        ]
                      },
                      {
                        "learn": [
                          0.5195723437,
                          0.7876591012
                        ],
                        "iteration": 761,
                        "passed_time": 119.1911637,
                        "remaining_time": 37.22768629,
                        "test": [
                          0.5463034757,
                          0.7627146631
                        ]
                      },
                      {
                        "learn": [
                          0.5195429368,
                          0.7876828012
                        ],
                        "iteration": 762,
                        "passed_time": 119.3315893,
                        "remaining_time": 37.06629969,
                        "test": [
                          0.5463020012,
                          0.7625887403
                        ]
                      },
                      {
                        "learn": [
                          0.5194918263,
                          0.7877327402
                        ],
                        "iteration": 763,
                        "passed_time": 119.461492,
                        "remaining_time": 36.90171741,
                        "test": [
                          0.5463160884,
                          0.7626754748
                        ]
                      },
                      {
                        "learn": [
                          0.5194065276,
                          0.7878213579
                        ],
                        "iteration": 764,
                        "passed_time": 119.5669179,
                        "remaining_time": 36.7297068,
                        "test": [
                          0.5463022157,
                          0.7625887403
                        ]
                      },
                      {
                        "learn": [
                          0.5193798663,
                          0.7875792768
                        ],
                        "iteration": 765,
                        "passed_time": 119.6861706,
                        "remaining_time": 36.56209389,
                        "test": [
                          0.5463078994,
                          0.7625887403
                        ]
                      },
                      {
                        "learn": [
                          0.5193741055,
                          0.7875967715
                        ],
                        "iteration": 766,
                        "passed_time": 119.8346815,
                        "remaining_time": 36.40349516,
                        "test": [
                          0.5463156731,
                          0.7625887403
                        ]
                      },
                      {
                        "learn": [
                          0.5193090947,
                          0.7876616424
                        ],
                        "iteration": 767,
                        "passed_time": 119.9866983,
                        "remaining_time": 36.24598177,
                        "test": [
                          0.5463838308,
                          0.7626671068
                        ]
                      },
                      {
                        "learn": [
                          0.5193043635,
                          0.7876616424
                        ],
                        "iteration": 768,
                        "passed_time": 120.135745,
                        "remaining_time": 36.08759049,
                        "test": [
                          0.546385227,
                          0.7626671068
                        ]
                      },
                      {
                        "learn": [
                          0.5192654479,
                          0.7876379509
                        ],
                        "iteration": 769,
                        "passed_time": 120.2634516,
                        "remaining_time": 35.92284919,
                        "test": [
                          0.5463957294,
                          0.762502063
                        ]
                      },
                      {
                        "learn": [
                          0.519252138,
                          0.7876641825
                        ],
                        "iteration": 770,
                        "passed_time": 120.4544156,
                        "remaining_time": 35.77699245,
                        "test": [
                          0.5464119083,
                          0.762502063
                        ]
                      },
                      {
                        "learn": [
                          0.519206564,
                          0.7877552701
                        ],
                        "iteration": 771,
                        "passed_time": 120.5938458,
                        "remaining_time": 35.61579902,
                        "test": [
                          0.5463975263,
                          0.762502063
                        ]
                      },
                      {
                        "learn": [
                          0.5191703432,
                          0.7879998353
                        ],
                        "iteration": 772,
                        "passed_time": 120.7695701,
                        "remaining_time": 35.46532006,
                        "test": [
                          0.5464359204,
                          0.76262793
                        ]
                      },
                      {
                        "learn": [
                          0.5191131764,
                          0.7880085653
                        ],
                        "iteration": 773,
                        "passed_time": 120.9110506,
                        "remaining_time": 35.30477704,
                        "test": [
                          0.5464512871,
                          0.7623680739
                        ]
                      },
                      {
                        "learn": [
                          0.5190693724,
                          0.7880884715
                        ],
                        "iteration": 774,
                        "passed_time": 121.0405327,
                        "remaining_time": 35.14079983,
                        "test": [
                          0.5464615321,
                          0.7623680739
                        ]
                      },
                      {
                        "learn": [
                          0.5190366904,
                          0.7880971993
                        ],
                        "iteration": 775,
                        "passed_time": 121.1827677,
                        "remaining_time": 34.98059273,
                        "test": [
                          0.5464883169,
                          0.7625721352
                        ]
                      },
                      {
                        "learn": [
                          0.5189890206,
                          0.7881383855
                        ],
                        "iteration": 776,
                        "passed_time": 121.3032174,
                        "remaining_time": 34.81417953,
                        "test": [
                          0.5464681609,
                          0.7627845596
                        ]
                      },
                      {
                        "learn": [
                          0.5189275143,
                          0.7882033116
                        ],
                        "iteration": 777,
                        "passed_time": 121.5115016,
                        "remaining_time": 34.67294775,
                        "test": [
                          0.5464542006,
                          0.7626671068
                        ]
                      },
                      {
                        "learn": [
                          0.5189209721,
                          0.7882033116
                        ],
                        "iteration": 778,
                        "passed_time": 121.6435701,
                        "remaining_time": 34.50992169,
                        "test": [
                          0.546461915,
                          0.76262793
                        ]
                      },
                      {
                        "learn": [
                          0.5188910276,
                          0.7882532229
                        ],
                        "iteration": 779,
                        "passed_time": 121.7626083,
                        "remaining_time": 34.34329979,
                        "test": [
                          0.5464600441,
                          0.7627538385
                        ]
                      },
                      {
                        "learn": [
                          0.5188474637,
                          0.7881446696
                        ],
                        "iteration": 780,
                        "passed_time": 121.8913115,
                        "remaining_time": 34.17950989,
                        "test": [
                          0.5464808536,
                          0.7627146631
                        ]
                      },
                      {
                        "learn": [
                          0.5188139651,
                          0.788177137
                        ],
                        "iteration": 781,
                        "passed_time": 122.0287255,
                        "remaining_time": 34.01823804,
                        "test": [
                          0.5464712347,
                          0.7625887403
                        ]
                      },
                      {
                        "learn": [
                          0.5187794529,
                          0.7881509558
                        ],
                        "iteration": 782,
                        "passed_time": 122.1548657,
                        "remaining_time": 33.85390277,
                        "test": [
                          0.5464811719,
                          0.76262793
                        ]
                      },
                      {
                        "learn": [
                          0.5187108175,
                          0.7881984506
                        ],
                        "iteration": 783,
                        "passed_time": 122.306036,
                        "remaining_time": 33.69656093,
                        "test": [
                          0.5464720863,
                          0.7625495376
                        ]
                      },
                      {
                        "learn": [
                          0.5186771817,
                          0.7882008816
                        ],
                        "iteration": 784,
                        "passed_time": 122.4161959,
                        "remaining_time": 33.5280027,
                        "test": [
                          0.5464609395,
                          0.7626362735
                        ]
                      },
                      {
                        "learn": [
                          0.5186158983,
                          0.7882556416
                        ],
                        "iteration": 785,
                        "passed_time": 122.6028835,
                        "remaining_time": 33.38042885,
                        "test": [
                          0.5464682039,
                          0.7622192867
                        ]
                      },
                      {
                        "learn": [
                          0.51860907,
                          0.7882144622
                        ],
                        "iteration": 786,
                        "passed_time": 122.7197238,
                        "remaining_time": 33.21385154,
                        "test": [
                          0.5464665678,
                          0.7622192867
                        ]
                      },
                      {
                        "learn": [
                          0.5185836555,
                          0.788261944
                        ],
                        "iteration": 787,
                        "passed_time": 122.829724,
                        "remaining_time": 33.04556027,
                        "test": [
                          0.5464540457,
                          0.7621327171
                        ]
                      },
                      {
                        "learn": [
                          0.518551856,
                          0.7882919997
                        ],
                        "iteration": 788,
                        "passed_time": 122.9438843,
                        "remaining_time": 32.87852925,
                        "test": [
                          0.5464401373,
                          0.7618811881
                        ]
                      },
                      {
                        "learn": [
                          0.5185261567,
                          0.7883743924
                        ],
                        "iteration": 789,
                        "passed_time": 123.0475305,
                        "remaining_time": 32.70883723,
                        "test": [
                          0.5464672821,
                          0.7620934456
                        ]
                      },
                      {
                        "learn": [
                          0.5184996218,
                          0.7883419156
                        ],
                        "iteration": 790,
                        "passed_time": 123.1754588,
                        "remaining_time": 32.54572806,
                        "test": [
                          0.5464592638,
                          0.7620934456
                        ]
                      },
                      {
                        "learn": [
                          0.5184699466,
                          0.7884805537
                        ],
                        "iteration": 791,
                        "passed_time": 123.3003448,
                        "remaining_time": 32.38190873,
                        "test": [
                          0.5464640738,
                          0.7621327171
                        ]
                      },
                      {
                        "learn": [
                          0.5184290068,
                          0.7883395138
                        ],
                        "iteration": 792,
                        "passed_time": 123.417465,
                        "remaining_time": 32.21616047,
                        "test": [
                          0.546473528,
                          0.7618811881
                        ]
                      },
                      {
                        "learn": [
                          0.5184050248,
                          0.7882183316
                        ],
                        "iteration": 793,
                        "passed_time": 123.7416193,
                        "remaining_time": 32.10424883,
                        "test": [
                          0.5464728986,
                          0.7617554859
                        ]
                      },
                      {
                        "learn": [
                          0.518377583,
                          0.7883831102
                        ],
                        "iteration": 794,
                        "passed_time": 123.865368,
                        "remaining_time": 31.94012635,
                        "test": [
                          0.5464639533,
                          0.7622585438
                        ]
                      },
                      {
                        "learn": [
                          0.5183367861,
                          0.7883094414
                        ],
                        "iteration": 795,
                        "passed_time": 123.9924811,
                        "remaining_time": 31.77696753,
                        "test": [
                          0.5464878352,
                          0.7622666446
                        ]
                      },
                      {
                        "learn": [
                          0.5183031818,
                          0.7882445012
                        ],
                        "iteration": 796,
                        "passed_time": 124.1024697,
                        "remaining_time": 31.60953745,
                        "test": [
                          0.5465001094,
                          0.7623451693
                        ]
                      },
                      {
                        "learn": [
                          0.5182563985,
                          0.7883118488
                        ],
                        "iteration": 797,
                        "passed_time": 124.1958804,
                        "remaining_time": 31.43805494,
                        "test": [
                          0.5465035563,
                          0.7623844122
                        ]
                      },
                      {
                        "learn": [
                          0.5182260467,
                          0.7883118488
                        ],
                        "iteration": 798,
                        "passed_time": 124.3129877,
                        "remaining_time": 31.27272908,
                        "test": [
                          0.5465143896,
                          0.7621719756
                        ]
                      },
                      {
                        "learn": [
                          0.5181792808,
                          0.7883878938
                        ],
                        "iteration": 799,
                        "passed_time": 124.4298696,
                        "remaining_time": 31.10746741,
                        "test": [
                          0.5465422575,
                          0.7620462046
                        ]
                      },
                      {
                        "learn": [
                          0.5181288187,
                          0.7883316864
                        ],
                        "iteration": 800,
                        "passed_time": 124.5444982,
                        "remaining_time": 30.94176673,
                        "test": [
                          0.5465586377,
                          0.7620069318
                        ]
                      },
                      {
                        "learn": [
                          0.5180691286,
                          0.7883665404
                        ],
                        "iteration": 801,
                        "passed_time": 124.6765643,
                        "remaining_time": 30.78049842,
                        "test": [
                          0.5465775095,
                          0.7620462046
                        ]
                      },
                      {
                        "learn": [
                          0.5180513421,
                          0.7883839631
                        ],
                        "iteration": 802,
                        "passed_time": 124.8539931,
                        "remaining_time": 30.63043169,
                        "test": [
                          0.5465943615,
                          0.7620462046
                        ]
                      },
                      {
                        "learn": [
                          0.5180024182,
                          0.7882716049
                        ],
                        "iteration": 803,
                        "passed_time": 124.9508723,
                        "remaining_time": 30.46066041,
                        "test": [
                          0.546584134,
                          0.7620774938
                        ]
                      },
                      {
                        "learn": [
                          0.5179712956,
                          0.7883040454
                        ],
                        "iteration": 804,
                        "passed_time": 125.0561094,
                        "remaining_time": 30.29309483,
                        "test": [
                          0.5466179787,
                          0.7620382586
                        ]
                      },
                      {
                        "learn": [
                          0.5179403456,
                          0.7883364886
                        ],
                        "iteration": 805,
                        "passed_time": 125.1583867,
                        "remaining_time": 30.12497149,
                        "test": [
                          0.5466269153,
                          0.7619990104
                        ]
                      },
                      {
                        "learn": [
                          0.517903917,
                          0.7883016383
                        ],
                        "iteration": 806,
                        "passed_time": 125.2519397,
                        "remaining_time": 29.95492486,
                        "test": [
                          0.5466270413,
                          0.7620774938
                        ]
                      },
                      {
                        "learn": [
                          0.5178866952,
                          0.7883428007
                        ],
                        "iteration": 807,
                        "passed_time": 125.3433907,
                        "remaining_time": 29.78456809,
                        "test": [
                          0.5466341892,
                          0.7619990104
                        ]
                      },
                      {
                        "learn": [
                          0.5178433921,
                          0.7882454624
                        ],
                        "iteration": 808,
                        "passed_time": 125.4491886,
                        "remaining_time": 29.6177936,
                        "test": [
                          0.5466522114,
                          0.7622896734
                        ]
                      },
                      {
                        "learn": [
                          0.5178014898,
                          0.7882716049
                        ],
                        "iteration": 809,
                        "passed_time": 125.5587617,
                        "remaining_time": 29.45205522,
                        "test": [
                          0.5466579977,
                          0.7622112211
                        ]
                      },
                      {
                        "learn": [
                          0.5177378064,
                          0.7882628915
                        ],
                        "iteration": 810,
                        "passed_time": 125.6895483,
                        "remaining_time": 29.29139906,
                        "test": [
                          0.5466534472,
                          0.7622896734
                        ]
                      },
                      {
                        "learn": [
                          0.517694442,
                          0.7883451994
                        ],
                        "iteration": 811,
                        "passed_time": 125.8699564,
                        "remaining_time": 29.14230517,
                        "test": [
                          0.5466210164,
                          0.7620382586
                        ]
                      },
                      {
                        "learn": [
                          0.5176846564,
                          0.7883451994
                        ],
                        "iteration": 812,
                        "passed_time": 126.0015787,
                        "remaining_time": 28.98191294,
                        "test": [
                          0.5466378348,
                          0.7622504537
                        ]
                      },
                      {
                        "learn": [
                          0.5176239397,
                          0.7887892008
                        ],
                        "iteration": 813,
                        "passed_time": 126.1095018,
                        "remaining_time": 28.8161761,
                        "test": [
                          0.5466215263,
                          0.7623370193
                        ]
                      },
                      {
                        "learn": [
                          0.5175987163,
                          0.7886245782
                        ],
                        "iteration": 814,
                        "passed_time": 126.2092152,
                        "remaining_time": 28.64871755,
                        "test": [
                          0.5466141792,
                          0.7623370193
                        ]
                      },
                      {
                        "learn": [
                          0.5175464307,
                          0.7886031681
                        ],
                        "iteration": 815,
                        "passed_time": 126.2939088,
                        "remaining_time": 28.47803826,
                        "test": [
                          0.5466211146,
                          0.7619597493
                        ]
                      },
                      {
                        "learn": [
                          0.5175281887,
                          0.7886182207
                        ],
                        "iteration": 816,
                        "passed_time": 126.4121801,
                        "remaining_time": 28.31509052,
                        "test": [
                          0.546617089,
                          0.7619990104
                        ]
                      },
                      {
                        "learn": [
                          0.5175029965,
                          0.7885382812
                        ],
                        "iteration": 817,
                        "passed_time": 126.5280797,
                        "remaining_time": 28.15172433,
                        "test": [
                          0.5466206926,
                          0.7622031662
                        ]
                      },
                      {
                        "learn": [
                          0.5174295278,
                          0.7886118654
                        ],
                        "iteration": 818,
                        "passed_time": 126.6820582,
                        "remaining_time": 27.99688954,
                        "test": [
                          0.5466446353,
                          0.7619204752
                        ]
                      },
                      {
                        "learn": [
                          0.5174155513,
                          0.7886466475
                        ],
                        "iteration": 819,
                        "passed_time": 126.940329,
                        "remaining_time": 27.86495027,
                        "test": [
                          0.5466461389,
                          0.7619204752
                        ]
                      },
                      {
                        "learn": [
                          0.5173988957,
                          0.7887051662
                        ],
                        "iteration": 820,
                        "passed_time": 127.1887673,
                        "remaining_time": 27.73055951,
                        "test": [
                          0.5466428132,
                          0.7619990104
                        ]
                      },
                      {
                        "learn": [
                          0.5173577329,
                          0.7886315963
                        ],
                        "iteration": 821,
                        "passed_time": 127.3841596,
                        "remaining_time": 27.58440439,
                        "test": [
                          0.5466418786,
                          0.7619990104
                        ]
                      },
                      {
                        "learn": [
                          0.5172909345,
                          0.7886055121
                        ],
                        "iteration": 822,
                        "passed_time": 127.6060611,
                        "remaining_time": 27.44383089,
                        "test": [
                          0.5466447141,
                          0.7619597493
                        ]
                      },
                      {
                        "learn": [
                          0.5172727127,
                          0.7886489821
                        ],
                        "iteration": 823,
                        "passed_time": 127.8586712,
                        "remaining_time": 27.30961909,
                        "test": [
                          0.5466277993,
                          0.7619597493
                        ]
                      },
                      {
                        "learn": [
                          0.5172703146,
                          0.7886489821
                        ],
                        "iteration": 824,
                        "passed_time": 128.1867193,
                        "remaining_time": 27.19112228,
                        "test": [
                          0.5466277576,
                          0.7619597493
                        ]
                      },
                      {
                        "learn": [
                          0.5172170788,
                          0.7887376085
                        ],
                        "iteration": 825,
                        "passed_time": 128.4771337,
                        "remaining_time": 27.0641904,
                        "test": [
                          0.5466452476,
                          0.7619204752
                        ]
                      },
                      {
                        "learn": [
                          0.5171684133,
                          0.7887161773
                        ],
                        "iteration": 826,
                        "passed_time": 128.7189274,
                        "remaining_time": 26.92669219,
                        "test": [
                          0.5466589853,
                          0.7619990104
                        ]
                      },
                      {
                        "learn": [
                          0.5170873627,
                          0.7889021431
                        ],
                        "iteration": 827,
                        "passed_time": 129.0030404,
                        "remaining_time": 26.79773303,
                        "test": [
                          0.5466551881,
                          0.7619597493
                        ]
                      },
                      {
                        "learn": [
                          0.5170413473,
                          0.7891142469
                        ],
                        "iteration": 828,
                        "passed_time": 129.274821,
                        "remaining_time": 26.66585572,
                        "test": [
                          0.546689174,
                          0.7619990104
                        ]
                      },
                      {
                        "learn": [
                          0.517020162,
                          0.7891142469
                        ],
                        "iteration": 829,
                        "passed_time": 129.5204866,
                        "remaining_time": 26.52829244,
                        "test": [
                          0.5467015086,
                          0.7620069318
                        ]
                      },
                      {
                        "learn": [
                          0.5169869616,
                          0.7891553873
                        ],
                        "iteration": 830,
                        "passed_time": 129.639776,
                        "remaining_time": 26.36476791,
                        "test": [
                          0.5466931591,
                          0.7619204752
                        ]
                      },
                      {
                        "learn": [
                          0.5169496069,
                          0.7890731065
                        ],
                        "iteration": 831,
                        "passed_time": 129.7634169,
                        "remaining_time": 26.20222842,
                        "test": [
                          0.5467034242,
                          0.7618733509
                        ]
                      },
                      {
                        "learn": [
                          0.5168685832,
                          0.7889629081
                        ],
                        "iteration": 832,
                        "passed_time": 129.8812162,
                        "remaining_time": 26.03861116,
                        "test": [
                          0.5467041002,
                          0.7619204752
                        ]
                      },
                      {
                        "learn": [
                          0.5168039485,
                          0.7890862735
                        ],
                        "iteration": 833,
                        "passed_time": 130.0228753,
                        "remaining_time": 25.87985287,
                        "test": [
                          0.5466947051,
                          0.761378628
                        ]
                      },
                      {
                        "learn": [
                          0.5167995941,
                          0.789110051
                        ],
                        "iteration": 834,
                        "passed_time": 130.1343072,
                        "remaining_time": 25.7151625,
                        "test": [
                          0.5466924578,
                          0.761378628
                        ]
                      },
                      {
                        "learn": [
                          0.5167392362,
                          0.7890927038
                        ],
                        "iteration": 835,
                        "passed_time": 130.2685258,
                        "remaining_time": 25.55506965,
                        "test": [
                          0.5466840331,
                          0.7615435356
                        ]
                      },
                      {
                        "learn": [
                          0.5167107824,
                          0.7891662896
                        ],
                        "iteration": 836,
                        "passed_time": 130.411532,
                        "remaining_time": 25.39674995,
                        "test": [
                          0.5466821652,
                          0.761417972
                        ]
                      },
                      {
                        "learn": [
                          0.5166351882,
                          0.7893005469
                        ],
                        "iteration": 837,
                        "passed_time": 130.5394324,
                        "remaining_time": 25.2355466,
                        "test": [
                          0.5466685076,
                          0.7617477329
                        ]
                      },
                      {
                        "learn": [
                          0.5165712915,
                          0.7894477115
                        ],
                        "iteration": 838,
                        "passed_time": 130.664047,
                        "remaining_time": 25.0737921,
                        "test": [
                          0.5466543676,
                          0.7615359262
                        ]
                      },
                      {
                        "learn": [
                          0.5165016375,
                          0.789536462
                        ],
                        "iteration": 839,
                        "passed_time": 130.7495823,
                        "remaining_time": 24.90468235,
                        "test": [
                          0.5466356128,
                          0.7613711272
                        ]
                      },
                      {
                        "learn": [
                          0.5164430181,
                          0.789601415
                        ],
                        "iteration": 840,
                        "passed_time": 130.8506045,
                        "remaining_time": 24.73869931,
                        "test": [
                          0.5466314414,
                          0.7617870096
                        ]
                      },
                      {
                        "learn": [
                          0.5164123596,
                          0.7897790396
                        ],
                        "iteration": 841,
                        "passed_time": 131.0322736,
                        "remaining_time": 24.58800383,
                        "test": [
                          0.5466277244,
                          0.7617947872
                        ]
                      },
                      {
                        "learn": [
                          0.5163834196,
                          0.7898959148
                        ],
                        "iteration": 842,
                        "passed_time": 131.1653461,
                        "remaining_time": 24.42818427,
                        "test": [
                          0.5466518284,
                          0.7617947872
                        ]
                      },
                      {
                        "learn": [
                          0.5163494214,
                          0.7898938359
                        ],
                        "iteration": 843,
                        "passed_time": 131.2914797,
                        "remaining_time": 24.26714554,
                        "test": [
                          0.546642948,
                          0.7617947872
                        ]
                      },
                      {
                        "learn": [
                          0.5163072386,
                          0.7896512011
                        ],
                        "iteration": 844,
                        "passed_time": 131.4807008,
                        "remaining_time": 24.11776168,
                        "test": [
                          0.5466624067,
                          0.7615435356
                        ]
                      },
                      {
                        "learn": [
                          0.5162806526,
                          0.7896663787
                        ],
                        "iteration": 845,
                        "passed_time": 131.5993804,
                        "remaining_time": 23.95544277,
                        "test": [
                          0.5466773018,
                          0.7617084433
                        ]
                      },
                      {
                        "learn": [
                          0.5162530437,
                          0.7898222807
                        ],
                        "iteration": 846,
                        "passed_time": 131.6904002,
                        "remaining_time": 23.7882305,
                        "test": [
                          0.5466943597,
                          0.7620382586
                        ]
                      },
                      {
                        "learn": [
                          0.5161858524,
                          0.7897659496
                        ],
                        "iteration": 847,
                        "passed_time": 131.7812123,
                        "remaining_time": 23.62116069,
                        "test": [
                          0.5467095178,
                          0.7621639452
                        ]
                      },
                      {
                        "learn": [
                          0.5161352281,
                          0.7898675878
                        ],
                        "iteration": 848,
                        "passed_time": 131.9288715,
                        "remaining_time": 23.46438115,
                        "test": [
                          0.5467284252,
                          0.7621639452
                        ]
                      },
                      {
                        "learn": [
                          0.5160963105,
                          0.7898762285
                        ],
                        "iteration": 849,
                        "passed_time": 132.0719983,
                        "remaining_time": 23.30682324,
                        "test": [
                          0.5467269419,
                          0.7620382586
                        ]
                      },
                      {
                        "learn": [
                          0.5160798002,
                          0.7899564037
                        ],
                        "iteration": 850,
                        "passed_time": 132.1964422,
                        "remaining_time": 23.14602808,
                        "test": [
                          0.5467426273,
                          0.7620382586
                        ]
                      },
                      {
                        "learn": [
                          0.5160314996,
                          0.7898914295
                        ],
                        "iteration": 851,
                        "passed_time": 132.3519782,
                        "remaining_time": 22.99071921,
                        "test": [
                          0.5467680624,
                          0.7620774938
                        ]
                      },
                      {
                        "learn": [
                          0.5159930376,
                          0.7898655041
                        ],
                        "iteration": 852,
                        "passed_time": 132.5367074,
                        "remaining_time": 22.84044078,
                        "test": [
                          0.5467727215,
                          0.7620774938
                        ]
                      },
                      {
                        "learn": [
                          0.5159652582,
                          0.7899132009
                        ],
                        "iteration": 853,
                        "passed_time": 132.6856626,
                        "remaining_time": 22.68396574,
                        "test": [
                          0.5467649171,
                          0.7621167161
                        ]
                      },
                      {
                        "learn": [
                          0.5159244277,
                          0.7898482169
                        ],
                        "iteration": 854,
                        "passed_time": 132.7964566,
                        "remaining_time": 22.5210365,
                        "test": [
                          0.5467804255,
                          0.7621167161
                        ]
                      },
                      {
                        "learn": [
                          0.5158606394,
                          0.7898827884
                        ],
                        "iteration": 855,
                        "passed_time": 132.8942307,
                        "remaining_time": 22.35603882,
                        "test": [
                          0.5467799244,
                          0.7619910994
                        ]
                      },
                      {
                        "learn": [
                          0.515833807,
                          0.7898741466
                        ],
                        "iteration": 856,
                        "passed_time": 133.017996,
                        "remaining_time": 22.19553493,
                        "test": [
                          0.5467858918,
                          0.7619518628
                        ]
                      },
                      {
                        "learn": [
                          0.5157913364,
                          0.789837482
                        ],
                        "iteration": 857,
                        "passed_time": 133.1509492,
                        "remaining_time": 22.03663727,
                        "test": [
                          0.5467697991,
                          0.7617870096
                        ]
                      },
                      {
                        "learn": [
                          0.5157856539,
                          0.7898049864
                        ],
                        "iteration": 858,
                        "passed_time": 133.255341,
                        "remaining_time": 21.87311185,
                        "test": [
                          0.5467753697,
                          0.7618262733
                        ]
                      },
                      {
                        "learn": [
                          0.5157487459,
                          0.789781142
                        ],
                        "iteration": 859,
                        "passed_time": 133.3935537,
                        "remaining_time": 21.71522967,
                        "test": [
                          0.5468112884,
                          0.7619204752
                        ]
                      },
                      {
                        "learn": [
                          0.5157093015,
                          0.7898699803
                        ],
                        "iteration": 860,
                        "passed_time": 133.542821,
                        "remaining_time": 21.55917783,
                        "test": [
                          0.546806598,
                          0.7620069318
                        ]
                      },
                      {
                        "learn": [
                          0.5156796708,
                          0.7899197696
                        ],
                        "iteration": 861,
                        "passed_time": 133.6439499,
                        "remaining_time": 21.39543513,
                        "test": [
                          0.5468018783,
                          0.7619204752
                        ]
                      },
                      {
                        "learn": [
                          0.515653365,
                          0.7899629782
                        ],
                        "iteration": 862,
                        "passed_time": 133.7397946,
                        "remaining_time": 21.23099868,
                        "test": [
                          0.546806922,
                          0.7618811881
                        ]
                      },
                      {
                        "learn": [
                          0.5156084753,
                          0.7899564037
                        ],
                        "iteration": 863,
                        "passed_time": 133.85785,
                        "remaining_time": 21.07021712,
                        "test": [
                          0.5467952057,
                          0.7619204752
                        ]
                      },
                      {
                        "learn": [
                          0.515566895,
                          0.7899888948
                        ],
                        "iteration": 864,
                        "passed_time": 133.9633322,
                        "remaining_time": 20.90757208,
                        "test": [
                          0.5467834044,
                          0.7619597493
                        ]
                      },
                      {
                        "learn": [
                          0.5155488617,
                          0.7900538851
                        ],
                        "iteration": 865,
                        "passed_time": 134.0864096,
                        "remaining_time": 20.74778162,
                        "test": [
                          0.5467969424,
                          0.7621247113
                        ]
                      },
                      {
                        "learn": [
                          0.5155375417,
                          0.7901513905
                        ],
                        "iteration": 866,
                        "passed_time": 134.1984613,
                        "remaining_time": 20.58638449,
                        "test": [
                          0.5467971331,
                          0.7621247113
                        ]
                      },
                      {
                        "learn": [
                          0.5155092321,
                          0.7902986917
                        ],
                        "iteration": 867,
                        "passed_time": 134.3314688,
                        "remaining_time": 20.42828788,
                        "test": [
                          0.5467944873,
                          0.7623762376
                        ]
                      },
                      {
                        "learn": [
                          0.5154191675,
                          0.7903504442
                        ],
                        "iteration": 868,
                        "passed_time": 134.519699,
                        "remaining_time": 20.27857373,
                        "test": [
                          0.5468094677,
                          0.7620774938
                        ]
                      },
                      {
                        "learn": [
                          0.5154068852,
                          0.7903504442
                        ],
                        "iteration": 869,
                        "passed_time": 134.667754,
                        "remaining_time": 20.12276784,
                        "test": [
                          0.5468023188,
                          0.7620774938
                        ]
                      },
                      {
                        "learn": [
                          0.5153757595,
                          0.7904154669
                        ],
                        "iteration": 870,
                        "passed_time": 134.7749025,
                        "remaining_time": 19.96092127,
                        "test": [
                          0.5468189265,
                          0.7619518628
                        ]
                      },
                      {
                        "learn": [
                          0.5153525601,
                          0.7903179369
                        ],
                        "iteration": 871,
                        "passed_time": 134.8876981,
                        "remaining_time": 19.80002909,
                        "test": [
                          0.5468113706,
                          0.7619518628
                        ]
                      },
                      {
                        "learn": [
                          0.5153033661,
                          0.790335184
                        ],
                        "iteration": 872,
                        "passed_time": 135.0044876,
                        "remaining_time": 19.6398281,
                        "test": [
                          0.5468394305,
                          0.7618733509
                        ]
                      },
                      {
                        "learn": [
                          0.5152733991,
                          0.790408818
                        ],
                        "iteration": 873,
                        "passed_time": 135.1193299,
                        "remaining_time": 19.47944573,
                        "test": [
                          0.546843864,
                          0.7618733509
                        ]
                      },
                      {
                        "learn": [
                          0.5152126115,
                          0.7904174378
                        ],
                        "iteration": 874,
                        "passed_time": 135.2540426,
                        "remaining_time": 19.32200609,
                        "test": [
                          0.5468539348,
                          0.7619518628
                        ]
                      },
                      {
                        "learn": [
                          0.5151937966,
                          0.7903935518
                        ],
                        "iteration": 875,
                        "passed_time": 135.3716687,
                        "remaining_time": 19.16219968,
                        "test": [
                          0.5468673872,
                          0.7617792422
                        ]
                      },
                      {
                        "learn": [
                          0.5151552893,
                          0.7904021712
                        ],
                        "iteration": 876,
                        "passed_time": 135.5208211,
                        "remaining_time": 19.00691106,
                        "test": [
                          0.5468751562,
                          0.7618184813
                        ]
                      },
                      {
                        "learn": [
                          0.5151229889,
                          0.7904299926
                        ],
                        "iteration": 877,
                        "passed_time": 135.645196,
                        "remaining_time": 18.84819352,
                        "test": [
                          0.5468425144,
                          0.7617322575
                        ]
                      },
                      {
                        "learn": [
                          0.5151034176,
                          0.7903650115
                        ],
                        "iteration": 878,
                        "passed_time": 135.780775,
                        "remaining_time": 18.69109644,
                        "test": [
                          0.5468378745,
                          0.7618577075
                        ]
                      },
                      {
                        "learn": [
                          0.5150595817,
                          0.7903132966
                        ],
                        "iteration": 879,
                        "passed_time": 135.8977875,
                        "remaining_time": 18.53151648,
                        "test": [
                          0.5468316443,
                          0.7622734761
                        ]
                      },
                      {
                        "learn": [
                          0.5150211254,
                          0.7903199276
                        ],
                        "iteration": 880,
                        "passed_time": 136.0201011,
                        "remaining_time": 18.37274919,
                        "test": [
                          0.5468040738,
                          0.7617245351
                        ]
                      },
                      {
                        "learn": [
                          0.5149624872,
                          0.7904996915
                        ],
                        "iteration": 881,
                        "passed_time": 136.0911185,
                        "remaining_time": 18.2072018,
                        "test": [
                          0.5468065523,
                          0.7616853193
                        ]
                      },
                      {
                        "learn": [
                          0.5149214628,
                          0.7903524283
                        ],
                        "iteration": 882,
                        "passed_time": 136.2457364,
                        "remaining_time": 18.05294582,
                        "test": [
                          0.5468164633,
                          0.7611842105
                        ]
                      },
                      {
                        "learn": [
                          0.5149057197,
                          0.7903457917
                        ],
                        "iteration": 883,
                        "passed_time": 136.3530706,
                        "remaining_time": 17.89248438,
                        "test": [
                          0.5468067762,
                          0.7612627425
                        ]
                      },
                      {
                        "learn": [
                          0.5148728862,
                          0.7904041442
                        ],
                        "iteration": 884,
                        "passed_time": 136.4754777,
                        "remaining_time": 17.73410162,
                        "test": [
                          0.546820372,
                          0.7612627425
                        ]
                      },
                      {
                        "learn": [
                          0.5148668033,
                          0.7904213772
                        ],
                        "iteration": 885,
                        "passed_time": 136.6658686,
                        "remaining_time": 17.58454742,
                        "test": [
                          0.5468177525,
                          0.7612627425
                        ]
                      },
                      {
                        "learn": [
                          0.5147887038,
                          0.7905122092
                        ],
                        "iteration": 886,
                        "passed_time": 136.7815165,
                        "remaining_time": 17.42537922,
                        "test": [
                          0.5467942028,
                          0.7618421053
                        ]
                      },
                      {
                        "learn": [
                          0.5147333745,
                          0.7904691419
                        ],
                        "iteration": 887,
                        "passed_time": 136.8624521,
                        "remaining_time": 17.2619309,
                        "test": [
                          0.5467878256,
                          0.76188909
                        ]
                      },
                      {
                        "learn": [
                          0.5147063049,
                          0.7904691419
                        ],
                        "iteration": 888,
                        "passed_time": 136.971163,
                        "remaining_time": 17.10213622,
                        "test": [
                          0.546797797,
                          0.76188909
                        ]
                      },
                      {
                        "learn": [
                          0.5146522137,
                          0.790609711
                        ],
                        "iteration": 889,
                        "passed_time": 137.1138888,
                        "remaining_time": 16.94666042,
                        "test": [
                          0.5468091917,
                          0.7618421053
                        ]
                      },
                      {
                        "learn": [
                          0.514602061,
                          0.7905447071
                        ],
                        "iteration": 890,
                        "passed_time": 137.2546759,
                        "remaining_time": 16.79097606,
                        "test": [
                          0.5468323181,
                          0.7618421053
                        ]
                      },
                      {
                        "learn": [
                          0.5145819161,
                          0.790609711
                        ],
                        "iteration": 891,
                        "passed_time": 137.3998326,
                        "remaining_time": 16.63585417,
                        "test": [
                          0.5468210501,
                          0.7617245351
                        ]
                      },
                      {
                        "learn": [
                          0.5145502558,
                          0.790709147
                        ],
                        "iteration": 892,
                        "passed_time": 137.5375911,
                        "remaining_time": 16.47986814,
                        "test": [
                          0.5468239322,
                          0.7618029281
                        ]
                      },
                      {
                        "learn": [
                          0.5145060582,
                          0.7908717105
                        ],
                        "iteration": 893,
                        "passed_time": 137.7293302,
                        "remaining_time": 16.33032327,
                        "test": [
                          0.5468132437,
                          0.7615992103
                        ]
                      },
                      {
                        "learn": [
                          0.5144582584,
                          0.790923292
                        ],
                        "iteration": 894,
                        "passed_time": 137.8702369,
                        "remaining_time": 16.17472053,
                        "test": [
                          0.5468198952,
                          0.7617637381
                        ]
                      },
                      {
                        "learn": [
                          0.5143987143,
                          0.791163173
                        ],
                        "iteration": 895,
                        "passed_time": 137.9931271,
                        "remaining_time": 16.0170594,
                        "test": [
                          0.5468496421,
                          0.7622573215
                        ]
                      },
                      {
                        "learn": [
                          0.5143495228,
                          0.7908496732
                        ],
                        "iteration": 896,
                        "passed_time": 138.1528528,
                        "remaining_time": 15.86370551,
                        "test": [
                          0.5468569876,
                          0.7619753086
                        ]
                      },
                      {
                        "learn": [
                          0.514296832,
                          0.7908907798
                        ],
                        "iteration": 897,
                        "passed_time": 138.2836005,
                        "remaining_time": 15.70704593,
                        "test": [
                          0.5468553617,
                          0.7618106996
                        ]
                      },
                      {
                        "learn": [
                          0.5142743588,
                          0.7906632695
                        ],
                        "iteration": 898,
                        "passed_time": 138.40681,
                        "remaining_time": 15.54959712,
                        "test": [
                          0.5468498015,
                          0.7615207373
                        ]
                      },
                      {
                        "learn": [
                          0.514211349,
                          0.7907024539
                        ],
                        "iteration": 899,
                        "passed_time": 138.5499867,
                        "remaining_time": 15.39444296,
                        "test": [
                          0.5468150107,
                          0.7613168724
                        ]
                      },
                      {
                        "learn": [
                          0.5141998327,
                          0.7907110563
                        ],
                        "iteration": 900,
                        "passed_time": 138.7109825,
                        "remaining_time": 15.24127333,
                        "test": [
                          0.5468077306,
                          0.7612701547
                        ]
                      },
                      {
                        "learn": [
                          0.5141740565,
                          0.7908563911
                        ],
                        "iteration": 901,
                        "passed_time": 138.862365,
                        "remaining_time": 15.08704188,
                        "test": [
                          0.5468161072,
                          0.7613094259
                        ]
                      },
                      {
                        "learn": [
                          0.5141390059,
                          0.7910122523
                        ],
                        "iteration": 902,
                        "passed_time": 138.9987459,
                        "remaining_time": 14.93120526,
                        "test": [
                          0.5468432085,
                          0.7618106996
                        ]
                      },
                      {
                        "learn": [
                          0.5140481421,
                          0.7910502959
                        ],
                        "iteration": 903,
                        "passed_time": 139.1283302,
                        "remaining_time": 14.77468993,
                        "test": [
                          0.5468721513,
                          0.7615675943
                        ]
                      },
                      {
                        "learn": [
                          0.5139960737,
                          0.7911564067
                        ],
                        "iteration": 904,
                        "passed_time": 139.2609872,
                        "remaining_time": 14.61855666,
                        "test": [
                          0.546905249,
                          0.7616930171
                        ]
                      },
                      {
                        "learn": [
                          0.5139759765,
                          0.7911803386
                        ],
                        "iteration": 905,
                        "passed_time": 139.3645705,
                        "remaining_time": 14.45945875,
                        "test": [
                          0.5469122791,
                          0.7613168724
                        ]
                      },
                      {
                        "learn": [
                          0.5139311335,
                          0.7911649887
                        ],
                        "iteration": 906,
                        "passed_time": 139.5249371,
                        "remaining_time": 14.30630557,
                        "test": [
                          0.546911222,
                          0.7612775766
                        ]
                      },
                      {
                        "learn": [
                          0.5138945461,
                          0.7911067275
                        ],
                        "iteration": 907,
                        "passed_time": 139.9890357,
                        "remaining_time": 14.1839111,
                        "test": [
                          0.546914047,
                          0.7614422127
                        ]
                      },
                      {
                        "learn": [
                          0.5138481251,
                          0.7912539559
                        ],
                        "iteration": 908,
                        "passed_time": 140.2772286,
                        "remaining_time": 14.0431549,
                        "test": [
                          0.546897007,
                          0.7618577075
                        ]
                      },
                      {
                        "learn": [
                          0.5137933272,
                          0.7912110499
                        ],
                        "iteration": 909,
                        "passed_time": 140.544054,
                        "remaining_time": 13.89996139,
                        "test": [
                          0.5468923557,
                          0.7616930171
                        ]
                      },
                      {
                        "learn": [
                          0.5137626877,
                          0.7911699416
                        ],
                        "iteration": 910,
                        "passed_time": 140.7695353,
                        "remaining_time": 13.75245734,
                        "test": [
                          0.5469009581,
                          0.7615675943
                        ]
                      },
                      {
                        "learn": [
                          0.5137238657,
                          0.7912828947
                        ],
                        "iteration": 911,
                        "passed_time": 141.0358497,
                        "remaining_time": 13.60872234,
                        "test": [
                          0.5469290913,
                          0.7619831988
                        ]
                      },
                      {
                        "learn": [
                          0.5136800078,
                          0.7912331922
                        ],
                        "iteration": 912,
                        "passed_time": 141.3679205,
                        "remaining_time": 13.47098476,
                        "test": [
                          0.5469213757,
                          0.762030323
                        ]
                      },
                      {
                        "learn": [
                          0.5136379193,
                          0.7911337747
                        ],
                        "iteration": 913,
                        "passed_time": 141.6234065,
                        "remaining_time": 13.32561592,
                        "test": [
                          0.5469391302,
                          0.7616144975
                        ]
                      },
                      {
                        "learn": [
                          0.5135790912,
                          0.7910858928
                        ],
                        "iteration": 914,
                        "passed_time": 141.8944581,
                        "remaining_time": 13.18145239,
                        "test": [
                          0.5469672402,
                          0.7618184813
                        ]
                      },
                      {
                        "learn": [
                          0.5135340455,
                          0.7911012419
                        ],
                        "iteration": 915,
                        "passed_time": 142.1898582,
                        "remaining_time": 13.03924464,
                        "test": [
                          0.54695779,
                          0.7619831988
                        ]
                      },
                      {
                        "learn": [
                          0.5135096742,
                          0.7911098318
                        ],
                        "iteration": 916,
                        "passed_time": 142.3935384,
                        "remaining_time": 12.88840096,
                        "test": [
                          0.5469635488,
                          0.7619831988
                        ]
                      },
                      {
                        "learn": [
                          0.5134378643,
                          0.7913068509
                        ],
                        "iteration": 917,
                        "passed_time": 142.500307,
                        "remaining_time": 12.72878559,
                        "test": [
                          0.5469878599,
                          0.7624546354
                        ]
                      },
                      {
                        "learn": [
                          0.5134170933,
                          0.7912914765
                        ],
                        "iteration": 918,
                        "passed_time": 142.591214,
                        "remaining_time": 12.5678872,
                        "test": [
                          0.5470111669,
                          0.762415443
                        ]
                      },
                      {
                        "learn": [
                          0.5133695284,
                          0.7913890945
                        ],
                        "iteration": 919,
                        "passed_time": 142.7242633,
                        "remaining_time": 12.41080551,
                        "test": [
                          0.5470477721,
                          0.7622423743
                        ]
                      },
                      {
                        "learn": [
                          0.5132999428,
                          0.7914730913
                        ],
                        "iteration": 920,
                        "passed_time": 142.8429667,
                        "remaining_time": 12.25254546,
                        "test": [
                          0.5470826169,
                          0.7618655241
                        ]
                      },
                      {
                        "learn": [
                          0.5132610422,
                          0.7914988079
                        ],
                        "iteration": 921,
                        "passed_time": 142.9637348,
                        "remaining_time": 12.0945459,
                        "test": [
                          0.5470785664,
                          0.7620223979
                        ]
                      },
                      {
                        "learn": [
                          0.5132167374,
                          0.7916700929
                        ],
                        "iteration": 922,
                        "passed_time": 143.089666,
                        "remaining_time": 11.93705773,
                        "test": [
                          0.5470641446,
                          0.7621087315
                        ]
                      },
                      {
                        "learn": [
                          0.5131784031,
                          0.7917009377
                        ],
                        "iteration": 923,
                        "passed_time": 143.1941189,
                        "remaining_time": 11.77787125,
                        "test": [
                          0.5470675064,
                          0.7619439868
                        ]
                      },
                      {
                        "learn": [
                          0.5131458772,
                          0.7916700929
                        ],
                        "iteration": 924,
                        "passed_time": 143.3035234,
                        "remaining_time": 11.6192046,
                        "test": [
                          0.5470561049,
                          0.7621087315
                        ]
                      },
                      {
                        "learn": [
                          0.5131215231,
                          0.7916375447
                        ],
                        "iteration": 925,
                        "passed_time": 143.4757955,
                        "remaining_time": 11.46566832,
                        "test": [
                          0.5470556737,
                          0.7623207516
                        ]
                      },
                      {
                        "learn": [
                          0.5130836627,
                          0.7916358253
                        ],
                        "iteration": 926,
                        "passed_time": 143.5610197,
                        "remaining_time": 11.30523671,
                        "test": [
                          0.5470523888,
                          0.7621479163
                        ]
                      },
                      {
                        "learn": [
                          0.5130490415,
                          0.7917026438
                        ],
                        "iteration": 927,
                        "passed_time": 143.6375509,
                        "remaining_time": 11.14429274,
                        "test": [
                          0.5470632389,
                          0.762195122
                        ]
                      },
                      {
                        "learn": [
                          0.5129807645,
                          0.7918191161
                        ],
                        "iteration": 928,
                        "passed_time": 143.7711163,
                        "remaining_time": 10.98788941,
                        "test": [
                          0.5470899921,
                          0.7619910994
                        ]
                      },
                      {
                        "learn": [
                          0.5129472211,
                          0.7918053672
                        ],
                        "iteration": 929,
                        "passed_time": 143.9148499,
                        "remaining_time": 10.83230053,
                        "test": [
                          0.5470888601,
                          0.7619910994
                        ]
                      },
                      {
                        "learn": [
                          0.5129120609,
                          0.791706054
                        ],
                        "iteration": 930,
                        "passed_time": 144.035365,
                        "remaining_time": 10.67501631,
                        "test": [
                          0.5470895054,
                          0.7617399901
                        ]
                      },
                      {
                        "learn": [
                          0.5129034065,
                          0.7917625781
                        ],
                        "iteration": 931,
                        "passed_time": 144.1281617,
                        "remaining_time": 10.51578862,
                        "test": [
                          0.5470882232,
                          0.7619047619
                        ]
                      },
                      {
                        "learn": [
                          0.51285882,
                          0.7916409814
                        ],
                        "iteration": 932,
                        "passed_time": 144.2336508,
                        "remaining_time": 10.3576148,
                        "test": [
                          0.5471009458,
                          0.7619518628
                        ]
                      },
                      {
                        "learn": [
                          0.5128398484,
                          0.7916649542
                        ],
                        "iteration": 933,
                        "passed_time": 144.4261602,
                        "remaining_time": 10.20570297,
                        "test": [
                          0.5471014716,
                          0.7619518628
                        ]
                      },
                      {
                        "learn": [
                          0.5128064016,
                          0.7916392634
                        ],
                        "iteration": 934,
                        "passed_time": 144.603108,
                        "remaining_time": 10.05262248,
                        "test": [
                          0.5470772578,
                          0.7616221563
                        ]
                      },
                      {
                        "learn": [
                          0.5127212125,
                          0.7916152898
                        ],
                        "iteration": 935,
                        "passed_time": 144.7000186,
                        "remaining_time": 9.894018364,
                        "test": [
                          0.5470364924,
                          0.7617870096
                        ]
                      },
                      {
                        "learn": [
                          0.512690799,
                          0.7915759195
                        ],
                        "iteration": 936,
                        "passed_time": 144.7731396,
                        "remaining_time": 9.733946416,
                        "test": [
                          0.5470656781,
                          0.7615752183
                        ]
                      },
                      {
                        "learn": [
                          0.5126585674,
                          0.7915998849
                        ],
                        "iteration": 937,
                        "passed_time": 144.8756882,
                        "remaining_time": 9.576004978,
                        "test": [
                          0.5470543722,
                          0.7617399901
                        ]
                      },
                      {
                        "learn": [
                          0.5126019702,
                          0.7915930476
                        ],
                        "iteration": 938,
                        "passed_time": 144.9483956,
                        "remaining_time": 9.416242949,
                        "test": [
                          0.5470278331,
                          0.7614890463
                        ]
                      },
                      {
                        "learn": [
                          0.512590468,
                          0.7915930476
                        ],
                        "iteration": 939,
                        "passed_time": 145.0843049,
                        "remaining_time": 9.260700314,
                        "test": [
                          0.5470324449,
                          0.7614890463
                        ]
                      },
                      {
                        "learn": [
                          0.5125421941,
                          0.7915690867
                        ],
                        "iteration": 940,
                        "passed_time": 145.2260489,
                        "remaining_time": 9.105565233,
                        "test": [
                          0.5470131362,
                          0.7614422127
                        ]
                      },
                      {
                        "learn": [
                          0.5125113097,
                          0.7915862126
                        ],
                        "iteration": 941,
                        "passed_time": 145.3453051,
                        "remaining_time": 8.949073986,
                        "test": [
                          0.5470312426,
                          0.7614814815
                        ]
                      },
                      {
                        "learn": [
                          0.5124931755,
                          0.7915536932
                        ],
                        "iteration": 942,
                        "passed_time": 145.540799,
                        "remaining_time": 8.797269927,
                        "test": [
                          0.5470392147,
                          0.7613168724
                        ]
                      },
                      {
                        "learn": [
                          0.5124100626,
                          0.7917659627
                        ],
                        "iteration": 943,
                        "passed_time": 145.6759498,
                        "remaining_time": 8.641793631,
                        "test": [
                          0.547053791,
                          0.7618655241
                        ]
                      },
                      {
                        "learn": [
                          0.5123698775,
                          0.7916272955
                        ],
                        "iteration": 944,
                        "passed_time": 145.7910271,
                        "remaining_time": 8.485192052,
                        "test": [
                          0.5470562401,
                          0.7613636364
                        ]
                      },
                      {
                        "learn": [
                          0.5123552745,
                          0.7915947745
                        ],
                        "iteration": 945,
                        "passed_time": 145.9234331,
                        "remaining_time": 8.329667429,
                        "test": [
                          0.5470583166,
                          0.7613636364
                        ]
                      },
                      {
                        "learn": [
                          0.512328489,
                          0.7916615321
                        ],
                        "iteration": 946,
                        "passed_time": 146.0563741,
                        "remaining_time": 8.174221573,
                        "test": [
                          0.5470684142,
                          0.7613243288
                        ]
                      },
                      {
                        "learn": [
                          0.5123114425,
                          0.7916854948
                        ],
                        "iteration": 947,
                        "passed_time": 146.1590217,
                        "remaining_time": 8.017161527,
                        "test": [
                          0.5470645531,
                          0.761402931
                        ]
                      },
                      {
                        "learn": [
                          0.5122924239,
                          0.7917077581
                        ],
                        "iteration": 948,
                        "passed_time": 146.2913353,
                        "remaining_time": 7.861810432,
                        "test": [
                          0.5470568165,
                          0.7614422127
                        ]
                      },
                      {
                        "learn": [
                          0.5122818606,
                          0.7916940519
                        ],
                        "iteration": 949,
                        "passed_time": 146.4162893,
                        "remaining_time": 7.706120488,
                        "test": [
                          0.5470504821,
                          0.761771485
                        ]
                      },
                      {
                        "learn": [
                          0.5122637792,
                          0.7917145673
                        ],
                        "iteration": 950,
                        "passed_time": 146.6057387,
                        "remaining_time": 7.553818291,
                        "test": [
                          0.5470492393,
                          0.7614346825
                        ]
                      },
                      {
                        "learn": [
                          0.5122074767,
                          0.7917043121
                        ],
                        "iteration": 951,
                        "passed_time": 146.729106,
                        "remaining_time": 7.398106187,
                        "test": [
                          0.5470663226,
                          0.7618499013
                        ]
                      },
                      {
                        "learn": [
                          0.5121735959,
                          0.7918429375
                        ],
                        "iteration": 952,
                        "passed_time": 146.8802379,
                        "remaining_time": 7.243831252,
                        "test": [
                          0.5470805027,
                          0.7619753086
                        ]
                      },
                      {
                        "learn": [
                          0.5121541875,
                          0.791906327
                        ],
                        "iteration": 953,
                        "passed_time": 147.0001664,
                        "remaining_time": 7.08805834,
                        "test": [
                          0.5470572502,
                          0.7621007573
                        ]
                      },
                      {
                        "learn": [
                          0.5120850599,
                          0.7922520746
                        ],
                        "iteration": 954,
                        "passed_time": 147.1304032,
                        "remaining_time": 6.932846225,
                        "test": [
                          0.5470781839,
                          0.7618969208
                        ]
                      },
                      {
                        "learn": [
                          0.5120469804,
                          0.7922606088
                        ],
                        "iteration": 955,
                        "passed_time": 147.2327977,
                        "remaining_time": 6.776404916,
                        "test": [
                          0.5470794245,
                          0.7619753086
                        ]
                      },
                      {
                        "learn": [
                          0.5119938109,
                          0.7924884944
                        ],
                        "iteration": 956,
                        "passed_time": 147.3142653,
                        "remaining_time": 6.619136267,
                        "test": [
                          0.5470903585,
                          0.7619753086
                        ]
                      },
                      {
                        "learn": [
                          0.511967008,
                          0.7925210602
                        ],
                        "iteration": 957,
                        "passed_time": 147.4720184,
                        "remaining_time": 6.465370328,
                        "test": [
                          0.5471115665,
                          0.7618969208
                        ]
                      },
                      {
                        "learn": [
                          0.5119156471,
                          0.7922830375
                        ],
                        "iteration": 958,
                        "passed_time": 147.7043542,
                        "remaining_time": 6.314784693,
                        "test": [
                          0.5471232653,
                          0.7621007573
                        ]
                      },
                      {
                        "learn": [
                          0.5118931517,
                          0.7924063116
                        ],
                        "iteration": 959,
                        "passed_time": 147.791597,
                        "remaining_time": 6.157983209,
                        "test": [
                          0.5471140438,
                          0.7618499013
                        ]
                      },
                      {
                        "learn": [
                          0.5118684245,
                          0.7925381107
                        ],
                        "iteration": 960,
                        "passed_time": 147.9253118,
                        "remaining_time": 6.003212446,
                        "test": [
                          0.5471190823,
                          0.7617245351
                        ]
                      },
                      {
                        "learn": [
                          0.5118374655,
                          0.7925256674
                        ],
                        "iteration": 961,
                        "passed_time": 148.0699296,
                        "remaining_time": 5.848916139,
                        "test": [
                          0.5471370903,
                          0.7616853193
                        ]
                      },
                      {
                        "learn": [
                          0.5118246934,
                          0.7925411755
                        ],
                        "iteration": 962,
                        "passed_time": 148.188707,
                        "remaining_time": 5.6936471,
                        "test": [
                          0.5471375863,
                          0.7618499013
                        ]
                      },
                      {
                        "learn": [
                          0.5117678121,
                          0.7925752536
                        ],
                        "iteration": 963,
                        "passed_time": 148.3121957,
                        "remaining_time": 5.538629715,
                        "test": [
                          0.5471415315,
                          0.7620144832
                        ]
                      },
                      {
                        "learn": [
                          0.5117085445,
                          0.7925411755
                        ],
                        "iteration": 964,
                        "passed_time": 148.412027,
                        "remaining_time": 5.382819631,
                        "test": [
                          0.5471309195,
                          0.7620144832
                        ]
                      },
                      {
                        "learn": [
                          0.5116122563,
                          0.792417957
                        ],
                        "iteration": 965,
                        "passed_time": 148.5157748,
                        "remaining_time": 5.227263296,
                        "test": [
                          0.5471190462,
                          0.7620615841
                        ]
                      },
                      {
                        "learn": [
                          0.5115596216,
                          0.7923358114
                        ],
                        "iteration": 966,
                        "passed_time": 148.6995243,
                        "remaining_time": 5.074544261,
                        "test": [
                          0.5471051722,
                          0.7621087315
                        ]
                      },
                      {
                        "learn": [
                          0.5115248966,
                          0.7924660067
                        ],
                        "iteration": 967,
                        "passed_time": 148.7911856,
                        "remaining_time": 4.918716878,
                        "test": [
                          0.5470820904,
                          0.7623909106
                        ]
                      },
                      {
                        "learn": [
                          0.5115032376,
                          0.7924163996
                        ],
                        "iteration": 968,
                        "passed_time": 148.9124377,
                        "remaining_time": 4.763968595,
                        "test": [
                          0.5470929684,
                          0.7622734761
                        ]
                      },
                      {
                        "learn": [
                          0.5114569709,
                          0.7924125472
                        ],
                        "iteration": 969,
                        "passed_time": 149.0091262,
                        "remaining_time": 4.608529677,
                        "test": [
                          0.5471050471,
                          0.762516469
                        ]
                      },
                      {
                        "learn": [
                          0.5114511249,
                          0.7924195138
                        ],
                        "iteration": 970,
                        "passed_time": 149.1435638,
                        "remaining_time": 4.454339186,
                        "test": [
                          0.5471174828,
                          0.762516469
                        ]
                      },
                      {
                        "learn": [
                          0.5114111284,
                          0.7923304319
                        ],
                        "iteration": 971,
                        "passed_time": 149.2781788,
                        "remaining_time": 4.300194452,
                        "test": [
                          0.5471304436,
                          0.7626811594
                        ]
                      },
                      {
                        "learn": [
                          0.5113893353,
                          0.7925326542
                        ],
                        "iteration": 972,
                        "passed_time": 149.3995707,
                        "remaining_time": 4.145722928,
                        "test": [
                          0.5471196705,
                          0.7624382208
                        ]
                      },
                      {
                        "learn": [
                          0.5113683131,
                          0.7925411755
                        ],
                        "iteration": 973,
                        "passed_time": 149.5529077,
                        "remaining_time": 3.992172075,
                        "test": [
                          0.5471353956,
                          0.7626029654
                        ]
                      },
                      {
                        "learn": [
                          0.5112996615,
                          0.7926288109
                        ],
                        "iteration": 974,
                        "passed_time": 149.7229586,
                        "remaining_time": 3.839050221,
                        "test": [
                          0.547177641,
                          0.7621007573
                        ]
                      },
                      {
                        "learn": [
                          0.5112962529,
                          0.7926613798
                        ],
                        "iteration": 975,
                        "passed_time": 149.8956613,
                        "remaining_time": 3.685958884,
                        "test": [
                          0.5471780644,
                          0.7621007573
                        ]
                      },
                      {
                        "learn": [
                          0.511274028,
                          0.7926939513
                        ],
                        "iteration": 976,
                        "passed_time": 150.0058118,
                        "remaining_time": 3.531354831,
                        "test": [
                          0.5471876897,
                          0.7620615841
                        ]
                      },
                      {
                        "learn": [
                          0.5112420265,
                          0.7927109869
                        ],
                        "iteration": 977,
                        "passed_time": 150.1466258,
                        "remaining_time": 3.377531459,
                        "test": [
                          0.5471876002,
                          0.7620615841
                        ]
                      },
                      {
                        "learn": [
                          0.5112071407,
                          0.7926954521
                        ],
                        "iteration": 978,
                        "passed_time": 150.2899998,
                        "remaining_time": 3.223789576,
                        "test": [
                          0.5471934708,
                          0.7619753086
                        ]
                      },
                      {
                        "learn": [
                          0.5112006687,
                          0.7927124841
                        ],
                        "iteration": 979,
                        "passed_time": 150.419532,
                        "remaining_time": 3.069786366,
                        "test": [
                          0.5471893177,
                          0.7619753086
                        ]
                      },
                      {
                        "learn": [
                          0.511169264,
                          0.7926954521
                        ],
                        "iteration": 980,
                        "passed_time": 150.5485295,
                        "remaining_time": 2.915822692,
                        "test": [
                          0.5471947424,
                          0.7619753086
                        ]
                      },
                      {
                        "learn": [
                          0.5111213684,
                          0.7925411755
                        ],
                        "iteration": 981,
                        "passed_time": 150.6639363,
                        "remaining_time": 2.761660747,
                        "test": [
                          0.5472130926,
                          0.7619753086
                        ]
                      },
                      {
                        "learn": [
                          0.5110977875,
                          0.7926869351
                        ],
                        "iteration": 982,
                        "passed_time": 150.8600928,
                        "remaining_time": 2.608974138,
                        "test": [
                          0.5472067146,
                          0.7619753086
                        ]
                      },
                      {
                        "learn": [
                          0.5110677782,
                          0.792793163
                        ],
                        "iteration": 983,
                        "passed_time": 151.0122689,
                        "remaining_time": 2.455484047,
                        "test": [
                          0.5472139404,
                          0.7618969208
                        ]
                      },
                      {
                        "learn": [
                          0.5110369525,
                          0.792818701
                        ],
                        "iteration": 984,
                        "passed_time": 151.1303459,
                        "remaining_time": 2.301477348,
                        "test": [
                          0.5472483495,
                          0.7618969208
                        ]
                      },
                      {
                        "learn": [
                          0.511019064,
                          0.7928116656
                        ],
                        "iteration": 985,
                        "passed_time": 151.2268579,
                        "remaining_time": 2.147237333,
                        "test": [
                          0.5472689505,
                          0.761771485
                        ]
                      },
                      {
                        "learn": [
                          0.5109733718,
                          0.7929674663
                        ],
                        "iteration": 986,
                        "passed_time": 151.3590542,
                        "remaining_time": 1.993584301,
                        "test": [
                          0.5472338291,
                          0.7618969208
                        ]
                      },
                      {
                        "learn": [
                          0.5109478789,
                          0.7929689104
                        ],
                        "iteration": 987,
                        "passed_time": 151.4880611,
                        "remaining_time": 1.839935964,
                        "test": [
                          0.5472242345,
                          0.7618184813
                        ]
                      },
                      {
                        "learn": [
                          0.5109138975,
                          0.793076544
                        ],
                        "iteration": 988,
                        "passed_time": 151.6091635,
                        "remaining_time": 1.686249544,
                        "test": [
                          0.5472174,
                          0.7618184813
                        ]
                      },
                      {
                        "learn": [
                          0.510873976,
                          0.7929859143
                        ],
                        "iteration": 989,
                        "passed_time": 151.6920094,
                        "remaining_time": 1.532242519,
                        "test": [
                          0.5471943561,
                          0.7619518628
                        ]
                      },
                      {
                        "learn": [
                          0.5108542925,
                          0.7930595483
                        ],
                        "iteration": 990,
                        "passed_time": 151.850769,
                        "remaining_time": 1.379068538,
                        "test": [
                          0.5471992628,
                          0.7617792422
                        ]
                      },
                      {
                        "learn": [
                          0.5108135952,
                          0.7931487719
                        ],
                        "iteration": 991,
                        "passed_time": 151.9867086,
                        "remaining_time": 1.225699263,
                        "test": [
                          0.547214147,
                          0.7617399901
                        ]
                      },
                      {
                        "learn": [
                          0.5108044953,
                          0.793116195
                        ],
                        "iteration": 992,
                        "passed_time": 152.1113212,
                        "remaining_time": 1.072285245,
                        "test": [
                          0.5472183793,
                          0.7617792422
                        ]
                      },
                      {
                        "learn": [
                          0.5107898744,
                          0.7931076974
                        ],
                        "iteration": 993,
                        "passed_time": 152.2009463,
                        "remaining_time": 0.918717986,
                        "test": [
                          0.5472182784,
                          0.7617399901
                        ]
                      },
                      {
                        "learn": [
                          0.5107412121,
                          0.7931487719
                        ],
                        "iteration": 994,
                        "passed_time": 152.4843362,
                        "remaining_time": 0.7662529456,
                        "test": [
                          0.5472081853,
                          0.7617399901
                        ]
                      },
                      {
                        "learn": [
                          0.5106916749,
                          0.7932988421
                        ],
                        "iteration": 995,
                        "passed_time": 152.78575,
                        "remaining_time": 0.6135973895,
                        "test": [
                          0.5471931168,
                          0.7617792422
                        ]
                      },
                      {
                        "learn": [
                          0.5106677268,
                          0.7933965751
                        ],
                        "iteration": 996,
                        "passed_time": 153.090037,
                        "remaining_time": 0.4606520672,
                        "test": [
                          0.5471749635,
                          0.7616537638
                        ]
                      },
                      {
                        "learn": [
                          0.5106419236,
                          0.793226601
                        ],
                        "iteration": 997,
                        "passed_time": 153.2921858,
                        "remaining_time": 0.3071987691,
                        "test": [
                          0.5471687062,
                          0.7615675943
                        ]
                      },
                      {
                        "learn": [
                          0.5105979923,
                          0.7933908046
                        ],
                        "iteration": 998,
                        "passed_time": 153.550829,
                        "remaining_time": 0.1537045335,
                        "test": [
                          0.5471736994,
                          0.7614422127
                        ]
                      },
                      {
                        "learn": [
                          0.5105447264,
                          0.7933029669
                        ],
                        "iteration": 999,
                        "passed_time": 153.797933,
                        "remaining_time": 0,
                        "test": [
                          0.5472108681,
                          0.7614890463
                        ]
                      }
                    ],
                    "meta": {
                      "test_sets": [
                        "test"
                      ],
                      "test_metrics": [
                        {
                          "best_value": "Min",
                          "name": "Logloss"
                        },
                        {
                          "best_value": "Max",
                          "name": "Precision"
                        }
                      ],
                      "learn_metrics": [
                        {
                          "best_value": "Min",
                          "name": "Logloss"
                        },
                        {
                          "best_value": "Max",
                          "name": "Precision"
                        }
                      ],
                      "launch_mode": "Train",
                      "parameters": "",
                      "iteration_count": 1000,
                      "learn_sets": [
                        "learn"
                      ],
                      "name": "experiment"
                    }
                  }
                }
              }
            },
            "layout": "IPY_MODEL_5eb1e1d7175e4516b526a64f3088f830"
          }
        }
      }
    }
  },
  "cells": [
    {
      "cell_type": "code",
      "execution_count": null,
      "metadata": {
        "colab": {
          "base_uri": "https://localhost:8080/",
          "height": 206
        },
        "id": "vPjoyJSXq9fv",
        "outputId": "9e2c2e42-1d25-43d4-b9fd-d679ee06e202"
      },
      "outputs": [
        {
          "output_type": "execute_result",
          "data": {
            "text/plain": [
              "   id    age  gender  height  weight  ap_hi  ap_lo  cholesterol  gluc  smoke  \\\n",
              "0   0  18393       2     168    62.0    110     80            1     1      0   \n",
              "1   1  20228       1     156    85.0    140     90            3     1      0   \n",
              "2   2  18857       1     165    64.0    130     70            3     1      0   \n",
              "3   3  17623       2     169    82.0    150    100            1     1      0   \n",
              "4   4  17474       1     156    56.0    100     60            1     1      0   \n",
              "\n",
              "   alco  active  cardio  \n",
              "0     0       1       0  \n",
              "1     0       1       1  \n",
              "2     0       0       1  \n",
              "3     0       1       1  \n",
              "4     0       0       0  "
            ],
            "text/html": [
              "\n",
              "  <div id=\"df-e2e834cb-500e-4796-85cf-eb89abac4ac3\">\n",
              "    <div class=\"colab-df-container\">\n",
              "      <div>\n",
              "<style scoped>\n",
              "    .dataframe tbody tr th:only-of-type {\n",
              "        vertical-align: middle;\n",
              "    }\n",
              "\n",
              "    .dataframe tbody tr th {\n",
              "        vertical-align: top;\n",
              "    }\n",
              "\n",
              "    .dataframe thead th {\n",
              "        text-align: right;\n",
              "    }\n",
              "</style>\n",
              "<table border=\"1\" class=\"dataframe\">\n",
              "  <thead>\n",
              "    <tr style=\"text-align: right;\">\n",
              "      <th></th>\n",
              "      <th>id</th>\n",
              "      <th>age</th>\n",
              "      <th>gender</th>\n",
              "      <th>height</th>\n",
              "      <th>weight</th>\n",
              "      <th>ap_hi</th>\n",
              "      <th>ap_lo</th>\n",
              "      <th>cholesterol</th>\n",
              "      <th>gluc</th>\n",
              "      <th>smoke</th>\n",
              "      <th>alco</th>\n",
              "      <th>active</th>\n",
              "      <th>cardio</th>\n",
              "    </tr>\n",
              "  </thead>\n",
              "  <tbody>\n",
              "    <tr>\n",
              "      <th>0</th>\n",
              "      <td>0</td>\n",
              "      <td>18393</td>\n",
              "      <td>2</td>\n",
              "      <td>168</td>\n",
              "      <td>62.0</td>\n",
              "      <td>110</td>\n",
              "      <td>80</td>\n",
              "      <td>1</td>\n",
              "      <td>1</td>\n",
              "      <td>0</td>\n",
              "      <td>0</td>\n",
              "      <td>1</td>\n",
              "      <td>0</td>\n",
              "    </tr>\n",
              "    <tr>\n",
              "      <th>1</th>\n",
              "      <td>1</td>\n",
              "      <td>20228</td>\n",
              "      <td>1</td>\n",
              "      <td>156</td>\n",
              "      <td>85.0</td>\n",
              "      <td>140</td>\n",
              "      <td>90</td>\n",
              "      <td>3</td>\n",
              "      <td>1</td>\n",
              "      <td>0</td>\n",
              "      <td>0</td>\n",
              "      <td>1</td>\n",
              "      <td>1</td>\n",
              "    </tr>\n",
              "    <tr>\n",
              "      <th>2</th>\n",
              "      <td>2</td>\n",
              "      <td>18857</td>\n",
              "      <td>1</td>\n",
              "      <td>165</td>\n",
              "      <td>64.0</td>\n",
              "      <td>130</td>\n",
              "      <td>70</td>\n",
              "      <td>3</td>\n",
              "      <td>1</td>\n",
              "      <td>0</td>\n",
              "      <td>0</td>\n",
              "      <td>0</td>\n",
              "      <td>1</td>\n",
              "    </tr>\n",
              "    <tr>\n",
              "      <th>3</th>\n",
              "      <td>3</td>\n",
              "      <td>17623</td>\n",
              "      <td>2</td>\n",
              "      <td>169</td>\n",
              "      <td>82.0</td>\n",
              "      <td>150</td>\n",
              "      <td>100</td>\n",
              "      <td>1</td>\n",
              "      <td>1</td>\n",
              "      <td>0</td>\n",
              "      <td>0</td>\n",
              "      <td>1</td>\n",
              "      <td>1</td>\n",
              "    </tr>\n",
              "    <tr>\n",
              "      <th>4</th>\n",
              "      <td>4</td>\n",
              "      <td>17474</td>\n",
              "      <td>1</td>\n",
              "      <td>156</td>\n",
              "      <td>56.0</td>\n",
              "      <td>100</td>\n",
              "      <td>60</td>\n",
              "      <td>1</td>\n",
              "      <td>1</td>\n",
              "      <td>0</td>\n",
              "      <td>0</td>\n",
              "      <td>0</td>\n",
              "      <td>0</td>\n",
              "    </tr>\n",
              "  </tbody>\n",
              "</table>\n",
              "</div>\n",
              "      <button class=\"colab-df-convert\" onclick=\"convertToInteractive('df-e2e834cb-500e-4796-85cf-eb89abac4ac3')\"\n",
              "              title=\"Convert this dataframe to an interactive table.\"\n",
              "              style=\"display:none;\">\n",
              "        \n",
              "  <svg xmlns=\"http://www.w3.org/2000/svg\" height=\"24px\"viewBox=\"0 0 24 24\"\n",
              "       width=\"24px\">\n",
              "    <path d=\"M0 0h24v24H0V0z\" fill=\"none\"/>\n",
              "    <path d=\"M18.56 5.44l.94 2.06.94-2.06 2.06-.94-2.06-.94-.94-2.06-.94 2.06-2.06.94zm-11 1L8.5 8.5l.94-2.06 2.06-.94-2.06-.94L8.5 2.5l-.94 2.06-2.06.94zm10 10l.94 2.06.94-2.06 2.06-.94-2.06-.94-.94-2.06-.94 2.06-2.06.94z\"/><path d=\"M17.41 7.96l-1.37-1.37c-.4-.4-.92-.59-1.43-.59-.52 0-1.04.2-1.43.59L10.3 9.45l-7.72 7.72c-.78.78-.78 2.05 0 2.83L4 21.41c.39.39.9.59 1.41.59.51 0 1.02-.2 1.41-.59l7.78-7.78 2.81-2.81c.8-.78.8-2.07 0-2.86zM5.41 20L4 18.59l7.72-7.72 1.47 1.35L5.41 20z\"/>\n",
              "  </svg>\n",
              "      </button>\n",
              "      \n",
              "  <style>\n",
              "    .colab-df-container {\n",
              "      display:flex;\n",
              "      flex-wrap:wrap;\n",
              "      gap: 12px;\n",
              "    }\n",
              "\n",
              "    .colab-df-convert {\n",
              "      background-color: #E8F0FE;\n",
              "      border: none;\n",
              "      border-radius: 50%;\n",
              "      cursor: pointer;\n",
              "      display: none;\n",
              "      fill: #1967D2;\n",
              "      height: 32px;\n",
              "      padding: 0 0 0 0;\n",
              "      width: 32px;\n",
              "    }\n",
              "\n",
              "    .colab-df-convert:hover {\n",
              "      background-color: #E2EBFA;\n",
              "      box-shadow: 0px 1px 2px rgba(60, 64, 67, 0.3), 0px 1px 3px 1px rgba(60, 64, 67, 0.15);\n",
              "      fill: #174EA6;\n",
              "    }\n",
              "\n",
              "    [theme=dark] .colab-df-convert {\n",
              "      background-color: #3B4455;\n",
              "      fill: #D2E3FC;\n",
              "    }\n",
              "\n",
              "    [theme=dark] .colab-df-convert:hover {\n",
              "      background-color: #434B5C;\n",
              "      box-shadow: 0px 1px 3px 1px rgba(0, 0, 0, 0.15);\n",
              "      filter: drop-shadow(0px 1px 2px rgba(0, 0, 0, 0.3));\n",
              "      fill: #FFFFFF;\n",
              "    }\n",
              "  </style>\n",
              "\n",
              "      <script>\n",
              "        const buttonEl =\n",
              "          document.querySelector('#df-e2e834cb-500e-4796-85cf-eb89abac4ac3 button.colab-df-convert');\n",
              "        buttonEl.style.display =\n",
              "          google.colab.kernel.accessAllowed ? 'block' : 'none';\n",
              "\n",
              "        async function convertToInteractive(key) {\n",
              "          const element = document.querySelector('#df-e2e834cb-500e-4796-85cf-eb89abac4ac3');\n",
              "          const dataTable =\n",
              "            await google.colab.kernel.invokeFunction('convertToInteractive',\n",
              "                                                     [key], {});\n",
              "          if (!dataTable) return;\n",
              "\n",
              "          const docLinkHtml = 'Like what you see? Visit the ' +\n",
              "            '<a target=\"_blank\" href=https://colab.research.google.com/notebooks/data_table.ipynb>data table notebook</a>'\n",
              "            + ' to learn more about interactive tables.';\n",
              "          element.innerHTML = '';\n",
              "          dataTable['output_type'] = 'display_data';\n",
              "          await google.colab.output.renderOutput(dataTable, element);\n",
              "          const docLink = document.createElement('div');\n",
              "          docLink.innerHTML = docLinkHtml;\n",
              "          element.appendChild(docLink);\n",
              "        }\n",
              "      </script>\n",
              "    </div>\n",
              "  </div>\n",
              "  "
            ]
          },
          "metadata": {},
          "execution_count": 26
        }
      ],
      "source": [
        "import pandas as pd\n",
        "\n",
        "url = 'https://raw.githubusercontent.com/GabrielCamargoL/Machine_Learning-FATEC/test/cardio_train.csv'\n",
        "cardio = pd.read_csv(url, sep = ';')\n",
        "cardio.head(5)"
      ]
    },
    {
      "cell_type": "code",
      "source": [
        "cardio.dtypes"
      ],
      "metadata": {
        "colab": {
          "base_uri": "https://localhost:8080/"
        },
        "id": "xDIp6MTKsvTF",
        "outputId": "43589c30-6677-42a8-ad50-6c515aca6a74"
      },
      "execution_count": null,
      "outputs": [
        {
          "output_type": "execute_result",
          "data": {
            "text/plain": [
              "id               int64\n",
              "age              int64\n",
              "gender           int64\n",
              "height           int64\n",
              "weight         float64\n",
              "ap_hi            int64\n",
              "ap_lo            int64\n",
              "cholesterol      int64\n",
              "gluc             int64\n",
              "smoke            int64\n",
              "alco             int64\n",
              "active           int64\n",
              "cardio           int64\n",
              "dtype: object"
            ]
          },
          "metadata": {},
          "execution_count": 27
        }
      ]
    },
    {
      "cell_type": "code",
      "source": [
        "X = cardio.drop(['cardio'], axis=1)\n",
        "y = cardio['cardio']"
      ],
      "metadata": {
        "id": "HeF2O--YuTjh"
      },
      "execution_count": null,
      "outputs": []
    },
    {
      "cell_type": "code",
      "source": [
        "from sklearn.model_selection import train_test_split\n",
        "\n",
        "X_train, X_test, y_train, y_test = train_test_split(X, y, test_size=0.2)"
      ],
      "metadata": {
        "id": "O9iIU7wYsymk"
      },
      "execution_count": null,
      "outputs": []
    },
    {
      "cell_type": "code",
      "source": [
        "!pip install catboost"
      ],
      "metadata": {
        "colab": {
          "base_uri": "https://localhost:8080/"
        },
        "id": "8N8351vAugr_",
        "outputId": "a4526985-04e3-4e81-ecfa-9526688de184"
      },
      "execution_count": null,
      "outputs": [
        {
          "output_type": "stream",
          "name": "stdout",
          "text": [
            "Looking in indexes: https://pypi.org/simple, https://us-python.pkg.dev/colab-wheels/public/simple/\n",
            "Requirement already satisfied: catboost in /usr/local/lib/python3.9/dist-packages (1.1.1)\n",
            "Requirement already satisfied: plotly in /usr/local/lib/python3.9/dist-packages (from catboost) (5.5.0)\n",
            "Requirement already satisfied: numpy>=1.16.0 in /usr/local/lib/python3.9/dist-packages (from catboost) (1.22.4)\n",
            "Requirement already satisfied: scipy in /usr/local/lib/python3.9/dist-packages (from catboost) (1.10.1)\n",
            "Requirement already satisfied: matplotlib in /usr/local/lib/python3.9/dist-packages (from catboost) (3.5.3)\n",
            "Requirement already satisfied: pandas>=0.24.0 in /usr/local/lib/python3.9/dist-packages (from catboost) (1.3.5)\n",
            "Requirement already satisfied: six in /usr/local/lib/python3.9/dist-packages (from catboost) (1.15.0)\n",
            "Requirement already satisfied: graphviz in /usr/local/lib/python3.9/dist-packages (from catboost) (0.10.1)\n",
            "Requirement already satisfied: pytz>=2017.3 in /usr/local/lib/python3.9/dist-packages (from pandas>=0.24.0->catboost) (2022.7.1)\n",
            "Requirement already satisfied: python-dateutil>=2.7.3 in /usr/local/lib/python3.9/dist-packages (from pandas>=0.24.0->catboost) (2.8.2)\n",
            "Requirement already satisfied: pillow>=6.2.0 in /usr/local/lib/python3.9/dist-packages (from matplotlib->catboost) (8.4.0)\n",
            "Requirement already satisfied: cycler>=0.10 in /usr/local/lib/python3.9/dist-packages (from matplotlib->catboost) (0.11.0)\n",
            "Requirement already satisfied: packaging>=20.0 in /usr/local/lib/python3.9/dist-packages (from matplotlib->catboost) (23.0)\n",
            "Requirement already satisfied: kiwisolver>=1.0.1 in /usr/local/lib/python3.9/dist-packages (from matplotlib->catboost) (1.4.4)\n",
            "Requirement already satisfied: fonttools>=4.22.0 in /usr/local/lib/python3.9/dist-packages (from matplotlib->catboost) (4.39.0)\n",
            "Requirement already satisfied: pyparsing>=2.2.1 in /usr/local/lib/python3.9/dist-packages (from matplotlib->catboost) (3.0.9)\n",
            "Requirement already satisfied: tenacity>=6.2.0 in /usr/local/lib/python3.9/dist-packages (from plotly->catboost) (8.2.2)\n"
          ]
        }
      ]
    },
    {
      "cell_type": "code",
      "source": [
        "from catboost import CatBoostClassifier, Pool, metrics, cv\n",
        "from sklearn.metrics import accuracy_score\n",
        "import numpy as np\n",
        "\n",
        "categorical_features_indices = np.where(X.dtypes != float)[0]\n",
        "\n",
        "print(categorical_features_indices)"
      ],
      "metadata": {
        "colab": {
          "base_uri": "https://localhost:8080/"
        },
        "id": "hBIOFjBdul6P",
        "outputId": "f1064bd6-23e7-4d2d-9e64-1336dfdfeab6"
      },
      "execution_count": null,
      "outputs": [
        {
          "output_type": "stream",
          "name": "stdout",
          "text": [
            "[ 0  1  2  3  5  6  7  8  9 10 11]\n"
          ]
        }
      ]
    },
    {
      "cell_type": "code",
      "source": [
        "model = CatBoostClassifier(\n",
        "    custom_loss=[metrics.Precision()],\n",
        "    random_seed=42,\n",
        "    logging_level='Silent'\n",
        ")\n",
        "\n",
        "model.fit(\n",
        "    X_train, y_train,\n",
        "    cat_features=categorical_features_indices,\n",
        "    eval_set=(X_test, y_test),\n",
        "#     logging_level='Verbose',  # you can uncomment this for text output\n",
        "    plot=True\n",
        ");"
      ],
      "metadata": {
        "id": "unb4VhXcupZv",
        "colab": {
          "base_uri": "https://localhost:8080/",
          "height": 17,
          "referenced_widgets": [
            "ef5b7d922b9749eb858499f2c5fed923"
          ]
        },
        "outputId": "f0b59561-033f-4b20-a710-7efdf790b6e8"
      },
      "execution_count": null,
      "outputs": [
        {
          "output_type": "display_data",
          "data": {
            "text/plain": [
              "MetricVisualizer(layout=Layout(align_self='stretch', height='500px'))"
            ],
            "application/vnd.jupyter.widget-view+json": {
              "version_major": 2,
              "version_minor": 0,
              "model_id": "ef5b7d922b9749eb858499f2c5fed923"
            }
          },
          "metadata": {}
        }
      ]
    },
    {
      "cell_type": "code",
      "source": [
        "from sklearn.metrics import accuracy_score, precision_score, confusion_matrix, ConfusionMatrixDisplay\n",
        "\n",
        "# Predição\n",
        "y_pred = model.predict(X_test)\n",
        "\n",
        "# Acurácia\n",
        "acc = accuracy_score(y_test, y_pred)\n",
        "print(\"Acuracy: {:.2f}\".format(acc))\n",
        "\n",
        "# Precisão\n",
        "pre = precision_score(y_test, y_pred, average = 'weighted')\n",
        "print(\"Precision: {:.2f}\".format(pre))\n",
        "\n",
        "# Matriz de confusão\n",
        "print('Matriz de Confusão')\n",
        "cm = confusion_matrix(y_test, y_pred, labels=y_train.unique())\n",
        "disp = ConfusionMatrixDisplay(confusion_matrix=cm, display_labels=y_train.unique())\n",
        "disp.plot()"
      ],
      "metadata": {
        "colab": {
          "base_uri": "https://localhost:8080/",
          "height": 352
        },
        "id": "BNOLa4Ehuynp",
        "outputId": "0f575603-c4b9-4e34-a5ea-5eca78c5df4f"
      },
      "execution_count": null,
      "outputs": [
        {
          "output_type": "stream",
          "name": "stdout",
          "text": [
            "Acurácia: 0.73\n",
            "Precision: 0.73\n",
            "Matriz de Confusão\n"
          ]
        },
        {
          "output_type": "execute_result",
          "data": {
            "text/plain": [
              "<sklearn.metrics._plot.confusion_matrix.ConfusionMatrixDisplay at 0x7f69bf54de50>"
            ]
          },
          "metadata": {},
          "execution_count": 16
        },
        {
          "output_type": "display_data",
          "data": {
            "text/plain": [
              "<Figure size 432x288 with 2 Axes>"
            ],
            "image/png": "[encoded data removed]"
          },
          "metadata": {
            "needs_background": "light"
          }
        }
      ]
    },
    {
      "cell_type": "code",
      "source": [
        "from sklearn.metrics import accuracy_score, precision_score, confusion_matrix, ConfusionMatrixDisplay\n",
        "\n",
        "# Predição\n",
        "y_pred = model.predict(X_test)\n",
        "\n",
        "# Acurácia\n",
        "acc = accuracy_score(y_test, y_pred)\n",
        "print(\"Acuracy: {:.2f}\".format(acc))\n",
        "\n",
        "# Precisão\n",
        "pre = precision_score(y_test, y_pred, average = 'weighted')\n",
        "print(\"Precision: {:.2f}\".format(pre))\n",
        "\n",
        "# Matriz de confusão\n",
        "print('Matriz de Confusão')\n",
        "cm = confusion_matrix(y_test, y_pred, labels=y_train.unique())\n",
        "disp = ConfusionMatrixDisplay(confusion_matrix=cm, display_labels=y_train.unique())\n",
        "disp.plot()"
      ],
      "metadata": {
        "id": "h7Juw_u7zQMT"
      },
      "execution_count": null,
      "outputs": []
    }
  ]
}